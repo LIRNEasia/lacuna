{
 "cells": [
  {
   "attachments": {},
   "cell_type": "markdown",
   "metadata": {},
   "source": [
    "# Exploring the Survey data\n",
    "## Survey one"
   ]
  },
  {
   "cell_type": "code",
   "execution_count": 1,
   "metadata": {},
   "outputs": [],
   "source": [
    "import pandas as pd\n",
    "from sqlalchemy import create_engine"
   ]
  },
  {
   "attachments": {},
   "cell_type": "markdown",
   "metadata": {},
   "source": [
    "#### Creating an engine to read data from postgres"
   ]
  },
  {
   "cell_type": "code",
   "execution_count": 2,
   "metadata": {},
   "outputs": [],
   "source": [
    "username = 'postgres'\n",
    "password = 'balcombe08'\n",
    "host = 'localhost' # 123.231.15.124 if running the code on a local machine\n",
    "port = '5432'  # Postgres port\n",
    "database = 'lacuna'\n",
    "\n",
    "#Create an engine instance\n",
    "engine = create_engine(f'postgresql+psycopg2://{username}:{password}@{host}:{port}/{database}')"
   ]
  },
  {
   "cell_type": "code",
   "execution_count": null,
   "metadata": {},
   "outputs": [],
   "source": [
    "# General query\n",
    "\n",
    "query = 'SELECT * FROM raw.survey_wave_1'\n",
    "\n",
    "df = pd.read_sql_query(query, engine)"
   ]
  },
  {
   "attachments": {},
   "cell_type": "markdown",
   "metadata": {},
   "source": [
    "#### Converting .SAV files to .CSV"
   ]
  },
  {
   "cell_type": "code",
   "execution_count": 6,
   "metadata": {},
   "outputs": [],
   "source": [
    "data = pd.read_spss(\"/lirneasia/projects/lacuna/data/raw/Survey_data/LECO_ElectricityUsage_(Client Data)_W1.SAV\")\n",
    "data.to_csv(\"/lirneasia/projects/lacuna/data/raw/Survey_data/LECO_ElectricityUsage_(Client Data)_W1.csv\", index=False)"
   ]
  },
  {
   "attachments": {},
   "cell_type": "markdown",
   "metadata": {},
   "source": [
    "#### Reading survey data in a low memory mode"
   ]
  },
  {
   "cell_type": "code",
   "execution_count": 3,
   "metadata": {},
   "outputs": [],
   "source": [
    "data = pd.read_csv(\"/lirneasia/data/lacuna/raw/Survey_data/Survey_wave_1_may_29.csv\", low_memory=False)"
   ]
  },
  {
   "attachments": {},
   "cell_type": "markdown",
   "metadata": {},
   "source": [
    "#### To generate data dictionaries"
   ]
  },
  {
   "cell_type": "code",
   "execution_count": 10,
   "metadata": {},
   "outputs": [],
   "source": [
    "field_id = 1\n",
    "\n",
    "with open(\"wave_1.txt\", \"w\") as file:\n",
    "    for col in data.columns:\n",
    "        text = f\"'{col}': '{field_id}',\"\n",
    "        file.write(text + \"\\n\")\n",
    "        field_id += 1\n",
    "\n",
    "#activating .venv\n",
    "# go to /lirneasia/projects/lacuna and source .venv/bin/activate"
   ]
  },
  {
   "cell_type": "code",
   "execution_count": 4,
   "metadata": {},
   "outputs": [],
   "source": [
    "field_id = 1\n",
    "\n",
    "with open(\"wave_1.txt\", \"w\") as file:\n",
    "    for col in data.columns:\n",
    "        text = f\"'{col}',\"\n",
    "        file.write(text + \"\\n\")\n",
    "        field_id += 1"
   ]
  },
  {
   "attachments": {},
   "cell_type": "markdown",
   "metadata": {},
   "source": [
    "### Altering household identifier table"
   ]
  },
  {
   "cell_type": "code",
   "execution_count": null,
   "metadata": {},
   "outputs": [],
   "source": [
    "# General query\n",
    "\n",
    "query = 'SELECT * FROM raw.survey_wave_1'\n",
    "\n",
    "df = pd.read_sql_query(query, engine)"
   ]
  }
 ],
 "metadata": {
  "kernelspec": {
   "display_name": "base",
   "language": "python",
   "name": "python3"
  },
  "language_info": {
   "codemirror_mode": {
    "name": "ipython",
    "version": 3
   },
   "file_extension": ".py",
   "mimetype": "text/x-python",
   "name": "python",
   "nbconvert_exporter": "python",
   "pygments_lexer": "ipython3",
   "version": "3.10.12"
  },
  "orig_nbformat": 4
 },
 "nbformat": 4,
 "nbformat_minor": 2
}
