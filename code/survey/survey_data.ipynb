{
 "cells": [
  {
   "attachments": {},
   "cell_type": "markdown",
   "metadata": {},
   "source": [
    "## Converting .SAV to CSV"
   ]
  },
  {
   "cell_type": "code",
   "execution_count": 2,
   "metadata": {},
   "outputs": [],
   "source": [
    "import pandas as pd"
   ]
  },
  {
   "cell_type": "code",
   "execution_count": 6,
   "metadata": {},
   "outputs": [],
   "source": [
    "data = pd.read_spss(\"/lirneasia/projects/lacuna/data/raw/Survey_data/LECO_ElectricityUsage_(Client Data)_W1.SAV\")\n",
    "data.to_csv(\"/lirneasia/projects/lacuna/data/raw/Survey_data/LECO_ElectricityUsage_(Client Data)_W1.csv\", index=False)"
   ]
  },
  {
   "cell_type": "code",
   "execution_count": 4,
   "metadata": {},
   "outputs": [],
   "source": [
    "data = pd.read_csv(\"/lirneasia/data/lacuna/raw/Survey_data/Survey_wave_1_may_29.csv\", low_memory=False)"
   ]
  },
  {
   "cell_type": "code",
   "execution_count": 10,
   "metadata": {},
   "outputs": [],
   "source": [
    "field_id = 1\n",
    "\n",
    "with open(\"wave_1.txt\", \"w\") as file:\n",
    "    for col in data.columns:\n",
    "        text = f\"'{col}': '{field_id}',\"\n",
    "        file.write(text + \"\\n\")\n",
    "        field_id += 1\n",
    "\n",
    "\n",
    "\n",
    "#activating .venv\n",
    "# go to /lirneasia/projects/lacuna and source .venv/bin/activate"
   ]
  }
 ],
 "metadata": {
  "kernelspec": {
   "display_name": "base",
   "language": "python",
   "name": "python3"
  },
  "language_info": {
   "codemirror_mode": {
    "name": "ipython",
    "version": 3
   },
   "file_extension": ".py",
   "mimetype": "text/x-python",
   "name": "python",
   "nbconvert_exporter": "python",
   "pygments_lexer": "ipython3",
   "version": "3.11.5"
  },
  "orig_nbformat": 4
 },
 "nbformat": 4,
 "nbformat_minor": 2
}
