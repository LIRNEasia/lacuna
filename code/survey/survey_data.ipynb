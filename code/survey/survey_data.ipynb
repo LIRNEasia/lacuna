{
 "cells": [
  {
   "attachments": {},
   "cell_type": "markdown",
   "metadata": {},
   "source": [
    "## Converting .SAV to CSV"
   ]
  },
  {
   "cell_type": "code",
   "execution_count": 1,
   "metadata": {},
   "outputs": [],
   "source": [
    "import pandas as pd"
   ]
  },
  {
   "cell_type": "code",
   "execution_count": 6,
   "metadata": {},
   "outputs": [],
   "source": [
    "data = pd.read_spss(\"/lirneasia/projects/lacuna/data/raw/Survey_data/LECO_ElectricityUsage_(Client Data)_W1.SAV\")\n",
    "data.to_csv(\"/lirneasia/projects/lacuna/data/raw/Survey_data/LECO_ElectricityUsage_(Client Data)_W1.csv\", index=False)"
   ]
  },
  {
   "cell_type": "code",
   "execution_count": 3,
   "metadata": {},
   "outputs": [
    {
     "name": "stderr",
     "output_type": "stream",
     "text": [
      "/tmp/ipykernel_9549/1940491548.py:1: DtypeWarning: Columns (5,17,31,36,50,53,56,59,87,88,89,90,117,118,119,120,132,133,134,135,147,148,149,150,162,163,164,165,177,178,179,180,192,193,194,195,207,208,209,210,226,228,230,232,250,251,252,253,254,265,266,267,268,269,280,281,282,283,284,310,311,312,313,314,323,324,326,338,339,340,341,342,343,344,345,346,347,348,349,350,351,352,353,354,355,356,357,358,359,407,408,1042,1070,1098,1126,1154,1182,1210,1238,1266,1294,1322,1350,1378,1406,1449,1464,1479,1719,1720,1726,2519,2547,2575,2603,2631,2659,2687,2715,2743,2771,2799,2827,2855,2883,2911,2939,2982,2997,3012,3252,3253,3255,3256,3259,3261,3262,3996,4024,4052,4080,4108,4136,4164,4192,4220,4248,4276,4304,4332,4360,4388,4416,4444,4472,4515,4530,4545,4785,4786,4788,4789,4791,4792,4794,4795,4797,5529,5557,5585,5613,5641,5669,5697,5725,5753,5781,5809,5837,5865,5893,5921,5949,5977,6005,6048,6063,6078,7062,7090,7118,7146,7174,7202,7230,7258,7286,7314,7342,7370,7398,7426,7454,7482,7510,7538,7581,7596,7611,7851,7852,7854,7858,7860,8595,8623,8651,8679,8707,8735,8763,8791,8819,8847,8875,8903,8931,8959,8987,9015,9043,9071,9099,9114,9129,9144,9384,9385,9391,10128,10156,10184,10212,10240,10268,10296,10324,10352,10380,10408,10436,10464,10492,10520,10548,10576,10604,10632,10647,10662,10677,10692,10707,10722,10737,10917,10918,10924,11627,11628,11661,11689,11717,11745,11773,11801,11829,11857,11885,11913,11941,11969,11997,12025,12053,12081,12109,12137,12165,12180,12195,12210,12450,12451,12453,12455,12457,12459,12461,13160,13161,13194,13222,13250,13278,13306,13334,13362,13390,13418,13446,13474,13502,13530,13558,13698,13713,13728,13743,13983,13986,13992,14686,14688,14689,14690,14693,14694,14695,14699,14727,14755,14783,14811,14839,14867,14895,14923,14951,14979,15007,15035,15063,15091,15231,15246,15261,15276,15516,15519,15525,16219,16221,16222,16223,16226,16227,16228,16232,16260,16288,16316,16344,16764,17049,17052,17058,17086,17089,17095,17123,17126,17132,17752,17754,17755,17756,17759,17760,17761,17765,17793,17821,17849,17877,17905,18297,18582,18585,18591,19285,19287,19288,19289,19292,19293,19294,19298,19326,19354,19382,19410,19438,19466,19830,20115,20118,20119,20124,20125,20818,20820,20821,20822,20825,20826,20827,20831,20859,20887,20915,20943,21648,21651,21657,22351,22353,22354,22355,22358,22359,22360,22364,22392,22420,22896,23884,23886,23887,23888,23891,23892,23893,23897,23925,23953,24429,24714,24717,24723,25417,25419,25420,25421,25424,25425,25426,25430,25458,25486,25514,25542,25962,26247,26250,26256,26950,26952,26953,26954,26957,26958,26959,26963,26991,27019,27780,27783,27789,28483,28485,28486,28487,28490,28491,28492,28496,28524,28552,29313,29316,29322,30016,30018,30019,30020,30023,30024,30025,30029,30057,30085,30846,30849,30855,31550,31551,31573,31575,31576,31577,31580,31581,31582,31586,31614,31642,31670,31698,33106,33108,33109,33110,33115,33119,62240,62241,62242,62249,62251,62255,62256,62262,62272,62294,62295,62296,62300,62301,62302,62303,62313) have mixed types. Specify dtype option on import or set low_memory=False.\n",
      "  data = pd.read_csv(\"/lirneasia/projects/lacuna/data/raw/Survey_data/LECO_ElectricityUsage_(Client Data)_W1.csv\", nrows=100)\n"
     ]
    }
   ],
   "source": [
    "data = pd.read_csv(\"/lirneasia/projects/lacuna/data/raw/Survey_data/LECO_ElectricityUsage_(Client Data)_W1.csv\", nrows=100)"
   ]
  },
  {
   "cell_type": "code",
   "execution_count": 8,
   "metadata": {},
   "outputs": [],
   "source": [
    "pd.set_option('display.max_rows', 500)"
   ]
  },
  {
   "cell_type": "code",
   "execution_count": 9,
   "metadata": {},
   "outputs": [
    {
     "data": {
      "text/html": [
       "<div>\n",
       "<style scoped>\n",
       "    .dataframe tbody tr th:only-of-type {\n",
       "        vertical-align: middle;\n",
       "    }\n",
       "\n",
       "    .dataframe tbody tr th {\n",
       "        vertical-align: top;\n",
       "    }\n",
       "\n",
       "    .dataframe thead th {\n",
       "        text-align: right;\n",
       "    }\n",
       "</style>\n",
       "<table border=\"1\" class=\"dataframe\">\n",
       "  <thead>\n",
       "    <tr style=\"text-align: right;\">\n",
       "      <th></th>\n",
       "      <th>0</th>\n",
       "    </tr>\n",
       "  </thead>\n",
       "  <tbody>\n",
       "    <tr>\n",
       "      <th>SERIALNO</th>\n",
       "      <td>194742308.0</td>\n",
       "    </tr>\n",
       "    <tr>\n",
       "      <th>UniqueID</th>\n",
       "      <td>GAL005073</td>\n",
       "    </tr>\n",
       "    <tr>\n",
       "      <th>T_PData_1</th>\n",
       "      <td>SOMAWANTHA M H T R*</td>\n",
       "    </tr>\n",
       "    <tr>\n",
       "      <th>T_PData_2</th>\n",
       "      <td>09 MALWATTA TEMPLE RD* DANGEDARA GALLE* GALLE*</td>\n",
       "    </tr>\n",
       "    <tr>\n",
       "      <th>T_PData_3</th>\n",
       "      <td>NaN</td>\n",
       "    </tr>\n",
       "    <tr>\n",
       "      <th>...</th>\n",
       "      <td>...</td>\n",
       "    </tr>\n",
       "    <tr>\n",
       "      <th>GPS_LA</th>\n",
       "      <td>6.050143</td>\n",
       "    </tr>\n",
       "    <tr>\n",
       "      <th>GPS_LO</th>\n",
       "      <td>80.219056</td>\n",
       "    </tr>\n",
       "    <tr>\n",
       "      <th>District</th>\n",
       "      <td>Galle</td>\n",
       "    </tr>\n",
       "    <tr>\n",
       "      <th>INT_ID</th>\n",
       "      <td>NaN</td>\n",
       "    </tr>\n",
       "    <tr>\n",
       "      <th>DUR_TTL</th>\n",
       "      <td>53.0</td>\n",
       "    </tr>\n",
       "  </tbody>\n",
       "</table>\n",
       "<p>62315 rows × 1 columns</p>\n",
       "</div>"
      ],
      "text/plain": [
       "                                                        0\n",
       "SERIALNO                                      194742308.0\n",
       "UniqueID                                        GAL005073\n",
       "T_PData_1                             SOMAWANTHA M H T R*\n",
       "T_PData_2  09 MALWATTA TEMPLE RD* DANGEDARA GALLE* GALLE*\n",
       "T_PData_3                                             NaN\n",
       "...                                                   ...\n",
       "GPS_LA                                           6.050143\n",
       "GPS_LO                                          80.219056\n",
       "District                                            Galle\n",
       "INT_ID                                                NaN\n",
       "DUR_TTL                                              53.0\n",
       "\n",
       "[62315 rows x 1 columns]"
      ]
     },
     "execution_count": 9,
     "metadata": {},
     "output_type": "execute_result"
    }
   ],
   "source": [
    "data.head(1).T"
   ]
  },
  {
   "cell_type": "code",
   "execution_count": 10,
   "metadata": {},
   "outputs": [],
   "source": [
    "field_id = 1\n",
    "\n",
    "with open(\"wave_1.txt\", \"w\") as file:\n",
    "    for col in data.columns:\n",
    "        text = f\"'{col}': '{field_id}',\"\n",
    "        file.write(text + \"\\n\")\n",
    "        field_id += 1\n",
    "\n",
    "\n",
    "\n",
    "#activating .venv\n",
    "# go to /lirneasia/projects/lacuna and source .venv/bin/activate"
   ]
  },
  
 ],
 "metadata": {
  "kernelspec": {
   "display_name": "cdr2",
   "language": "python",
   "name": "cdr2"
  },
  "language_info": {
   "codemirror_mode": {
    "name": "ipython",
    "version": 3
   },
   "file_extension": ".py",
   "mimetype": "text/x-python",
   "name": "python",
   "nbconvert_exporter": "python",
   "pygments_lexer": "ipython3",
   "version": "3.11.7"
  },
  "orig_nbformat": 4
 },
 "nbformat": 4,
 "nbformat_minor": 2
}
