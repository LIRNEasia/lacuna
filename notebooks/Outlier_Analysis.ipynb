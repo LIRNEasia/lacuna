{
 "cells": [
  {
   "cell_type": "markdown",
   "metadata": {},
   "source": [
    "### Required Libraries"
   ]
  },
  {
   "cell_type": "code",
   "execution_count": 114,
   "metadata": {},
   "outputs": [
    {
     "name": "stdout",
     "output_type": "stream",
     "text": [
      "Defaulting to user installation because normal site-packages is not writeable\n",
      "Requirement already satisfied: seaborn in /home/pasindu/.local/lib/python3.10/site-packages (0.13.2)\n",
      "Requirement already satisfied: numpy!=1.24.0,>=1.20 in /home/pasindu/.local/lib/python3.10/site-packages (from seaborn) (1.26.4)\n",
      "Requirement already satisfied: matplotlib!=3.6.1,>=3.4 in /home/pasindu/.local/lib/python3.10/site-packages (from seaborn) (3.9.2)\n",
      "Requirement already satisfied: pandas>=1.2 in /home/pasindu/.local/lib/python3.10/site-packages (from seaborn) (2.2.2)\n",
      "Requirement already satisfied: kiwisolver>=1.3.1 in /home/pasindu/.local/lib/python3.10/site-packages (from matplotlib!=3.6.1,>=3.4->seaborn) (1.4.5)\n",
      "Requirement already satisfied: fonttools>=4.22.0 in /home/pasindu/.local/lib/python3.10/site-packages (from matplotlib!=3.6.1,>=3.4->seaborn) (4.53.1)\n",
      "Requirement already satisfied: cycler>=0.10 in /home/pasindu/.local/lib/python3.10/site-packages (from matplotlib!=3.6.1,>=3.4->seaborn) (0.12.1)\n",
      "Requirement already satisfied: python-dateutil>=2.7 in /home/pasindu/.local/lib/python3.10/site-packages (from matplotlib!=3.6.1,>=3.4->seaborn) (2.9.0.post0)\n",
      "Requirement already satisfied: packaging>=20.0 in /home/pasindu/.local/lib/python3.10/site-packages (from matplotlib!=3.6.1,>=3.4->seaborn) (24.1)\n",
      "Requirement already satisfied: pillow>=8 in /home/pasindu/.local/lib/python3.10/site-packages (from matplotlib!=3.6.1,>=3.4->seaborn) (10.4.0)\n",
      "Requirement already satisfied: pyparsing>=2.3.1 in /home/pasindu/.local/lib/python3.10/site-packages (from matplotlib!=3.6.1,>=3.4->seaborn) (3.1.2)\n",
      "Requirement already satisfied: contourpy>=1.0.1 in /home/pasindu/.local/lib/python3.10/site-packages (from matplotlib!=3.6.1,>=3.4->seaborn) (1.2.1)\n",
      "Requirement already satisfied: tzdata>=2022.7 in /home/pasindu/.local/lib/python3.10/site-packages (from pandas>=1.2->seaborn) (2024.1)\n",
      "Requirement already satisfied: pytz>=2020.1 in /home/pasindu/.local/lib/python3.10/site-packages (from pandas>=1.2->seaborn) (2024.1)\n",
      "Requirement already satisfied: six>=1.5 in /home/pasindu/.local/lib/python3.10/site-packages (from python-dateutil>=2.7->matplotlib!=3.6.1,>=3.4->seaborn) (1.16.0)\n",
      "Note: you may need to restart the kernel to use updated packages.\n",
      "Defaulting to user installation because normal site-packages is not writeable\n",
      "Requirement already satisfied: matplotlib in /home/pasindu/.local/lib/python3.10/site-packages (3.9.2)\n",
      "Requirement already satisfied: numpy>=1.23 in /home/pasindu/.local/lib/python3.10/site-packages (from matplotlib) (1.26.4)\n",
      "Requirement already satisfied: pillow>=8 in /home/pasindu/.local/lib/python3.10/site-packages (from matplotlib) (10.4.0)\n",
      "Requirement already satisfied: cycler>=0.10 in /home/pasindu/.local/lib/python3.10/site-packages (from matplotlib) (0.12.1)\n",
      "Requirement already satisfied: fonttools>=4.22.0 in /home/pasindu/.local/lib/python3.10/site-packages (from matplotlib) (4.53.1)\n",
      "Requirement already satisfied: pyparsing>=2.3.1 in /home/pasindu/.local/lib/python3.10/site-packages (from matplotlib) (3.1.2)\n",
      "Requirement already satisfied: kiwisolver>=1.3.1 in /home/pasindu/.local/lib/python3.10/site-packages (from matplotlib) (1.4.5)\n",
      "Requirement already satisfied: packaging>=20.0 in /home/pasindu/.local/lib/python3.10/site-packages (from matplotlib) (24.1)\n",
      "Requirement already satisfied: contourpy>=1.0.1 in /home/pasindu/.local/lib/python3.10/site-packages (from matplotlib) (1.2.1)\n",
      "Requirement already satisfied: python-dateutil>=2.7 in /home/pasindu/.local/lib/python3.10/site-packages (from matplotlib) (2.9.0.post0)\n",
      "Requirement already satisfied: six>=1.5 in /home/pasindu/.local/lib/python3.10/site-packages (from python-dateutil>=2.7->matplotlib) (1.16.0)\n",
      "Note: you may need to restart the kernel to use updated packages.\n",
      "Defaulting to user installation because normal site-packages is not writeable\n",
      "Requirement already satisfied: pandas in /home/pasindu/.local/lib/python3.10/site-packages (2.2.2)\n",
      "Requirement already satisfied: tzdata>=2022.7 in /home/pasindu/.local/lib/python3.10/site-packages (from pandas) (2024.1)\n",
      "Requirement already satisfied: numpy>=1.22.4 in /home/pasindu/.local/lib/python3.10/site-packages (from pandas) (1.26.4)\n",
      "Requirement already satisfied: pytz>=2020.1 in /home/pasindu/.local/lib/python3.10/site-packages (from pandas) (2024.1)\n",
      "Requirement already satisfied: python-dateutil>=2.8.2 in /home/pasindu/.local/lib/python3.10/site-packages (from pandas) (2.9.0.post0)\n",
      "Requirement already satisfied: six>=1.5 in /home/pasindu/.local/lib/python3.10/site-packages (from python-dateutil>=2.8.2->pandas) (1.16.0)\n",
      "Note: you may need to restart the kernel to use updated packages.\n",
      "Defaulting to user installation because normal site-packages is not writeable\n",
      "Requirement already satisfied: numpy in /home/pasindu/.local/lib/python3.10/site-packages (1.26.4)\n",
      "Note: you may need to restart the kernel to use updated packages.\n",
      "Defaulting to user installation because normal site-packages is not writeable\n",
      "Requirement already satisfied: scikit-learn in /home/pasindu/.local/lib/python3.10/site-packages (1.5.1)\n",
      "Requirement already satisfied: scipy>=1.6.0 in /home/pasindu/.local/lib/python3.10/site-packages (from scikit-learn) (1.14.0)\n",
      "Requirement already satisfied: joblib>=1.2.0 in /home/pasindu/.local/lib/python3.10/site-packages (from scikit-learn) (1.4.2)\n",
      "Requirement already satisfied: threadpoolctl>=3.1.0 in /home/pasindu/.local/lib/python3.10/site-packages (from scikit-learn) (3.5.0)\n",
      "Requirement already satisfied: numpy>=1.19.5 in /home/pasindu/.local/lib/python3.10/site-packages (from scikit-learn) (1.26.4)\n",
      "Note: you may need to restart the kernel to use updated packages.\n",
      "Defaulting to user installation because normal site-packages is not writeable\n",
      "Requirement already satisfied: scipy in /home/pasindu/.local/lib/python3.10/site-packages (1.14.0)\n",
      "Requirement already satisfied: numpy<2.3,>=1.23.5 in /home/pasindu/.local/lib/python3.10/site-packages (from scipy) (1.26.4)\n",
      "Note: you may need to restart the kernel to use updated packages.\n",
      "Defaulting to user installation because normal site-packages is not writeable\n",
      "Requirement already satisfied: matplotlib in /home/pasindu/.local/lib/python3.10/site-packages (3.9.2)\n",
      "Requirement already satisfied: fonttools>=4.22.0 in /home/pasindu/.local/lib/python3.10/site-packages (from matplotlib) (4.53.1)\n",
      "Requirement already satisfied: numpy>=1.23 in /home/pasindu/.local/lib/python3.10/site-packages (from matplotlib) (1.26.4)\n",
      "Requirement already satisfied: kiwisolver>=1.3.1 in /home/pasindu/.local/lib/python3.10/site-packages (from matplotlib) (1.4.5)\n",
      "Requirement already satisfied: packaging>=20.0 in /home/pasindu/.local/lib/python3.10/site-packages (from matplotlib) (24.1)\n",
      "Requirement already satisfied: python-dateutil>=2.7 in /home/pasindu/.local/lib/python3.10/site-packages (from matplotlib) (2.9.0.post0)\n",
      "Requirement already satisfied: cycler>=0.10 in /home/pasindu/.local/lib/python3.10/site-packages (from matplotlib) (0.12.1)\n",
      "Requirement already satisfied: pyparsing>=2.3.1 in /home/pasindu/.local/lib/python3.10/site-packages (from matplotlib) (3.1.2)\n",
      "Requirement already satisfied: pillow>=8 in /home/pasindu/.local/lib/python3.10/site-packages (from matplotlib) (10.4.0)\n",
      "Requirement already satisfied: contourpy>=1.0.1 in /home/pasindu/.local/lib/python3.10/site-packages (from matplotlib) (1.2.1)\n",
      "Requirement already satisfied: six>=1.5 in /home/pasindu/.local/lib/python3.10/site-packages (from python-dateutil>=2.7->matplotlib) (1.16.0)\n",
      "Note: you may need to restart the kernel to use updated packages.\n"
     ]
    }
   ],
   "source": [
    "%pip install seaborn\n",
    "%pip install matplotlib\n",
    "%pip install pandas\n",
    "%pip install numpy\n",
    "%pip install scikit-learn\n",
    "%pip install scipy\n",
    "%pip install --upgrade matplotlib"
   ]
  },
  {
   "cell_type": "markdown",
   "metadata": {},
   "source": [
    "### Importing Libraries and Dataset"
   ]
  },
  {
   "cell_type": "code",
   "execution_count": 115,
   "metadata": {},
   "outputs": [],
   "source": [
    "import pandas as pd\n",
    "from sklearn.preprocessing import StandardScaler, OneHotEncoder\n",
    "from sklearn.cluster import KMeans\n",
    "from sklearn.pipeline import Pipeline\n",
    "from sklearn.compose import ColumnTransformer\n",
    "from sklearn.decomposition import PCA\n",
    "import matplotlib.pyplot as plt\n",
    "import seaborn as sns\n",
    "import os\n",
    "import numpy as np"
   ]
  },
  {
   "cell_type": "code",
   "execution_count": 116,
   "metadata": {},
   "outputs": [],
   "source": [
    "leco_all = pd.DataFrame()\n",
    "root_folder = '/lirneasia/data/lacuna/processed/sm_april_2024_dump'\n",
    "directory = os.path.join(root_folder)\n",
    "\n",
    "if os.path.exists(directory):\n",
    "    files = os.listdir(directory)\n",
    "\n",
    "    for file_name in files:\n",
    "        if file_name.endswith('.csv'):\n",
    "            file_path = os.path.join(root_folder, file_name)\n",
    "                \n",
    "            leco_data = pd.read_csv(file_path, low_memory=False)\n",
    "\n",
    "            leco_all = pd.concat([leco_all, leco_data], ignore_index=False)\n",
    "\n",
    "else:\n",
    "    print(\"path wrong\") \n",
    "\n",
    "survey_data = pd.read_csv('/lirneasia/data/lacuna/raw/Survey_data/Survey_wave_1_may_29.csv', low_memory=False)"
   ]
  },
  {
   "cell_type": "markdown",
   "metadata": {},
   "source": [
    "### Data Processing"
   ]
  },
  {
   "cell_type": "code",
   "execution_count": 117,
   "metadata": {},
   "outputs": [],
   "source": [
    "leco_all['datetime'] = pd.to_datetime(leco_all['date'] + ' ' + leco_all['time'])\n",
    "leco_all = leco_all.drop(columns=['date', 'time'])\n",
    "leco_all = leco_all.sort_values(by=['customerref', 'datetime'])"
   ]
  },
  {
   "cell_type": "code",
   "execution_count": 118,
   "metadata": {},
   "outputs": [],
   "source": [
    "leco_all['consumption'] = leco_all.groupby('customerref')['importkwh(kwh)'].diff().fillna(0)\n",
    "leco_all['export'] = leco_all.groupby('customerref')['exportkwh(kwh)'].diff().fillna(0)\n",
    "\n",
    "leco_all = leco_all[leco_all['consumption'] >= 0]\n",
    "leco_all = leco_all[leco_all['export'] >= 0]"
   ]
  },
  {
   "cell_type": "code",
   "execution_count": 119,
   "metadata": {},
   "outputs": [],
   "source": [
    "#Monthly consumption\n",
    "monthly_consumption = leco_all.set_index('datetime').groupby('customerref')['consumption'].resample('ME').sum().reset_index()"
   ]
  },
  {
   "cell_type": "code",
   "execution_count": 120,
   "metadata": {},
   "outputs": [
    {
     "data": {
      "text/html": [
       "<div>\n",
       "<style scoped>\n",
       "    .dataframe tbody tr th:only-of-type {\n",
       "        vertical-align: middle;\n",
       "    }\n",
       "\n",
       "    .dataframe tbody tr th {\n",
       "        vertical-align: top;\n",
       "    }\n",
       "\n",
       "    .dataframe thead th {\n",
       "        text-align: right;\n",
       "    }\n",
       "</style>\n",
       "<table border=\"1\" class=\"dataframe\">\n",
       "  <thead>\n",
       "    <tr style=\"text-align: right;\">\n",
       "      <th></th>\n",
       "      <th>customerref</th>\n",
       "      <th>datetime</th>\n",
       "      <th>consumption</th>\n",
       "    </tr>\n",
       "  </thead>\n",
       "  <tbody>\n",
       "    <tr>\n",
       "      <th>5214</th>\n",
       "      <td>708250510</td>\n",
       "      <td>2024-01-31</td>\n",
       "      <td>34.2040</td>\n",
       "    </tr>\n",
       "    <tr>\n",
       "      <th>5215</th>\n",
       "      <td>708311604</td>\n",
       "      <td>2023-10-31</td>\n",
       "      <td>2.8380</td>\n",
       "    </tr>\n",
       "    <tr>\n",
       "      <th>5216</th>\n",
       "      <td>708311604</td>\n",
       "      <td>2023-11-30</td>\n",
       "      <td>29.9680</td>\n",
       "    </tr>\n",
       "    <tr>\n",
       "      <th>5217</th>\n",
       "      <td>708311604</td>\n",
       "      <td>2023-12-31</td>\n",
       "      <td>12.5570</td>\n",
       "    </tr>\n",
       "    <tr>\n",
       "      <th>5218</th>\n",
       "      <td>708311604</td>\n",
       "      <td>2024-01-31</td>\n",
       "      <td>19.7031</td>\n",
       "    </tr>\n",
       "    <tr>\n",
       "      <th>5219</th>\n",
       "      <td>708358409</td>\n",
       "      <td>2023-10-31</td>\n",
       "      <td>65.3900</td>\n",
       "    </tr>\n",
       "    <tr>\n",
       "      <th>5220</th>\n",
       "      <td>708358409</td>\n",
       "      <td>2023-11-30</td>\n",
       "      <td>135.7240</td>\n",
       "    </tr>\n",
       "    <tr>\n",
       "      <th>5221</th>\n",
       "      <td>708446805</td>\n",
       "      <td>2023-10-31</td>\n",
       "      <td>36.1950</td>\n",
       "    </tr>\n",
       "    <tr>\n",
       "      <th>5222</th>\n",
       "      <td>708446805</td>\n",
       "      <td>2023-11-30</td>\n",
       "      <td>317.1450</td>\n",
       "    </tr>\n",
       "    <tr>\n",
       "      <th>5223</th>\n",
       "      <td>708446805</td>\n",
       "      <td>2023-12-31</td>\n",
       "      <td>131.6760</td>\n",
       "    </tr>\n",
       "    <tr>\n",
       "      <th>5224</th>\n",
       "      <td>708512409</td>\n",
       "      <td>2023-10-31</td>\n",
       "      <td>3.8330</td>\n",
       "    </tr>\n",
       "    <tr>\n",
       "      <th>5225</th>\n",
       "      <td>708512409</td>\n",
       "      <td>2023-11-30</td>\n",
       "      <td>72.7050</td>\n",
       "    </tr>\n",
       "    <tr>\n",
       "      <th>5226</th>\n",
       "      <td>708512409</td>\n",
       "      <td>2023-12-31</td>\n",
       "      <td>30.6950</td>\n",
       "    </tr>\n",
       "    <tr>\n",
       "      <th>5227</th>\n",
       "      <td>708773307</td>\n",
       "      <td>2023-10-31</td>\n",
       "      <td>164.3200</td>\n",
       "    </tr>\n",
       "    <tr>\n",
       "      <th>5228</th>\n",
       "      <td>708773307</td>\n",
       "      <td>2023-11-30</td>\n",
       "      <td>0.0000</td>\n",
       "    </tr>\n",
       "    <tr>\n",
       "      <th>5229</th>\n",
       "      <td>708773307</td>\n",
       "      <td>2023-12-31</td>\n",
       "      <td>300.3830</td>\n",
       "    </tr>\n",
       "    <tr>\n",
       "      <th>5230</th>\n",
       "      <td>708773307</td>\n",
       "      <td>2024-01-31</td>\n",
       "      <td>1.6120</td>\n",
       "    </tr>\n",
       "    <tr>\n",
       "      <th>5231</th>\n",
       "      <td>708793602</td>\n",
       "      <td>2023-10-31</td>\n",
       "      <td>10.9720</td>\n",
       "    </tr>\n",
       "    <tr>\n",
       "      <th>5232</th>\n",
       "      <td>708793602</td>\n",
       "      <td>2023-11-30</td>\n",
       "      <td>59.5970</td>\n",
       "    </tr>\n",
       "    <tr>\n",
       "      <th>5233</th>\n",
       "      <td>708793602</td>\n",
       "      <td>2023-12-31</td>\n",
       "      <td>41.5960</td>\n",
       "    </tr>\n",
       "  </tbody>\n",
       "</table>\n",
       "</div>"
      ],
      "text/plain": [
       "      customerref   datetime  consumption\n",
       "5214    708250510 2024-01-31      34.2040\n",
       "5215    708311604 2023-10-31       2.8380\n",
       "5216    708311604 2023-11-30      29.9680\n",
       "5217    708311604 2023-12-31      12.5570\n",
       "5218    708311604 2024-01-31      19.7031\n",
       "5219    708358409 2023-10-31      65.3900\n",
       "5220    708358409 2023-11-30     135.7240\n",
       "5221    708446805 2023-10-31      36.1950\n",
       "5222    708446805 2023-11-30     317.1450\n",
       "5223    708446805 2023-12-31     131.6760\n",
       "5224    708512409 2023-10-31       3.8330\n",
       "5225    708512409 2023-11-30      72.7050\n",
       "5226    708512409 2023-12-31      30.6950\n",
       "5227    708773307 2023-10-31     164.3200\n",
       "5228    708773307 2023-11-30       0.0000\n",
       "5229    708773307 2023-12-31     300.3830\n",
       "5230    708773307 2024-01-31       1.6120\n",
       "5231    708793602 2023-10-31      10.9720\n",
       "5232    708793602 2023-11-30      59.5970\n",
       "5233    708793602 2023-12-31      41.5960"
      ]
     },
     "execution_count": 120,
     "metadata": {},
     "output_type": "execute_result"
    }
   ],
   "source": [
    "monthly_consumption.tail(20)"
   ]
  },
  {
   "cell_type": "code",
   "execution_count": 121,
   "metadata": {},
   "outputs": [
    {
     "data": {
      "text/html": [
       "<div>\n",
       "<style scoped>\n",
       "    .dataframe tbody tr th:only-of-type {\n",
       "        vertical-align: middle;\n",
       "    }\n",
       "\n",
       "    .dataframe tbody tr th {\n",
       "        vertical-align: top;\n",
       "    }\n",
       "\n",
       "    .dataframe thead th {\n",
       "        text-align: right;\n",
       "    }\n",
       "</style>\n",
       "<table border=\"1\" class=\"dataframe\">\n",
       "  <thead>\n",
       "    <tr style=\"text-align: right;\">\n",
       "      <th></th>\n",
       "      <th>customerref</th>\n",
       "      <th>datetime</th>\n",
       "      <th>consumption</th>\n",
       "    </tr>\n",
       "  </thead>\n",
       "  <tbody>\n",
       "    <tr>\n",
       "      <th>1</th>\n",
       "      <td>101261710</td>\n",
       "      <td>2023-11-30</td>\n",
       "      <td>100.1420</td>\n",
       "    </tr>\n",
       "    <tr>\n",
       "      <th>5</th>\n",
       "      <td>101490906</td>\n",
       "      <td>2023-11-30</td>\n",
       "      <td>90.9220</td>\n",
       "    </tr>\n",
       "    <tr>\n",
       "      <th>9</th>\n",
       "      <td>101502005</td>\n",
       "      <td>2023-11-30</td>\n",
       "      <td>100.4509</td>\n",
       "    </tr>\n",
       "    <tr>\n",
       "      <th>13</th>\n",
       "      <td>101837010</td>\n",
       "      <td>2023-11-30</td>\n",
       "      <td>57.2870</td>\n",
       "    </tr>\n",
       "    <tr>\n",
       "      <th>17</th>\n",
       "      <td>103091604</td>\n",
       "      <td>2023-11-30</td>\n",
       "      <td>29.0810</td>\n",
       "    </tr>\n",
       "    <tr>\n",
       "      <th>...</th>\n",
       "      <td>...</td>\n",
       "      <td>...</td>\n",
       "      <td>...</td>\n",
       "    </tr>\n",
       "    <tr>\n",
       "      <th>5220</th>\n",
       "      <td>708358409</td>\n",
       "      <td>2023-11-30</td>\n",
       "      <td>135.7240</td>\n",
       "    </tr>\n",
       "    <tr>\n",
       "      <th>5222</th>\n",
       "      <td>708446805</td>\n",
       "      <td>2023-11-30</td>\n",
       "      <td>317.1450</td>\n",
       "    </tr>\n",
       "    <tr>\n",
       "      <th>5225</th>\n",
       "      <td>708512409</td>\n",
       "      <td>2023-11-30</td>\n",
       "      <td>72.7050</td>\n",
       "    </tr>\n",
       "    <tr>\n",
       "      <th>5228</th>\n",
       "      <td>708773307</td>\n",
       "      <td>2023-11-30</td>\n",
       "      <td>0.0000</td>\n",
       "    </tr>\n",
       "    <tr>\n",
       "      <th>5232</th>\n",
       "      <td>708793602</td>\n",
       "      <td>2023-11-30</td>\n",
       "      <td>59.5970</td>\n",
       "    </tr>\n",
       "  </tbody>\n",
       "</table>\n",
       "<p>888 rows × 3 columns</p>\n",
       "</div>"
      ],
      "text/plain": [
       "      customerref   datetime  consumption\n",
       "1       101261710 2023-11-30     100.1420\n",
       "5       101490906 2023-11-30      90.9220\n",
       "9       101502005 2023-11-30     100.4509\n",
       "13      101837010 2023-11-30      57.2870\n",
       "17      103091604 2023-11-30      29.0810\n",
       "...           ...        ...          ...\n",
       "5220    708358409 2023-11-30     135.7240\n",
       "5222    708446805 2023-11-30     317.1450\n",
       "5225    708512409 2023-11-30      72.7050\n",
       "5228    708773307 2023-11-30       0.0000\n",
       "5232    708793602 2023-11-30      59.5970\n",
       "\n",
       "[888 rows x 3 columns]"
      ]
     },
     "execution_count": 121,
     "metadata": {},
     "output_type": "execute_result"
    }
   ],
   "source": [
    "monthly_consumption = monthly_consumption[monthly_consumption['datetime'] == '2023-11-30']\n",
    "monthly_consumption"
   ]
  },
  {
   "cell_type": "code",
   "execution_count": 122,
   "metadata": {},
   "outputs": [],
   "source": [
    "sm = leco_all.drop_duplicates(subset=['customerref'])\n",
    "merged = pd.merge(sm, survey_data, left_on='customerref', right_on='ACCOUNT_NO', how='inner')"
   ]
  },
  {
   "cell_type": "code",
   "execution_count": 123,
   "metadata": {},
   "outputs": [
    {
     "data": {
      "text/html": [
       "<div>\n",
       "<style scoped>\n",
       "    .dataframe tbody tr th:only-of-type {\n",
       "        vertical-align: middle;\n",
       "    }\n",
       "\n",
       "    .dataframe tbody tr th {\n",
       "        vertical-align: top;\n",
       "    }\n",
       "\n",
       "    .dataframe thead th {\n",
       "        text-align: right;\n",
       "    }\n",
       "</style>\n",
       "<table border=\"1\" class=\"dataframe\">\n",
       "  <thead>\n",
       "    <tr style=\"text-align: right;\">\n",
       "      <th></th>\n",
       "      <th>serial</th>\n",
       "      <th>customerref</th>\n",
       "      <th>timestamp</th>\n",
       "      <th>obis</th>\n",
       "      <th>importkwh(kwh)</th>\n",
       "      <th>exportkwh(kwh)</th>\n",
       "      <th>importkvarh(kvarh)</th>\n",
       "      <th>exportkvarh(kvarh)</th>\n",
       "      <th>phaseainstcurrent(a)</th>\n",
       "      <th>phasebinstcurrent(a)</th>\n",
       "      <th>...</th>\n",
       "      <th>Sawing_Machine_availability</th>\n",
       "      <th>Wood_Chipping_Machine_availability</th>\n",
       "      <th>Concrete_Mixture_Machine_availability</th>\n",
       "      <th>Hair_Cutting_Machine_availability</th>\n",
       "      <th>Generator_Battery_availability</th>\n",
       "      <th>Bouth_availability</th>\n",
       "      <th>Grill_availability</th>\n",
       "      <th>LA_Unique_ID</th>\n",
       "      <th>datetime_y</th>\n",
       "      <th>consumption_y</th>\n",
       "    </tr>\n",
       "  </thead>\n",
       "  <tbody>\n",
       "    <tr>\n",
       "      <th>0</th>\n",
       "      <td>22732556</td>\n",
       "      <td>101261710</td>\n",
       "      <td>1.698520e+12</td>\n",
       "      <td>LP</td>\n",
       "      <td>139.232</td>\n",
       "      <td>0.0000</td>\n",
       "      <td>NaN</td>\n",
       "      <td>NaN</td>\n",
       "      <td>0.4121</td>\n",
       "      <td>NaN</td>\n",
       "      <td>...</td>\n",
       "      <td>0.0</td>\n",
       "      <td>0.0</td>\n",
       "      <td>0.0</td>\n",
       "      <td>0.0</td>\n",
       "      <td>0.0</td>\n",
       "      <td>0.0</td>\n",
       "      <td>0.0</td>\n",
       "      <td>10101261710</td>\n",
       "      <td>2023-11-30</td>\n",
       "      <td>100.1420</td>\n",
       "    </tr>\n",
       "    <tr>\n",
       "      <th>1</th>\n",
       "      <td>21721253</td>\n",
       "      <td>200134110</td>\n",
       "      <td>1.698550e+12</td>\n",
       "      <td>LP</td>\n",
       "      <td>1574.864</td>\n",
       "      <td>3412.9090</td>\n",
       "      <td>NaN</td>\n",
       "      <td>NaN</td>\n",
       "      <td>NaN</td>\n",
       "      <td>NaN</td>\n",
       "      <td>...</td>\n",
       "      <td>0.0</td>\n",
       "      <td>0.0</td>\n",
       "      <td>0.0</td>\n",
       "      <td>0.0</td>\n",
       "      <td>0.0</td>\n",
       "      <td>0.0</td>\n",
       "      <td>0.0</td>\n",
       "      <td>10200134110</td>\n",
       "      <td>2023-11-30</td>\n",
       "      <td>135.2330</td>\n",
       "    </tr>\n",
       "    <tr>\n",
       "      <th>2</th>\n",
       "      <td>20708313</td>\n",
       "      <td>200700907</td>\n",
       "      <td>1.698530e+12</td>\n",
       "      <td>LP</td>\n",
       "      <td>3508.694</td>\n",
       "      <td>15727.3080</td>\n",
       "      <td>NaN</td>\n",
       "      <td>NaN</td>\n",
       "      <td>NaN</td>\n",
       "      <td>NaN</td>\n",
       "      <td>...</td>\n",
       "      <td>0.0</td>\n",
       "      <td>0.0</td>\n",
       "      <td>0.0</td>\n",
       "      <td>0.0</td>\n",
       "      <td>0.0</td>\n",
       "      <td>0.0</td>\n",
       "      <td>0.0</td>\n",
       "      <td>10200700907</td>\n",
       "      <td>2023-11-30</td>\n",
       "      <td>132.1351</td>\n",
       "    </tr>\n",
       "    <tr>\n",
       "      <th>3</th>\n",
       "      <td>20708610</td>\n",
       "      <td>201661801</td>\n",
       "      <td>1.698540e+12</td>\n",
       "      <td>LP</td>\n",
       "      <td>2774.710</td>\n",
       "      <td>7651.4091</td>\n",
       "      <td>NaN</td>\n",
       "      <td>NaN</td>\n",
       "      <td>NaN</td>\n",
       "      <td>NaN</td>\n",
       "      <td>...</td>\n",
       "      <td>0.0</td>\n",
       "      <td>0.0</td>\n",
       "      <td>0.0</td>\n",
       "      <td>0.0</td>\n",
       "      <td>0.0</td>\n",
       "      <td>0.0</td>\n",
       "      <td>0.0</td>\n",
       "      <td>10201661801</td>\n",
       "      <td>2023-11-30</td>\n",
       "      <td>136.9181</td>\n",
       "    </tr>\n",
       "    <tr>\n",
       "      <th>4</th>\n",
       "      <td>21721146</td>\n",
       "      <td>201929002</td>\n",
       "      <td>1.698550e+12</td>\n",
       "      <td>LP</td>\n",
       "      <td>2591.833</td>\n",
       "      <td>0.0010</td>\n",
       "      <td>NaN</td>\n",
       "      <td>NaN</td>\n",
       "      <td>NaN</td>\n",
       "      <td>NaN</td>\n",
       "      <td>...</td>\n",
       "      <td>0.0</td>\n",
       "      <td>0.0</td>\n",
       "      <td>0.0</td>\n",
       "      <td>0.0</td>\n",
       "      <td>0.0</td>\n",
       "      <td>0.0</td>\n",
       "      <td>0.0</td>\n",
       "      <td>10201929002</td>\n",
       "      <td>2023-11-30</td>\n",
       "      <td>141.3410</td>\n",
       "    </tr>\n",
       "    <tr>\n",
       "      <th>...</th>\n",
       "      <td>...</td>\n",
       "      <td>...</td>\n",
       "      <td>...</td>\n",
       "      <td>...</td>\n",
       "      <td>...</td>\n",
       "      <td>...</td>\n",
       "      <td>...</td>\n",
       "      <td>...</td>\n",
       "      <td>...</td>\n",
       "      <td>...</td>\n",
       "      <td>...</td>\n",
       "      <td>...</td>\n",
       "      <td>...</td>\n",
       "      <td>...</td>\n",
       "      <td>...</td>\n",
       "      <td>...</td>\n",
       "      <td>...</td>\n",
       "      <td>...</td>\n",
       "      <td>...</td>\n",
       "      <td>...</td>\n",
       "      <td>...</td>\n",
       "    </tr>\n",
       "    <tr>\n",
       "      <th>279</th>\n",
       "      <td>22730366</td>\n",
       "      <td>707123802</td>\n",
       "      <td>1.698530e+12</td>\n",
       "      <td>LP</td>\n",
       "      <td>33.020</td>\n",
       "      <td>0.0010</td>\n",
       "      <td>NaN</td>\n",
       "      <td>NaN</td>\n",
       "      <td>0.2320</td>\n",
       "      <td>NaN</td>\n",
       "      <td>...</td>\n",
       "      <td>0.0</td>\n",
       "      <td>0.0</td>\n",
       "      <td>0.0</td>\n",
       "      <td>0.0</td>\n",
       "      <td>0.0</td>\n",
       "      <td>0.0</td>\n",
       "      <td>0.0</td>\n",
       "      <td>10707123802</td>\n",
       "      <td>2023-11-30</td>\n",
       "      <td>29.9420</td>\n",
       "    </tr>\n",
       "    <tr>\n",
       "      <th>280</th>\n",
       "      <td>23706149</td>\n",
       "      <td>707182311</td>\n",
       "      <td>1.697080e+12</td>\n",
       "      <td>LP</td>\n",
       "      <td>0.000</td>\n",
       "      <td>0.0000</td>\n",
       "      <td>NaN</td>\n",
       "      <td>NaN</td>\n",
       "      <td>0.0270</td>\n",
       "      <td>NaN</td>\n",
       "      <td>...</td>\n",
       "      <td>0.0</td>\n",
       "      <td>0.0</td>\n",
       "      <td>0.0</td>\n",
       "      <td>0.0</td>\n",
       "      <td>0.0</td>\n",
       "      <td>0.0</td>\n",
       "      <td>0.0</td>\n",
       "      <td>10707182311</td>\n",
       "      <td>2023-11-30</td>\n",
       "      <td>245.9330</td>\n",
       "    </tr>\n",
       "    <tr>\n",
       "      <th>281</th>\n",
       "      <td>22729794</td>\n",
       "      <td>707436301</td>\n",
       "      <td>1.698530e+12</td>\n",
       "      <td>LP</td>\n",
       "      <td>292.258</td>\n",
       "      <td>0.0000</td>\n",
       "      <td>NaN</td>\n",
       "      <td>NaN</td>\n",
       "      <td>NaN</td>\n",
       "      <td>NaN</td>\n",
       "      <td>...</td>\n",
       "      <td>0.0</td>\n",
       "      <td>0.0</td>\n",
       "      <td>0.0</td>\n",
       "      <td>0.0</td>\n",
       "      <td>0.0</td>\n",
       "      <td>0.0</td>\n",
       "      <td>0.0</td>\n",
       "      <td>10707436301</td>\n",
       "      <td>2023-11-30</td>\n",
       "      <td>144.8160</td>\n",
       "    </tr>\n",
       "    <tr>\n",
       "      <th>282</th>\n",
       "      <td>22711706</td>\n",
       "      <td>708512409</td>\n",
       "      <td>1.698540e+12</td>\n",
       "      <td>LP</td>\n",
       "      <td>373.652</td>\n",
       "      <td>0.0000</td>\n",
       "      <td>NaN</td>\n",
       "      <td>NaN</td>\n",
       "      <td>NaN</td>\n",
       "      <td>NaN</td>\n",
       "      <td>...</td>\n",
       "      <td>0.0</td>\n",
       "      <td>0.0</td>\n",
       "      <td>0.0</td>\n",
       "      <td>0.0</td>\n",
       "      <td>0.0</td>\n",
       "      <td>0.0</td>\n",
       "      <td>0.0</td>\n",
       "      <td>10708512409</td>\n",
       "      <td>2023-11-30</td>\n",
       "      <td>72.7050</td>\n",
       "    </tr>\n",
       "    <tr>\n",
       "      <th>283</th>\n",
       "      <td>22725108</td>\n",
       "      <td>708793602</td>\n",
       "      <td>1.698540e+12</td>\n",
       "      <td>LP</td>\n",
       "      <td>186.489</td>\n",
       "      <td>0.0000</td>\n",
       "      <td>NaN</td>\n",
       "      <td>NaN</td>\n",
       "      <td>NaN</td>\n",
       "      <td>NaN</td>\n",
       "      <td>...</td>\n",
       "      <td>0.0</td>\n",
       "      <td>0.0</td>\n",
       "      <td>0.0</td>\n",
       "      <td>0.0</td>\n",
       "      <td>0.0</td>\n",
       "      <td>0.0</td>\n",
       "      <td>0.0</td>\n",
       "      <td>10708793602</td>\n",
       "      <td>2023-11-30</td>\n",
       "      <td>59.5970</td>\n",
       "    </tr>\n",
       "  </tbody>\n",
       "</table>\n",
       "<p>284 rows × 831 columns</p>\n",
       "</div>"
      ],
      "text/plain": [
       "       serial  customerref     timestamp obis  importkwh(kwh)  exportkwh(kwh)  \\\n",
       "0    22732556    101261710  1.698520e+12   LP         139.232          0.0000   \n",
       "1    21721253    200134110  1.698550e+12   LP        1574.864       3412.9090   \n",
       "2    20708313    200700907  1.698530e+12   LP        3508.694      15727.3080   \n",
       "3    20708610    201661801  1.698540e+12   LP        2774.710       7651.4091   \n",
       "4    21721146    201929002  1.698550e+12   LP        2591.833          0.0010   \n",
       "..        ...          ...           ...  ...             ...             ...   \n",
       "279  22730366    707123802  1.698530e+12   LP          33.020          0.0010   \n",
       "280  23706149    707182311  1.697080e+12   LP           0.000          0.0000   \n",
       "281  22729794    707436301  1.698530e+12   LP         292.258          0.0000   \n",
       "282  22711706    708512409  1.698540e+12   LP         373.652          0.0000   \n",
       "283  22725108    708793602  1.698540e+12   LP         186.489          0.0000   \n",
       "\n",
       "     importkvarh(kvarh)  exportkvarh(kvarh)  phaseainstcurrent(a)  \\\n",
       "0                   NaN                 NaN                0.4121   \n",
       "1                   NaN                 NaN                   NaN   \n",
       "2                   NaN                 NaN                   NaN   \n",
       "3                   NaN                 NaN                   NaN   \n",
       "4                   NaN                 NaN                   NaN   \n",
       "..                  ...                 ...                   ...   \n",
       "279                 NaN                 NaN                0.2320   \n",
       "280                 NaN                 NaN                0.0270   \n",
       "281                 NaN                 NaN                   NaN   \n",
       "282                 NaN                 NaN                   NaN   \n",
       "283                 NaN                 NaN                   NaN   \n",
       "\n",
       "     phasebinstcurrent(a)  ...  Sawing_Machine_availability  \\\n",
       "0                     NaN  ...                          0.0   \n",
       "1                     NaN  ...                          0.0   \n",
       "2                     NaN  ...                          0.0   \n",
       "3                     NaN  ...                          0.0   \n",
       "4                     NaN  ...                          0.0   \n",
       "..                    ...  ...                          ...   \n",
       "279                   NaN  ...                          0.0   \n",
       "280                   NaN  ...                          0.0   \n",
       "281                   NaN  ...                          0.0   \n",
       "282                   NaN  ...                          0.0   \n",
       "283                   NaN  ...                          0.0   \n",
       "\n",
       "     Wood_Chipping_Machine_availability  \\\n",
       "0                                   0.0   \n",
       "1                                   0.0   \n",
       "2                                   0.0   \n",
       "3                                   0.0   \n",
       "4                                   0.0   \n",
       "..                                  ...   \n",
       "279                                 0.0   \n",
       "280                                 0.0   \n",
       "281                                 0.0   \n",
       "282                                 0.0   \n",
       "283                                 0.0   \n",
       "\n",
       "     Concrete_Mixture_Machine_availability  Hair_Cutting_Machine_availability  \\\n",
       "0                                      0.0                                0.0   \n",
       "1                                      0.0                                0.0   \n",
       "2                                      0.0                                0.0   \n",
       "3                                      0.0                                0.0   \n",
       "4                                      0.0                                0.0   \n",
       "..                                     ...                                ...   \n",
       "279                                    0.0                                0.0   \n",
       "280                                    0.0                                0.0   \n",
       "281                                    0.0                                0.0   \n",
       "282                                    0.0                                0.0   \n",
       "283                                    0.0                                0.0   \n",
       "\n",
       "     Generator_Battery_availability  Bouth_availability  Grill_availability  \\\n",
       "0                               0.0                 0.0                 0.0   \n",
       "1                               0.0                 0.0                 0.0   \n",
       "2                               0.0                 0.0                 0.0   \n",
       "3                               0.0                 0.0                 0.0   \n",
       "4                               0.0                 0.0                 0.0   \n",
       "..                              ...                 ...                 ...   \n",
       "279                             0.0                 0.0                 0.0   \n",
       "280                             0.0                 0.0                 0.0   \n",
       "281                             0.0                 0.0                 0.0   \n",
       "282                             0.0                 0.0                 0.0   \n",
       "283                             0.0                 0.0                 0.0   \n",
       "\n",
       "     LA_Unique_ID  datetime_y  consumption_y  \n",
       "0     10101261710  2023-11-30       100.1420  \n",
       "1     10200134110  2023-11-30       135.2330  \n",
       "2     10200700907  2023-11-30       132.1351  \n",
       "3     10201661801  2023-11-30       136.9181  \n",
       "4     10201929002  2023-11-30       141.3410  \n",
       "..            ...         ...            ...  \n",
       "279   10707123802  2023-11-30        29.9420  \n",
       "280   10707182311  2023-11-30       245.9330  \n",
       "281   10707436301  2023-11-30       144.8160  \n",
       "282   10708512409  2023-11-30        72.7050  \n",
       "283   10708793602  2023-11-30        59.5970  \n",
       "\n",
       "[284 rows x 831 columns]"
      ]
     },
     "execution_count": 123,
     "metadata": {},
     "output_type": "execute_result"
    }
   ],
   "source": [
    "merged = pd.merge(merged, monthly_consumption, left_on='customerref', right_on='customerref', how='inner')\n",
    "merged"
   ]
  },
  {
   "cell_type": "code",
   "execution_count": 124,
   "metadata": {},
   "outputs": [],
   "source": [
    "merged.columns = merged.columns.str.strip().str.lower().str.replace(' ', '_')"
   ]
  },
  {
   "cell_type": "code",
   "execution_count": 125,
   "metadata": {},
   "outputs": [],
   "source": [
    "# Handling erroneous data\n",
    "merged = merged[merged['w1_h_4'] <= 5000000]\n",
    "merged = merged[merged['w1_b_8'] <= 20000]\n",
    "merged['w1_b_7'] = merged['w1_b_7'].replace(' ', 0)\n",
    "merged['w1_b_7'] = merged['w1_b_7'].astype(int)\n",
    "merged['w1_h_4'] = merged['w1_h_4'].replace(3500000, 350000)\n",
    "\n",
    "merged['totroomoth'] = merged['totroomoth'].replace(' ', 0)\n",
    "merged['totroomoth'] = merged['totroomoth'].astype(int)\n",
    "merged['totroom'] = merged['totroom'] + merged['totroomoth']\n",
    "merged = merged[merged['totroom'] <= 30]\n"
   ]
  },
  {
   "cell_type": "code",
   "execution_count": 126,
   "metadata": {},
   "outputs": [
    {
     "name": "stdout",
     "output_type": "stream",
     "text": [
      "<Compressed Sparse Row sparse matrix of dtype 'float64'\n",
      "\twith 1624 stored elements and shape (232, 25)>\n",
      "  Coords\tValues\n",
      "  (0, 0)\t-0.1930228591205457\n",
      "  (0, 1)\t0.08383221630861093\n",
      "  (0, 2)\t1.0118751790313356\n",
      "  (0, 3)\t-0.6082830606165773\n",
      "  (0, 4)\t-0.2046672089461345\n",
      "  (0, 6)\t1.0\n",
      "  (0, 22)\t1.0\n",
      "  (1, 0)\t6.524172638274444\n",
      "  (1, 1)\t-0.9710957622337141\n",
      "  (1, 2)\t-1.1174222498600013\n",
      "  (1, 3)\t-0.6733041028498274\n",
      "  (1, 4)\t-0.7945155626790937\n",
      "  (1, 14)\t1.0\n",
      "  (1, 20)\t1.0\n",
      "  (2, 0)\t-0.1930228591205457\n",
      "  (2, 1)\t-0.6833881317221708\n",
      "  (2, 2)\t-1.1174222498600013\n",
      "  (2, 3)\t-0.7383251450830774\n",
      "  (2, 4)\t-1.384363916412053\n",
      "  (2, 13)\t1.0\n",
      "  (2, 21)\t1.0\n",
      "  (3, 0)\t-0.1930228591205457\n",
      "  (3, 1)\t2.481395803904804\n",
      "  (3, 2)\t-0.05277353541433288\n",
      "  (3, 3)\t1.4723902908474251\n",
      "  :\t:\n",
      "  (228, 3)\t-1.128451398482578\n",
      "  (228, 4)\t-1.0894397395455735\n",
      "  (228, 8)\t1.0\n",
      "  (228, 23)\t1.0\n",
      "  (229, 0)\t-0.1930228591205457\n",
      "  (229, 1)\t0.08383221630861093\n",
      "  (229, 2)\t-0.05277353541433288\n",
      "  (229, 3)\t-0.2181568072170769\n",
      "  (229, 4)\t-0.2046672089461345\n",
      "  (229, 6)\t1.0\n",
      "  (229, 20)\t1.0\n",
      "  (230, 0)\t-0.1930228591205457\n",
      "  (230, 1)\t-0.20387541420293223\n",
      "  (230, 2)\t-0.585097892637167\n",
      "  (230, 3)\t0.09394419550252345\n",
      "  (230, 4)\t0.09025696792034515\n",
      "  (230, 9)\t1.0\n",
      "  (230, 23)\t1.0\n",
      "  (231, 0)\t-0.1930228591205457\n",
      "  (231, 1)\t-0.012070327195236794\n",
      "  (231, 2)\t-1.1174222498600013\n",
      "  (231, 3)\t0.30201153064892367\n",
      "  (231, 4)\t0.3851811447868248\n",
      "  (231, 9)\t1.0\n",
      "  (231, 22)\t1.0\n"
     ]
    }
   ],
   "source": [
    "categorical_features = ['occ', 'edu']\n",
    "\n",
    "numerical_features = ['w1_b_7', 'w1_h_4', 'w1_c_1', 'w1_b_8', 'totroom']\n",
    "\n",
    "for column in numerical_features:\n",
    "    merged[column] = pd.to_numeric(merged[column], errors='coerce')\n",
    "\n",
    "# Handle specific non-numeric entries\n",
    "merged['w1_b_7'] = merged['w1_b_7'].replace(' ', np.nan)\n",
    "\n",
    "# Drop rows with NaN values or fill them with mean/median\n",
    "merged = merged.dropna(subset=numerical_features)\n",
    "\n",
    "# Forward fill and backward fill missing values\n",
    "merged = merged.ffill().bfill()\n",
    "\n",
    "# Additional cleaning step to ensure no empty strings in categorical columns\n",
    "merged[categorical_features] = merged[categorical_features].replace(' ', np.nan).ffill().bfill()\n",
    "\n",
    "# Define the preprocessor\n",
    "preprocessor = ColumnTransformer(\n",
    "    transformers=[\n",
    "        ('num', StandardScaler(), numerical_features),\n",
    "        ('cat', OneHotEncoder(), categorical_features)\n",
    "    ])\n",
    "\n",
    "# Transform the data\n",
    "transformed_features = preprocessor.fit_transform(merged)\n",
    "\n",
    "# Check the transformed features\n",
    "print(transformed_features)"
   ]
  },
  {
   "cell_type": "markdown",
   "metadata": {},
   "source": [
    "### Clustering"
   ]
  },
  {
   "cell_type": "code",
   "execution_count": 127,
   "metadata": {},
   "outputs": [
    {
     "data": {
      "text/plain": [
       "\"\\nconsumption_y - Monthly consumption\\nw1_b_7 - No. of storeys\\nw1_h_4 - Household expenses for last month\\nw1_c_1 - No of household memebers\\nw1_b_8 - floor area of the house\\ntotroom  - Number of rooms\\nocc - Occupation of the chief wage earner\\n    occupation_mapping = {\\n    'Unskilled Worker': 1,\\n    'Skilled Worker': 2,\\n    'Clerk / Salesman grades': 3,\\n    'Supervisor grades': 4,\\n    'Junior executive / Executive': 5,\\n    'Middle and Senior executive': 6,\\n    'Manager / Professional': 7,\\n    'Small Businessman / Self employed (Non professional)': 8,\\n    'Boutique owner': 9,\\n    'Self employed (Professional) - No employees': 10,\\n    '1-9 Employed': 11,\\n    '10+ Employed': 12,\\n    'Agricultural labourer / Worker': 13,\\n    'Tenant cultivator': 14,\\n    'Farmer owning - Less than ½ Acre': 15,\\n    'Farmer owning - ½ - 1 / Acre': 16,\\n    'Farmer owning - 1 - 2 / Acre': 17,\\n    'Farmer owning - 2 - 5 / Acre': 18,\\n    'Farmer owning - Over 5 acres / Landed proprietor': 19\\n}\\n\\nedu - Highest level of education attained by the chief wage earner\\n    education_mapping = {\\n        'Illiterate': 1,\\n        'Primary Education': 2,\\n        'Schooling upto Grade 6 - 9': 3,\\n        'O/L or A/L pending / Passed': 4,\\n        'Diploma with O/L or A/L (Non graduate)': 5,\\n        'Other professional certificates with O/L or A/L / Part qualification (Non graduate)': 6,\\n        'Graduate /Post-Grads/ Degree level professional qualification': 7\\n    }\\n\\n\""
      ]
     },
     "execution_count": 127,
     "metadata": {},
     "output_type": "execute_result"
    }
   ],
   "source": [
    "'''\n",
    "consumption_y - Monthly consumption\n",
    "w1_b_7 - No. of storeys\n",
    "w1_h_4 - Household expenses for last month\n",
    "w1_c_1 - No of household memebers\n",
    "w1_b_8 - floor area of the house\n",
    "totroom  - Number of rooms\n",
    "occ - Occupation of the chief wage earner\n",
    "    occupation_mapping = {\n",
    "    'Unskilled Worker': 1,\n",
    "    'Skilled Worker': 2,\n",
    "    'Clerk / Salesman grades': 3,\n",
    "    'Supervisor grades': 4,\n",
    "    'Junior executive / Executive': 5,\n",
    "    'Middle and Senior executive': 6,\n",
    "    'Manager / Professional': 7,\n",
    "    'Small Businessman / Self employed (Non professional)': 8,\n",
    "    'Boutique owner': 9,\n",
    "    'Self employed (Professional) - No employees': 10,\n",
    "    '1-9 Employed': 11,\n",
    "    '10+ Employed': 12,\n",
    "    'Agricultural labourer / Worker': 13,\n",
    "    'Tenant cultivator': 14,\n",
    "    'Farmer owning - Less than ½ Acre': 15,\n",
    "    'Farmer owning - ½ - 1 / Acre': 16,\n",
    "    'Farmer owning - 1 - 2 / Acre': 17,\n",
    "    'Farmer owning - 2 - 5 / Acre': 18,\n",
    "    'Farmer owning - Over 5 acres / Landed proprietor': 19\n",
    "}\n",
    "\n",
    "edu - Highest level of education attained by the chief wage earner\n",
    "    education_mapping = {\n",
    "        'Illiterate': 1,\n",
    "        'Primary Education': 2,\n",
    "        'Schooling upto Grade 6 - 9': 3,\n",
    "        'O/L or A/L pending / Passed': 4,\n",
    "        'Diploma with O/L or A/L (Non graduate)': 5,\n",
    "        'Other professional certificates with O/L or A/L / Part qualification (Non graduate)': 6,\n",
    "        'Graduate /Post-Grads/ Degree level professional qualification': 7\n",
    "    }\n",
    "\n",
    "'''"
   ]
  },
  {
   "cell_type": "code",
   "execution_count": 128,
   "metadata": {},
   "outputs": [
    {
     "data": {
      "image/png": "[encoded data removed]",
      "text/plain": [
       "<Figure size 720x432 with 1 Axes>"
      ]
     },
     "metadata": {
      "needs_background": "light"
     },
     "output_type": "display_data"
    }
   ],
   "source": [
    "#Elbow Method\n",
    "\n",
    "wcss = []\n",
    "for i in range(1, 11):\n",
    "    kmeans = KMeans(n_clusters=i, random_state=42)\n",
    "    kmeans.fit(transformed_features)\n",
    "    wcss.append(kmeans.inertia_)\n",
    "\n",
    "# Graph: Elbow Method\n",
    "plt.figure(figsize=(10, 6))\n",
    "plt.plot(range(1, 11), wcss, marker='o', linestyle='--')\n",
    "plt.xlabel('Number of Clusters')\n",
    "plt.ylabel('WCSS')\n",
    "plt.title('Elbow Method to Determine Optimal Number of Clusters')\n",
    "plt.show()"
   ]
  },
  {
   "cell_type": "markdown",
   "metadata": {},
   "source": [
    "#### 3 Clusters"
   ]
  },
  {
   "cell_type": "code",
   "execution_count": 129,
   "metadata": {},
   "outputs": [],
   "source": [
    "kmeans_1 = KMeans(n_clusters=3, random_state=42)\n",
    "y_kmeans_1 = kmeans_1.fit_predict(transformed_features)\n",
    "merged['3Cluster'] = y_kmeans_1"
   ]
  },
  {
   "cell_type": "code",
   "execution_count": 130,
   "metadata": {},
   "outputs": [
    {
     "data": {
      "image/png": "[encoded data removed]",
      "text/plain": [
       "<Figure size 1080x576 with 1 Axes>"
      ]
     },
     "metadata": {
      "needs_background": "light"
     },
     "output_type": "display_data"
    }
   ],
   "source": [
    "pca = PCA(n_components=2)\n",
    "principal_components = pca.fit_transform(transformed_features)\n",
    "df_pca = pd.DataFrame(data=principal_components, columns=['PC1', 'PC2'])\n",
    "df_pca['Cluster'] = y_kmeans_1\n",
    "\n",
    "plt.figure(figsize=(15, 8))\n",
    "sns.scatterplot(x='PC1', y='PC2', hue='Cluster', data=df_pca, palette='Set2')\n",
    "plt.title('Clusters of Households')\n",
    "plt.show()"
   ]
  },
  {
   "cell_type": "code",
   "execution_count": 131,
   "metadata": {},
   "outputs": [
    {
     "data": {
      "application/vnd.plotly.v1+json": {
       "config": {
        "plotlyServerURL": "https://plot.ly"
       },
       "data": [
        {
         "hovertemplate": "PC1=%{x}<br>PC2=%{y}<br>PC3=%{z}<br>Cluster=%{marker.color}<extra></extra>",
         "legendgroup": "",
         "marker": {
          "color": [
           1,
           0,
           0,
           2,
           1,
           0,
           2,
           2,
           0,
           2,
           2,
           2,
           0,
           2,
           2,
           2,
           2,
           2,
           0,
           2,
           0,
           2,
           0,
           1,
           0,
           0,
           0,
           1,
           1,
           2,
           0,
           2,
           2,
           0,
           2,
           1,
           0,
           0,
           0,
           1,
           2,
           1,
           0,
           0,
           0,
           0,
           0,
           1,
           1,
           1,
           2,
           1,
           0,
           0,
           1,
           0,
           1,
           2,
           1,
           1,
           1,
           0,
           0,
           1,
           0,
           0,
           0,
           1,
           1,
           1,
           0,
           0,
           0,
           1,
           1,
           0,
           1,
           0,
           2,
           1,
           0,
           1,
           0,
           2,
           0,
           0,
           0,
           1,
           0,
           1,
           0,
           1,
           1,
           1,
           2,
           1,
           0,
           1,
           0,
           1,
           0,
           2,
           0,
           0,
           0,
           1,
           1,
           1,
           0,
           1,
           0,
           0,
           0,
           1,
           0,
           0,
           2,
           0,
           0,
           1,
           1,
           1,
           2,
           0,
           0,
           0,
           1,
           1,
           2,
           1,
           0,
           1,
           1,
           0,
           1,
           2,
           0,
           0,
           0,
           2,
           2,
           2,
           0,
           1,
           0,
           1,
           1,
           1,
           2,
           0,
           0,
           0,
           0,
           0,
           0,
           0,
           1,
           0,
           2,
           0,
           1,
           0,
           2,
           0,
           0,
           1,
           2,
           1,
           1,
           0,
           0,
           0,
           1,
           1,
           1,
           0,
           0,
           0,
           0,
           0,
           1,
           0,
           0,
           0,
           0,
           0,
           0,
           1,
           2,
           1,
           0,
           0,
           0,
           0,
           1,
           1,
           0,
           0,
           0,
           0,
           0,
           0,
           0,
           0,
           0,
           1,
           0,
           0,
           1,
           0,
           1,
           0,
           0,
           0,
           0,
           2,
           1,
           2,
           0,
           0,
           0,
           1,
           2,
           1,
           2,
           0,
           1,
           0,
           0,
           0,
           0,
           0
          ],
          "coloraxis": "coloraxis",
          "symbol": "circle"
         },
         "mode": "markers",
         "name": "",
         "scene": "scene",
         "showlegend": false,
         "type": "scatter3d",
         "x": [
          -0.2741863667872895,
          -0.5004838639620378,
          -1.8215093184873987,
          3.6082541540143187,
          0.5863350011891724,
          -0.3143496787992287,
          3.0391003123214344,
          4.713808145142347,
          0.7231729549178315,
          2.591595850361943,
          1.3713696348218711,
          3.62639814728405,
          -0.5564213979106724,
          2.2488642311575076,
          1.4422155642088703,
          1.1227175453528209,
          1.2315089692167145,
          6.95050235554798,
          -1.587063373734238,
          3.6604602792625207,
          0.4810160250052469,
          1.3279667920120801,
          0.33932808418367233,
          -0.9317147404429917,
          -0.26671340059687787,
          -0.20850932443888706,
          -0.831885078149265,
          -0.6081039405290308,
          -1.2936143343450983,
          2.7065884865901473,
          -1.4950057096521416,
          3.1978556730178633,
          2.7405432182418075,
          -0.7212232649846507,
          2.076938972286773,
          -0.9066324817285824,
          -0.9496529206883785,
          -0.6102173654168787,
          -1.2112341408630396,
          -0.17584560913067018,
          5.703271657574096,
          -0.37084153011966603,
          -1.4843092019073205,
          -1.3518736961209257,
          -1.1082471171359953,
          -1.969602485210416,
          -1.2309582142438682,
          -0.37655720689585975,
          0.9599730469464461,
          0.898453655988005,
          1.3207683008528668,
          -0.7184432309427196,
          -0.26196398920637237,
          -1.3829430144315789,
          0.1944163062877558,
          0.49565897674976067,
          0.25135402788112404,
          1.8423014507770155,
          0.3296433178353005,
          0.3786485264975602,
          -0.6315461172502208,
          -1.1739036264917817,
          -1.1352039270801781,
          -0.08672613104923804,
          -1.8719028705920553,
          -0.7333995538681959,
          -0.5190388355301702,
          0.14245247649145654,
          -0.08822042727406486,
          -1.2405454240775258,
          -1.9613405162535575,
          -0.8018278700728924,
          -0.6379338991803913,
          -0.6823646883607456,
          -0.1890066261270119,
          -0.00915006718621109,
          -0.9464972455045403,
          -1.5352676543136077,
          2.28755648922543,
          0.5328449775773536,
          0.6854683213739542,
          0.2694306653621955,
          -1.2318907391178775,
          3.2199305677347887,
          -0.9253997903874505,
          0.2767695667615394,
          0.35675790011566183,
          -0.5841599542163678,
          -0.7357335318656821,
          0.11479111818363122,
          -0.28474152264090574,
          -0.4774641655009034,
          -1.010373716304287,
          -0.9869193923829064,
          1.884665949851342,
          0.9047990582216934,
          -0.4887310072512663,
          1.6586203881760737,
          -0.5188182824205317,
          0.17140017701012256,
          -0.939612009437666,
          1.534481265661324,
          -1.3655569412255575,
          -0.33754385270098164,
          -0.5204786759007856,
          -0.2533581056211548,
          0.021967279121433113,
          0.21582469411199043,
          -1.6078942847533362,
          0.8000534158414866,
          0.01288642825758335,
          0.8067670823188365,
          -0.39979848799944967,
          -0.42248006667062726,
          -1.8023940420980396,
          -1.614530832176762,
          1.5064867896869774,
          -0.25500249179028456,
          -0.5279205680921937,
          1.035852808826136,
          -0.5528539791216875,
          0.8328413575952556,
          1.763049280975961,
          -2.0211255565589132,
          0.27289336191058366,
          -1.0265821205540469,
          1.1910254010879309,
          -1.0354778841359726,
          2.0550266584476353,
          1.0083378133072127,
          -1.7010480380457424,
          -0.08127365748109672,
          -0.7189179768313922,
          -0.21550139068176125,
          0.8150881928263428,
          1.1357720098765036,
          0.10179597027109454,
          -0.5387434078042704,
          0.9973965212090089,
          1.3049406104424603,
          1.3879688288889007,
          4.932566269427548,
          -1.758672854291326,
          -1.2893423724932753,
          -1.3034346924861726,
          -0.34621722074795575,
          -0.29132277784869764,
          1.0437331478678065,
          4.574302073405418,
          -0.3819807438823078,
          -0.5156771633581776,
          -1.2183901643914197,
          -0.33821346982777156,
          -0.9194966147441351,
          -1.1713904966116078,
          -1.659683998829088,
          -0.4782614166225205,
          -1.1549296046792625,
          1.2659550783475118,
          -0.7050420954295196,
          0.36627097788034674,
          -1.4510393139286715,
          1.8416786348282732,
          -1.081472164300056,
          -2.1023999185638824,
          -0.16423202892688496,
          3.4432657709952563,
          0.005538122723993251,
          -0.17459683246668092,
          -1.3911643263939233,
          -1.5219592980271417,
          -0.9327267733707917,
          -0.9298590689193388,
          -1.4138439963660012,
          0.1299273742151108,
          -1.677711835005492,
          -1.1712187917598862,
          0.3888872854086373,
          0.457082232148813,
          -0.41213903382746214,
          -1.1952891734568423,
          -0.014866149704457673,
          -0.836818200667325,
          -1.5309800729027623,
          -1.476405848640824,
          -0.985757441299105,
          -0.8609924921079298,
          1.2129789996541638,
          2.0948641704133406,
          -1.255253936712413,
          -2.246501861984661,
          -1.1579462792371875,
          -1.023278940796098,
          -0.36063161174854225,
          -0.9623350519506714,
          -0.4712279740019665,
          -1.7990350824379209,
          -1.2374455048778656,
          0.11538406248583002,
          -0.9379417260141619,
          -0.30420790037877615,
          -1.8641634316983537,
          0.33170023282458766,
          0.42194875306195206,
          -0.6624216854163101,
          -0.16453957859852644,
          -0.8365371512912807,
          -1.1661917925505056,
          -0.6901481477412332,
          -1.2702253634328398,
          0.3975192091306339,
          -0.7366555071697435,
          -0.8821494678873608,
          -0.9835725961577589,
          0.40783514814447874,
          1.2830668158194973,
          0.7350287075327737,
          1.4123587012998755,
          0.5827677237583375,
          -0.5217700050461501,
          0.1876129052097581,
          -0.6458453603237472,
          1.578502204064669,
          -0.12381329088173,
          2.929350681235711,
          -0.9975344779994402,
          -0.2360284699777652,
          -0.32196691706274344,
          -1.676585461148097,
          -0.3788832702254842,
          -0.08789487532950299,
          0.1994707436407429
         ],
         "y": [
          1.1101224792023672,
          -4.045700046007584,
          -0.6372308510471769,
          -0.08461838174987515,
          0.37926309612356385,
          -0.988203371398245,
          0.4544341634779672,
          0.5130131505690873,
          -1.177940956401492,
          -2.238749202410274,
          -1.3859986365798138,
          0.37688004464499486,
          -0.572792905060558,
          -0.009120382805812434,
          -1.299073206505378,
          -0.9618600286659049,
          -0.14348756677045071,
          -4.203472740300128,
          -0.844743461102694,
          -0.7911153885477884,
          -0.6549525407646117,
          -0.7859397215782288,
          -0.049700048466861706,
          0.7776678160897638,
          -0.3398073232868156,
          -0.2949947956991562,
          -0.5633895866234973,
          0.734253728800975,
          0.6361234520361707,
          1.3453410009950066,
          -1.1988470894570873,
          -2.0044999852179615,
          0.41485729846224473,
          -0.35942238099631607,
          0.3253051235730289,
          0.7584680077598663,
          -0.2208371411676633,
          -0.31316684308679593,
          -0.3146188610208701,
          0.6446341164176405,
          1.145856345421926,
          1.0110535975992312,
          -0.649483945654814,
          -0.1897074926102894,
          0.030349779833514827,
          0.352285826623076,
          0.11460895649064869,
          0.96689374734786,
          2.6923408527607324,
          0.48798317312629386,
          -0.1477372218604459,
          1.487281206702528,
          -0.5182841138591101,
          -0.499111253171528,
          2.1860391019156697,
          -0.04131444877108294,
          0.3434654544460832,
          -1.667015963916632,
          0.7353025400705369,
          0.9223492128989003,
          0.7793696434289111,
          -0.6732185252838737,
          -0.045546293071412454,
          1.5463707663031558,
          -0.38546644090703613,
          -0.3189787388349397,
          0.01116003734817657,
          0.2923183833404903,
          0.8109325537260784,
          1.5710134150170334,
          -0.8181575974406737,
          -0.27798348582014853,
          -0.7551349629355133,
          0.0609299720074374,
          0.7209232681622691,
          -1.2347938812968648,
          0.7833824505550121,
          -0.10751626742341079,
          0.5888942997322363,
          0.9638964240803315,
          -1.20349294804405,
          1.1130500829484569,
          0.23572670491359282,
          1.1441218922183034,
          -0.8831657109007153,
          -0.8795538526721268,
          -0.40568053819478556,
          0.6980587717900153,
          -0.5448485717055174,
          1.266451218201432,
          -0.3511693792470012,
          1.1472249584815866,
          0.9715579269520586,
          1.7008880283927892,
          1.072631048777028,
          0.08205821835948307,
          -0.9157549474791342,
          2.5775627938960226,
          -0.8103907016690167,
          0.7171671298242542,
          0.22800510700366838,
          -0.37983605349475213,
          0.2111379516738455,
          -1.2904295780091501,
          -0.10604694249290043,
          0.35476499141332046,
          0.8227863400150067,
          1.023023494873688,
          -0.7389734947287125,
          0.4213174172899454,
          -0.535862846288193,
          -0.33004482528695556,
          0.0802026474553527,
          1.0455554851957545,
          -1.1656745521988165,
          -0.6698703791802945,
          -1.0727644041209816,
          0.06691125260327573,
          0.28523994397888897,
          2.5697608508395327,
          0.6030248450339915,
          1.6129067975017044,
          -0.5069718259521734,
          -0.7385036358662757,
          -0.4604671563646156,
          -0.5573214200539696,
          1.4161569937324174,
          0.5071675469088617,
          -0.8711575766691639,
          1.6534469293781924,
          -0.8213455296336483,
          0.7772477182781553,
          0.13477244408829156,
          -2.899835351372708,
          1.6807160427616634,
          -2.290597935405541,
          -1.0633059496603252,
          -0.009894681383568462,
          -0.5183661196155627,
          -0.5008831361974138,
          -0.6363032770414224,
          -0.09960761026204895,
          -0.9212603300038616,
          0.6900315487234253,
          -0.6342695351523542,
          2.0556335107706616,
          3.0398518818649674,
          1.3782147950908799,
          0.5865500679019974,
          -1.3564647597091102,
          -0.23281248014632294,
          -0.34405949868493313,
          -0.4914681801975813,
          -0.7894360156993462,
          -0.13511762418893544,
          -0.6950665586130447,
          1.5564815998072425,
          0.29061404729465434,
          -0.1418239772161989,
          -0.013322441936964446,
          1.0904794406145135,
          -1.32227198505154,
          -2.037177687870485,
          0.11407943032695632,
          -1.2396694225491491,
          0.7975923897253129,
          0.5347004954183177,
          1.1785997972449662,
          0.6005650511632176,
          -0.3542171128604712,
          -1.263408339859258,
          -0.32737223654767567,
          1.2859586425018508,
          1.2121708894536969,
          2.6284058013115605,
          -0.607683671490334,
          -1.3390717423665994,
          -0.0430780790976038,
          -0.7243390949730915,
          -0.6658115356458753,
          0.6930686613580661,
          0.22482361785193786,
          0.05830262781092201,
          -0.23238550024596852,
          -0.6247498415301881,
          -0.42847474608271235,
          -0.9318210598638045,
          1.43391592532091,
          -2.9216115173538633,
          0.6092726040729604,
          -0.6528528539303808,
          -0.0744434039178944,
          -0.7041222993977494,
          -0.1534504861016409,
          0.5824522918632633,
          0.6936315576874396,
          0.32403659281707275,
          0.10605947921222801,
          -0.06123065806819307,
          0.28462637780532457,
          -0.8643006710845856,
          -0.5928720114763837,
          0.03869833175935355,
          -0.010382203203311895,
          0.16232945539820606,
          1.8621886643651215,
          0.20521846883616585,
          -0.10066123534359545,
          0.925523788152926,
          0.10774702933393639,
          1.316445956069471,
          -0.8631348610611552,
          -1.4567443489700174,
          -0.4313047797064555,
          0.05386146630206249,
          -0.8241376702602494,
          0.7641928760586237,
          -0.29954983149412157,
          -0.3387470154033622,
          -0.3759317220211637,
          -0.07174448296644835,
          0.6501396121938992,
          0.39853403963433465,
          1.2963202471033326,
          0.5525879937186732,
          -0.06622192096380984,
          1.030743825181804,
          -0.8761989393132944,
          -0.6246761905879802,
          0.18660758332769778,
          -0.5599889910464616,
          -1.004469966297449
         ],
         "z": [
          0.4507663960791985,
          5.447792659590092,
          -0.22691904319575984,
          -0.7874321232411556,
          -0.24675396728058302,
          -0.8243889488889843,
          -0.37044303337041506,
          -0.7277356036764194,
          -1.1507359647054378,
          -2.1181592324533787,
          -1.2681912253756589,
          -0.7271858865131087,
          -0.4438358551012808,
          -0.8949907245314467,
          -1.3935821892785116,
          -1.006452957757442,
          -0.6119323149542716,
          3.601592486757491,
          -0.2892082566784386,
          -1.485084334526501,
          -0.6971976859564469,
          -1.1710960042230876,
          -0.2517056809558155,
          0.350458250784807,
          -0.292259355577605,
          -0.1859804214253085,
          -0.3955321126223085,
          0.3579688781583908,
          0.27602483138131695,
          0.3803732689979938,
          -0.49223865980637926,
          5.750766694283208,
          -0.17030377184907877,
          -0.2143171418628613,
          -0.2037112630320925,
          0.31148479476311036,
          -0.02166741631926705,
          -0.19028677691234058,
          -0.11347381345481959,
          0.12449021386513284,
          -0.15712382560401525,
          0.2498601841609929,
          -0.22808068431023074,
          -0.024851599605472487,
          0.009291338311123686,
          0.3076140892971417,
          0.1497531833768972,
          0.30850587886139164,
          0.8396392119069204,
          -0.15094806693491689,
          -0.6726811604867275,
          0.6853104370330475,
          -0.5749913408067957,
          -0.20540287351888942,
          0.813719179454527,
          -0.4093692492499024,
          -0.2311153376128566,
          -1.666892457819787,
          0.10558821772750762,
          0.0747201614643378,
          0.22846010769044028,
          -0.4119525917077812,
          -0.011731660492585637,
          0.5489042602170794,
          -0.021507999398764698,
          -0.28964831920211204,
          -0.15234928898551298,
          -0.24548931052972933,
          0.2573610939232056,
          0.8370032557143912,
          -0.2062529543796343,
          -0.09040493270180623,
          -0.6314531789103166,
          2.567958054540455,
          0.26369466428153415,
          -0.9604492616412469,
          0.35733200242306096,
          0.18543737847838082,
          -0.2047844825164651,
          0.24080235592473567,
          -0.9605497673252735,
          0.37688624141927834,
          0.06321671566874054,
          -0.3078131690706807,
          -0.5239133977413586,
          -0.740114297157888,
          -0.6023897388746565,
          0.39094610325721124,
          -0.4503374395654391,
          0.29096835214212236,
          -0.4386458370295362,
          0.4219752674427911,
          0.34767697580233603,
          0.8329388157316433,
          -0.11761656305030138,
          -0.4980802090938529,
          -0.7174238354857755,
          0.8232463167090467,
          -0.5399158236929174,
          0.1323142064477616,
          0.03257166854383593,
          -0.7703511552162918,
          0.12941095127724234,
          -0.9030844397919746,
          -0.12199835753835654,
          -0.04836638647002193,
          0.13411356468576335,
          0.343913287024024,
          -0.30622398715353166,
          -0.20709681104658623,
          -0.5304366768262154,
          -0.5973653806407186,
          -0.05641186605088915,
          0.32706123720335906,
          -0.45986580708707053,
          -0.2550966350276431,
          -1.3091207346521796,
          -0.2478753404667782,
          0.013263359235598703,
          0.7393433435118738,
          0.29410265360307924,
          0.28709264204923274,
          -0.6675695566483703,
          -0.15415718435147135,
          -0.5684594356976778,
          -0.301512309461964,
          0.24838869388988735,
          0.28494029720138603,
          -1.063135599599275,
          0.584580798137557,
          -0.4249779192307537,
          0.08689383290383577,
          2.6917737415576353,
          3.417985855532692,
          0.5137645664480429,
          0.7741921243916573,
          -0.7843725708639488,
          -0.23611557206664413,
          -0.6732573092084435,
          -0.7571153900757823,
          -0.9954449696404643,
          -1.4923688673618307,
          -0.2980343367199871,
          0.30746976893310285,
          -0.16578078818919023,
          1.0327949997549053,
          1.387736287763345,
          0.2012654842518344,
          -0.32472882391986246,
          -0.9887456482570611,
          -0.11064826019995973,
          -0.17924317762637443,
          -0.37133919994382164,
          -0.5517945498196202,
          0.08143885825454172,
          -0.16055513703418314,
          0.7855753533111735,
          0.2913231533276345,
          -0.5314227292384736,
          -0.05132606983886233,
          0.23210888316663225,
          -0.5836247962396927,
          3.740409003375071,
          0.29527411218642446,
          -0.47906681436021376,
          0.24509291823536086,
          -0.7428455394829216,
          0.5511143252349506,
          0.07654535901931997,
          -0.09202865718819365,
          -0.6455795724805535,
          -0.29218866533538923,
          0.6326763242062549,
          0.7991803417044824,
          1.0533981134525439,
          -0.08282548589038587,
          -0.8023344584756763,
          -0.4219420777374777,
          -0.5290041623963075,
          -0.5060529416539953,
          0.46707597354724595,
          -0.12418596639997459,
          -0.07340921952998952,
          -0.05467475735556573,
          -0.16620911455287696,
          -0.36241489605448635,
          -0.5558558019822208,
          0.5565545917836515,
          5.657205940077508,
          0.21793757684928555,
          -0.0983662504790713,
          -0.022890498006332062,
          2.2955488775706367,
          -0.22584513921093732,
          0.17458539935862388,
          0.32082274040926895,
          0.250035410428349,
          0.06014261238397987,
          -0.23508188217056408,
          0.24683273138728806,
          -0.6717508417668989,
          -0.21116465325566414,
          -0.1529328118869835,
          -0.22797585154670655,
          0.026994038988973193,
          0.7101978442619118,
          0.16500695807630256,
          0.027501428108313096,
          0.44617217145112026,
          0.037041089321830506,
          0.276120897439411,
          -0.5322662120997991,
          -0.7529282410627633,
          -0.13240631007755582,
          -0.35955752936175545,
          -0.7504974645637597,
          -0.12547810498735965,
          -0.8438039560256325,
          -0.449934943300951,
          -0.24775088186421473,
          -0.32149514150889463,
          0.32314951722606305,
          -0.017483868569387204,
          0.5037998557722472,
          -0.46161864383337997,
          -0.19200307754290585,
          0.45540040456863723,
          -0.6140047766479761,
          -0.1318827099465454,
          0.07795553361030978,
          -0.5005417183055291,
          -0.7993341819348647
         ]
        }
       ],
       "layout": {
        "coloraxis": {
         "colorbar": {
          "title": {
           "text": "Cluster"
          }
         },
         "colorscale": [
          [
           0,
           "#0d0887"
          ],
          [
           0.1111111111111111,
           "#46039f"
          ],
          [
           0.2222222222222222,
           "#7201a8"
          ],
          [
           0.3333333333333333,
           "#9c179e"
          ],
          [
           0.4444444444444444,
           "#bd3786"
          ],
          [
           0.5555555555555556,
           "#d8576b"
          ],
          [
           0.6666666666666666,
           "#ed7953"
          ],
          [
           0.7777777777777778,
           "#fb9f3a"
          ],
          [
           0.8888888888888888,
           "#fdca26"
          ],
          [
           1,
           "#f0f921"
          ]
         ]
        },
        "legend": {
         "tracegroupgap": 0
        },
        "scene": {
         "domain": {
          "x": [
           0,
           1
          ],
          "y": [
           0,
           1
          ]
         },
         "xaxis": {
          "title": {
           "text": "PC1"
          }
         },
         "yaxis": {
          "title": {
           "text": "PC2"
          }
         },
         "zaxis": {
          "title": {
           "text": "PC3"
          }
         }
        },
        "template": {
         "data": {
          "bar": [
           {
            "error_x": {
             "color": "#2a3f5f"
            },
            "error_y": {
             "color": "#2a3f5f"
            },
            "marker": {
             "line": {
              "color": "#E5ECF6",
              "width": 0.5
             },
             "pattern": {
              "fillmode": "overlay",
              "size": 10,
              "solidity": 0.2
             }
            },
            "type": "bar"
           }
          ],
          "barpolar": [
           {
            "marker": {
             "line": {
              "color": "#E5ECF6",
              "width": 0.5
             },
             "pattern": {
              "fillmode": "overlay",
              "size": 10,
              "solidity": 0.2
             }
            },
            "type": "barpolar"
           }
          ],
          "carpet": [
           {
            "aaxis": {
             "endlinecolor": "#2a3f5f",
             "gridcolor": "white",
             "linecolor": "white",
             "minorgridcolor": "white",
             "startlinecolor": "#2a3f5f"
            },
            "baxis": {
             "endlinecolor": "#2a3f5f",
             "gridcolor": "white",
             "linecolor": "white",
             "minorgridcolor": "white",
             "startlinecolor": "#2a3f5f"
            },
            "type": "carpet"
           }
          ],
          "choropleth": [
           {
            "colorbar": {
             "outlinewidth": 0,
             "ticks": ""
            },
            "type": "choropleth"
           }
          ],
          "contour": [
           {
            "colorbar": {
             "outlinewidth": 0,
             "ticks": ""
            },
            "colorscale": [
             [
              0,
              "#0d0887"
             ],
             [
              0.1111111111111111,
              "#46039f"
             ],
             [
              0.2222222222222222,
              "#7201a8"
             ],
             [
              0.3333333333333333,
              "#9c179e"
             ],
             [
              0.4444444444444444,
              "#bd3786"
             ],
             [
              0.5555555555555556,
              "#d8576b"
             ],
             [
              0.6666666666666666,
              "#ed7953"
             ],
             [
              0.7777777777777778,
              "#fb9f3a"
             ],
             [
              0.8888888888888888,
              "#fdca26"
             ],
             [
              1,
              "#f0f921"
             ]
            ],
            "type": "contour"
           }
          ],
          "contourcarpet": [
           {
            "colorbar": {
             "outlinewidth": 0,
             "ticks": ""
            },
            "type": "contourcarpet"
           }
          ],
          "heatmap": [
           {
            "colorbar": {
             "outlinewidth": 0,
             "ticks": ""
            },
            "colorscale": [
             [
              0,
              "#0d0887"
             ],
             [
              0.1111111111111111,
              "#46039f"
             ],
             [
              0.2222222222222222,
              "#7201a8"
             ],
             [
              0.3333333333333333,
              "#9c179e"
             ],
             [
              0.4444444444444444,
              "#bd3786"
             ],
             [
              0.5555555555555556,
              "#d8576b"
             ],
             [
              0.6666666666666666,
              "#ed7953"
             ],
             [
              0.7777777777777778,
              "#fb9f3a"
             ],
             [
              0.8888888888888888,
              "#fdca26"
             ],
             [
              1,
              "#f0f921"
             ]
            ],
            "type": "heatmap"
           }
          ],
          "heatmapgl": [
           {
            "colorbar": {
             "outlinewidth": 0,
             "ticks": ""
            },
            "colorscale": [
             [
              0,
              "#0d0887"
             ],
             [
              0.1111111111111111,
              "#46039f"
             ],
             [
              0.2222222222222222,
              "#7201a8"
             ],
             [
              0.3333333333333333,
              "#9c179e"
             ],
             [
              0.4444444444444444,
              "#bd3786"
             ],
             [
              0.5555555555555556,
              "#d8576b"
             ],
             [
              0.6666666666666666,
              "#ed7953"
             ],
             [
              0.7777777777777778,
              "#fb9f3a"
             ],
             [
              0.8888888888888888,
              "#fdca26"
             ],
             [
              1,
              "#f0f921"
             ]
            ],
            "type": "heatmapgl"
           }
          ],
          "histogram": [
           {
            "marker": {
             "pattern": {
              "fillmode": "overlay",
              "size": 10,
              "solidity": 0.2
             }
            },
            "type": "histogram"
           }
          ],
          "histogram2d": [
           {
            "colorbar": {
             "outlinewidth": 0,
             "ticks": ""
            },
            "colorscale": [
             [
              0,
              "#0d0887"
             ],
             [
              0.1111111111111111,
              "#46039f"
             ],
             [
              0.2222222222222222,
              "#7201a8"
             ],
             [
              0.3333333333333333,
              "#9c179e"
             ],
             [
              0.4444444444444444,
              "#bd3786"
             ],
             [
              0.5555555555555556,
              "#d8576b"
             ],
             [
              0.6666666666666666,
              "#ed7953"
             ],
             [
              0.7777777777777778,
              "#fb9f3a"
             ],
             [
              0.8888888888888888,
              "#fdca26"
             ],
             [
              1,
              "#f0f921"
             ]
            ],
            "type": "histogram2d"
           }
          ],
          "histogram2dcontour": [
           {
            "colorbar": {
             "outlinewidth": 0,
             "ticks": ""
            },
            "colorscale": [
             [
              0,
              "#0d0887"
             ],
             [
              0.1111111111111111,
              "#46039f"
             ],
             [
              0.2222222222222222,
              "#7201a8"
             ],
             [
              0.3333333333333333,
              "#9c179e"
             ],
             [
              0.4444444444444444,
              "#bd3786"
             ],
             [
              0.5555555555555556,
              "#d8576b"
             ],
             [
              0.6666666666666666,
              "#ed7953"
             ],
             [
              0.7777777777777778,
              "#fb9f3a"
             ],
             [
              0.8888888888888888,
              "#fdca26"
             ],
             [
              1,
              "#f0f921"
             ]
            ],
            "type": "histogram2dcontour"
           }
          ],
          "mesh3d": [
           {
            "colorbar": {
             "outlinewidth": 0,
             "ticks": ""
            },
            "type": "mesh3d"
           }
          ],
          "parcoords": [
           {
            "line": {
             "colorbar": {
              "outlinewidth": 0,
              "ticks": ""
             }
            },
            "type": "parcoords"
           }
          ],
          "pie": [
           {
            "automargin": true,
            "type": "pie"
           }
          ],
          "scatter": [
           {
            "fillpattern": {
             "fillmode": "overlay",
             "size": 10,
             "solidity": 0.2
            },
            "type": "scatter"
           }
          ],
          "scatter3d": [
           {
            "line": {
             "colorbar": {
              "outlinewidth": 0,
              "ticks": ""
             }
            },
            "marker": {
             "colorbar": {
              "outlinewidth": 0,
              "ticks": ""
             }
            },
            "type": "scatter3d"
           }
          ],
          "scattercarpet": [
           {
            "marker": {
             "colorbar": {
              "outlinewidth": 0,
              "ticks": ""
             }
            },
            "type": "scattercarpet"
           }
          ],
          "scattergeo": [
           {
            "marker": {
             "colorbar": {
              "outlinewidth": 0,
              "ticks": ""
             }
            },
            "type": "scattergeo"
           }
          ],
          "scattergl": [
           {
            "marker": {
             "colorbar": {
              "outlinewidth": 0,
              "ticks": ""
             }
            },
            "type": "scattergl"
           }
          ],
          "scattermapbox": [
           {
            "marker": {
             "colorbar": {
              "outlinewidth": 0,
              "ticks": ""
             }
            },
            "type": "scattermapbox"
           }
          ],
          "scatterpolar": [
           {
            "marker": {
             "colorbar": {
              "outlinewidth": 0,
              "ticks": ""
             }
            },
            "type": "scatterpolar"
           }
          ],
          "scatterpolargl": [
           {
            "marker": {
             "colorbar": {
              "outlinewidth": 0,
              "ticks": ""
             }
            },
            "type": "scatterpolargl"
           }
          ],
          "scatterternary": [
           {
            "marker": {
             "colorbar": {
              "outlinewidth": 0,
              "ticks": ""
             }
            },
            "type": "scatterternary"
           }
          ],
          "surface": [
           {
            "colorbar": {
             "outlinewidth": 0,
             "ticks": ""
            },
            "colorscale": [
             [
              0,
              "#0d0887"
             ],
             [
              0.1111111111111111,
              "#46039f"
             ],
             [
              0.2222222222222222,
              "#7201a8"
             ],
             [
              0.3333333333333333,
              "#9c179e"
             ],
             [
              0.4444444444444444,
              "#bd3786"
             ],
             [
              0.5555555555555556,
              "#d8576b"
             ],
             [
              0.6666666666666666,
              "#ed7953"
             ],
             [
              0.7777777777777778,
              "#fb9f3a"
             ],
             [
              0.8888888888888888,
              "#fdca26"
             ],
             [
              1,
              "#f0f921"
             ]
            ],
            "type": "surface"
           }
          ],
          "table": [
           {
            "cells": {
             "fill": {
              "color": "#EBF0F8"
             },
             "line": {
              "color": "white"
             }
            },
            "header": {
             "fill": {
              "color": "#C8D4E3"
             },
             "line": {
              "color": "white"
             }
            },
            "type": "table"
           }
          ]
         },
         "layout": {
          "annotationdefaults": {
           "arrowcolor": "#2a3f5f",
           "arrowhead": 0,
           "arrowwidth": 1
          },
          "autotypenumbers": "strict",
          "coloraxis": {
           "colorbar": {
            "outlinewidth": 0,
            "ticks": ""
           }
          },
          "colorscale": {
           "diverging": [
            [
             0,
             "#8e0152"
            ],
            [
             0.1,
             "#c51b7d"
            ],
            [
             0.2,
             "#de77ae"
            ],
            [
             0.3,
             "#f1b6da"
            ],
            [
             0.4,
             "#fde0ef"
            ],
            [
             0.5,
             "#f7f7f7"
            ],
            [
             0.6,
             "#e6f5d0"
            ],
            [
             0.7,
             "#b8e186"
            ],
            [
             0.8,
             "#7fbc41"
            ],
            [
             0.9,
             "#4d9221"
            ],
            [
             1,
             "#276419"
            ]
           ],
           "sequential": [
            [
             0,
             "#0d0887"
            ],
            [
             0.1111111111111111,
             "#46039f"
            ],
            [
             0.2222222222222222,
             "#7201a8"
            ],
            [
             0.3333333333333333,
             "#9c179e"
            ],
            [
             0.4444444444444444,
             "#bd3786"
            ],
            [
             0.5555555555555556,
             "#d8576b"
            ],
            [
             0.6666666666666666,
             "#ed7953"
            ],
            [
             0.7777777777777778,
             "#fb9f3a"
            ],
            [
             0.8888888888888888,
             "#fdca26"
            ],
            [
             1,
             "#f0f921"
            ]
           ],
           "sequentialminus": [
            [
             0,
             "#0d0887"
            ],
            [
             0.1111111111111111,
             "#46039f"
            ],
            [
             0.2222222222222222,
             "#7201a8"
            ],
            [
             0.3333333333333333,
             "#9c179e"
            ],
            [
             0.4444444444444444,
             "#bd3786"
            ],
            [
             0.5555555555555556,
             "#d8576b"
            ],
            [
             0.6666666666666666,
             "#ed7953"
            ],
            [
             0.7777777777777778,
             "#fb9f3a"
            ],
            [
             0.8888888888888888,
             "#fdca26"
            ],
            [
             1,
             "#f0f921"
            ]
           ]
          },
          "colorway": [
           "#636efa",
           "#EF553B",
           "#00cc96",
           "#ab63fa",
           "#FFA15A",
           "#19d3f3",
           "#FF6692",
           "#B6E880",
           "#FF97FF",
           "#FECB52"
          ],
          "font": {
           "color": "#2a3f5f"
          },
          "geo": {
           "bgcolor": "white",
           "lakecolor": "white",
           "landcolor": "#E5ECF6",
           "showlakes": true,
           "showland": true,
           "subunitcolor": "white"
          },
          "hoverlabel": {
           "align": "left"
          },
          "hovermode": "closest",
          "mapbox": {
           "style": "light"
          },
          "paper_bgcolor": "white",
          "plot_bgcolor": "#E5ECF6",
          "polar": {
           "angularaxis": {
            "gridcolor": "white",
            "linecolor": "white",
            "ticks": ""
           },
           "bgcolor": "#E5ECF6",
           "radialaxis": {
            "gridcolor": "white",
            "linecolor": "white",
            "ticks": ""
           }
          },
          "scene": {
           "xaxis": {
            "backgroundcolor": "#E5ECF6",
            "gridcolor": "white",
            "gridwidth": 2,
            "linecolor": "white",
            "showbackground": true,
            "ticks": "",
            "zerolinecolor": "white"
           },
           "yaxis": {
            "backgroundcolor": "#E5ECF6",
            "gridcolor": "white",
            "gridwidth": 2,
            "linecolor": "white",
            "showbackground": true,
            "ticks": "",
            "zerolinecolor": "white"
           },
           "zaxis": {
            "backgroundcolor": "#E5ECF6",
            "gridcolor": "white",
            "gridwidth": 2,
            "linecolor": "white",
            "showbackground": true,
            "ticks": "",
            "zerolinecolor": "white"
           }
          },
          "shapedefaults": {
           "line": {
            "color": "#2a3f5f"
           }
          },
          "ternary": {
           "aaxis": {
            "gridcolor": "white",
            "linecolor": "white",
            "ticks": ""
           },
           "baxis": {
            "gridcolor": "white",
            "linecolor": "white",
            "ticks": ""
           },
           "bgcolor": "#E5ECF6",
           "caxis": {
            "gridcolor": "white",
            "linecolor": "white",
            "ticks": ""
           }
          },
          "title": {
           "x": 0.05
          },
          "xaxis": {
           "automargin": true,
           "gridcolor": "white",
           "linecolor": "white",
           "ticks": "",
           "title": {
            "standoff": 15
           },
           "zerolinecolor": "white",
           "zerolinewidth": 2
          },
          "yaxis": {
           "automargin": true,
           "gridcolor": "white",
           "linecolor": "white",
           "ticks": "",
           "title": {
            "standoff": 15
           },
           "zerolinecolor": "white",
           "zerolinewidth": 2
          }
         }
        },
        "title": {
         "text": "3D Scatter Plot of Clusters"
        }
       }
      },
      "text/html": [
       "<div>                            <div id=\"10034213-034c-4429-947e-c3fc7f21e79c\" class=\"plotly-graph-div\" style=\"height:525px; width:100%;\"></div>            <script type=\"text/javascript\">                require([\"plotly\"], function(Plotly) {                    window.PLOTLYENV=window.PLOTLYENV || {};                                    if (document.getElementById(\"10034213-034c-4429-947e-c3fc7f21e79c\")) {                    Plotly.newPlot(                        \"10034213-034c-4429-947e-c3fc7f21e79c\",                        [{\"hovertemplate\":\"PC1=%{x}\\u003cbr\\u003ePC2=%{y}\\u003cbr\\u003ePC3=%{z}\\u003cbr\\u003eCluster=%{marker.color}\\u003cextra\\u003e\\u003c\\u002fextra\\u003e\",\"legendgroup\":\"\",\"marker\":{\"color\":[1,0,0,2,1,0,2,2,0,2,2,2,0,2,2,2,2,2,0,2,0,2,0,1,0,0,0,1,1,2,0,2,2,0,2,1,0,0,0,1,2,1,0,0,0,0,0,1,1,1,2,1,0,0,1,0,1,2,1,1,1,0,0,1,0,0,0,1,1,1,0,0,0,1,1,0,1,0,2,1,0,1,0,2,0,0,0,1,0,1,0,1,1,1,2,1,0,1,0,1,0,2,0,0,0,1,1,1,0,1,0,0,0,1,0,0,2,0,0,1,1,1,2,0,0,0,1,1,2,1,0,1,1,0,1,2,0,0,0,2,2,2,0,1,0,1,1,1,2,0,0,0,0,0,0,0,1,0,2,0,1,0,2,0,0,1,2,1,1,0,0,0,1,1,1,0,0,0,0,0,1,0,0,0,0,0,0,1,2,1,0,0,0,0,1,1,0,0,0,0,0,0,0,0,0,1,0,0,1,0,1,0,0,0,0,2,1,2,0,0,0,1,2,1,2,0,1,0,0,0,0,0],\"coloraxis\":\"coloraxis\",\"symbol\":\"circle\"},\"mode\":\"markers\",\"name\":\"\",\"scene\":\"scene\",\"showlegend\":false,\"x\":[-0.2741863667872895,-0.5004838639620378,-1.8215093184873987,3.6082541540143187,0.5863350011891724,-0.3143496787992287,3.0391003123214344,4.713808145142347,0.7231729549178315,2.591595850361943,1.3713696348218711,3.62639814728405,-0.5564213979106724,2.2488642311575076,1.4422155642088703,1.1227175453528209,1.2315089692167145,6.95050235554798,-1.587063373734238,3.6604602792625207,0.4810160250052469,1.3279667920120801,0.33932808418367233,-0.9317147404429917,-0.26671340059687787,-0.20850932443888706,-0.831885078149265,-0.6081039405290308,-1.2936143343450983,2.7065884865901473,-1.4950057096521416,3.1978556730178633,2.7405432182418075,-0.7212232649846507,2.076938972286773,-0.9066324817285824,-0.9496529206883785,-0.6102173654168787,-1.2112341408630396,-0.17584560913067018,5.703271657574096,-0.37084153011966603,-1.4843092019073205,-1.3518736961209257,-1.1082471171359953,-1.969602485210416,-1.2309582142438682,-0.37655720689585975,0.9599730469464461,0.898453655988005,1.3207683008528668,-0.7184432309427196,-0.26196398920637237,-1.3829430144315789,0.1944163062877558,0.49565897674976067,0.25135402788112404,1.8423014507770155,0.3296433178353005,0.3786485264975602,-0.6315461172502208,-1.1739036264917817,-1.1352039270801781,-0.08672613104923804,-1.8719028705920553,-0.7333995538681959,-0.5190388355301702,0.14245247649145654,-0.08822042727406486,-1.2405454240775258,-1.9613405162535575,-0.8018278700728924,-0.6379338991803913,-0.6823646883607456,-0.1890066261270119,-0.00915006718621109,-0.9464972455045403,-1.5352676543136077,2.28755648922543,0.5328449775773536,0.6854683213739542,0.2694306653621955,-1.2318907391178775,3.2199305677347887,-0.9253997903874505,0.2767695667615394,0.35675790011566183,-0.5841599542163678,-0.7357335318656821,0.11479111818363122,-0.28474152264090574,-0.4774641655009034,-1.010373716304287,-0.9869193923829064,1.884665949851342,0.9047990582216934,-0.4887310072512663,1.6586203881760737,-0.5188182824205317,0.17140017701012256,-0.939612009437666,1.534481265661324,-1.3655569412255575,-0.33754385270098164,-0.5204786759007856,-0.2533581056211548,0.021967279121433113,0.21582469411199043,-1.6078942847533362,0.8000534158414866,0.01288642825758335,0.8067670823188365,-0.39979848799944967,-0.42248006667062726,-1.8023940420980396,-1.614530832176762,1.5064867896869774,-0.25500249179028456,-0.5279205680921937,1.035852808826136,-0.5528539791216875,0.8328413575952556,1.763049280975961,-2.0211255565589132,0.27289336191058366,-1.0265821205540469,1.1910254010879309,-1.0354778841359726,2.0550266584476353,1.0083378133072127,-1.7010480380457424,-0.08127365748109672,-0.7189179768313922,-0.21550139068176125,0.8150881928263428,1.1357720098765036,0.10179597027109454,-0.5387434078042704,0.9973965212090089,1.3049406104424603,1.3879688288889007,4.932566269427548,-1.758672854291326,-1.2893423724932753,-1.3034346924861726,-0.34621722074795575,-0.29132277784869764,1.0437331478678065,4.574302073405418,-0.3819807438823078,-0.5156771633581776,-1.2183901643914197,-0.33821346982777156,-0.9194966147441351,-1.1713904966116078,-1.659683998829088,-0.4782614166225205,-1.1549296046792625,1.2659550783475118,-0.7050420954295196,0.36627097788034674,-1.4510393139286715,1.8416786348282732,-1.081472164300056,-2.1023999185638824,-0.16423202892688496,3.4432657709952563,0.005538122723993251,-0.17459683246668092,-1.3911643263939233,-1.5219592980271417,-0.9327267733707917,-0.9298590689193388,-1.4138439963660012,0.1299273742151108,-1.677711835005492,-1.1712187917598862,0.3888872854086373,0.457082232148813,-0.41213903382746214,-1.1952891734568423,-0.014866149704457673,-0.836818200667325,-1.5309800729027623,-1.476405848640824,-0.985757441299105,-0.8609924921079298,1.2129789996541638,2.0948641704133406,-1.255253936712413,-2.246501861984661,-1.1579462792371875,-1.023278940796098,-0.36063161174854225,-0.9623350519506714,-0.4712279740019665,-1.7990350824379209,-1.2374455048778656,0.11538406248583002,-0.9379417260141619,-0.30420790037877615,-1.8641634316983537,0.33170023282458766,0.42194875306195206,-0.6624216854163101,-0.16453957859852644,-0.8365371512912807,-1.1661917925505056,-0.6901481477412332,-1.2702253634328398,0.3975192091306339,-0.7366555071697435,-0.8821494678873608,-0.9835725961577589,0.40783514814447874,1.2830668158194973,0.7350287075327737,1.4123587012998755,0.5827677237583375,-0.5217700050461501,0.1876129052097581,-0.6458453603237472,1.578502204064669,-0.12381329088173,2.929350681235711,-0.9975344779994402,-0.2360284699777652,-0.32196691706274344,-1.676585461148097,-0.3788832702254842,-0.08789487532950299,0.1994707436407429],\"y\":[1.1101224792023672,-4.045700046007584,-0.6372308510471769,-0.08461838174987515,0.37926309612356385,-0.988203371398245,0.4544341634779672,0.5130131505690873,-1.177940956401492,-2.238749202410274,-1.3859986365798138,0.37688004464499486,-0.572792905060558,-0.009120382805812434,-1.299073206505378,-0.9618600286659049,-0.14348756677045071,-4.203472740300128,-0.844743461102694,-0.7911153885477884,-0.6549525407646117,-0.7859397215782288,-0.049700048466861706,0.7776678160897638,-0.3398073232868156,-0.2949947956991562,-0.5633895866234973,0.734253728800975,0.6361234520361707,1.3453410009950066,-1.1988470894570873,-2.0044999852179615,0.41485729846224473,-0.35942238099631607,0.3253051235730289,0.7584680077598663,-0.2208371411676633,-0.31316684308679593,-0.3146188610208701,0.6446341164176405,1.145856345421926,1.0110535975992312,-0.649483945654814,-0.1897074926102894,0.030349779833514827,0.352285826623076,0.11460895649064869,0.96689374734786,2.6923408527607324,0.48798317312629386,-0.1477372218604459,1.487281206702528,-0.5182841138591101,-0.499111253171528,2.1860391019156697,-0.04131444877108294,0.3434654544460832,-1.667015963916632,0.7353025400705369,0.9223492128989003,0.7793696434289111,-0.6732185252838737,-0.045546293071412454,1.5463707663031558,-0.38546644090703613,-0.3189787388349397,0.01116003734817657,0.2923183833404903,0.8109325537260784,1.5710134150170334,-0.8181575974406737,-0.27798348582014853,-0.7551349629355133,0.0609299720074374,0.7209232681622691,-1.2347938812968648,0.7833824505550121,-0.10751626742341079,0.5888942997322363,0.9638964240803315,-1.20349294804405,1.1130500829484569,0.23572670491359282,1.1441218922183034,-0.8831657109007153,-0.8795538526721268,-0.40568053819478556,0.6980587717900153,-0.5448485717055174,1.266451218201432,-0.3511693792470012,1.1472249584815866,0.9715579269520586,1.7008880283927892,1.072631048777028,0.08205821835948307,-0.9157549474791342,2.5775627938960226,-0.8103907016690167,0.7171671298242542,0.22800510700366838,-0.37983605349475213,0.2111379516738455,-1.2904295780091501,-0.10604694249290043,0.35476499141332046,0.8227863400150067,1.023023494873688,-0.7389734947287125,0.4213174172899454,-0.535862846288193,-0.33004482528695556,0.0802026474553527,1.0455554851957545,-1.1656745521988165,-0.6698703791802945,-1.0727644041209816,0.06691125260327573,0.28523994397888897,2.5697608508395327,0.6030248450339915,1.6129067975017044,-0.5069718259521734,-0.7385036358662757,-0.4604671563646156,-0.5573214200539696,1.4161569937324174,0.5071675469088617,-0.8711575766691639,1.6534469293781924,-0.8213455296336483,0.7772477182781553,0.13477244408829156,-2.899835351372708,1.6807160427616634,-2.290597935405541,-1.0633059496603252,-0.009894681383568462,-0.5183661196155627,-0.5008831361974138,-0.6363032770414224,-0.09960761026204895,-0.9212603300038616,0.6900315487234253,-0.6342695351523542,2.0556335107706616,3.0398518818649674,1.3782147950908799,0.5865500679019974,-1.3564647597091102,-0.23281248014632294,-0.34405949868493313,-0.4914681801975813,-0.7894360156993462,-0.13511762418893544,-0.6950665586130447,1.5564815998072425,0.29061404729465434,-0.1418239772161989,-0.013322441936964446,1.0904794406145135,-1.32227198505154,-2.037177687870485,0.11407943032695632,-1.2396694225491491,0.7975923897253129,0.5347004954183177,1.1785997972449662,0.6005650511632176,-0.3542171128604712,-1.263408339859258,-0.32737223654767567,1.2859586425018508,1.2121708894536969,2.6284058013115605,-0.607683671490334,-1.3390717423665994,-0.0430780790976038,-0.7243390949730915,-0.6658115356458753,0.6930686613580661,0.22482361785193786,0.05830262781092201,-0.23238550024596852,-0.6247498415301881,-0.42847474608271235,-0.9318210598638045,1.43391592532091,-2.9216115173538633,0.6092726040729604,-0.6528528539303808,-0.0744434039178944,-0.7041222993977494,-0.1534504861016409,0.5824522918632633,0.6936315576874396,0.32403659281707275,0.10605947921222801,-0.06123065806819307,0.28462637780532457,-0.8643006710845856,-0.5928720114763837,0.03869833175935355,-0.010382203203311895,0.16232945539820606,1.8621886643651215,0.20521846883616585,-0.10066123534359545,0.925523788152926,0.10774702933393639,1.316445956069471,-0.8631348610611552,-1.4567443489700174,-0.4313047797064555,0.05386146630206249,-0.8241376702602494,0.7641928760586237,-0.29954983149412157,-0.3387470154033622,-0.3759317220211637,-0.07174448296644835,0.6501396121938992,0.39853403963433465,1.2963202471033326,0.5525879937186732,-0.06622192096380984,1.030743825181804,-0.8761989393132944,-0.6246761905879802,0.18660758332769778,-0.5599889910464616,-1.004469966297449],\"z\":[0.4507663960791985,5.447792659590092,-0.22691904319575984,-0.7874321232411556,-0.24675396728058302,-0.8243889488889843,-0.37044303337041506,-0.7277356036764194,-1.1507359647054378,-2.1181592324533787,-1.2681912253756589,-0.7271858865131087,-0.4438358551012808,-0.8949907245314467,-1.3935821892785116,-1.006452957757442,-0.6119323149542716,3.601592486757491,-0.2892082566784386,-1.485084334526501,-0.6971976859564469,-1.1710960042230876,-0.2517056809558155,0.350458250784807,-0.292259355577605,-0.1859804214253085,-0.3955321126223085,0.3579688781583908,0.27602483138131695,0.3803732689979938,-0.49223865980637926,5.750766694283208,-0.17030377184907877,-0.2143171418628613,-0.2037112630320925,0.31148479476311036,-0.02166741631926705,-0.19028677691234058,-0.11347381345481959,0.12449021386513284,-0.15712382560401525,0.2498601841609929,-0.22808068431023074,-0.024851599605472487,0.009291338311123686,0.3076140892971417,0.1497531833768972,0.30850587886139164,0.8396392119069204,-0.15094806693491689,-0.6726811604867275,0.6853104370330475,-0.5749913408067957,-0.20540287351888942,0.813719179454527,-0.4093692492499024,-0.2311153376128566,-1.666892457819787,0.10558821772750762,0.0747201614643378,0.22846010769044028,-0.4119525917077812,-0.011731660492585637,0.5489042602170794,-0.021507999398764698,-0.28964831920211204,-0.15234928898551298,-0.24548931052972933,0.2573610939232056,0.8370032557143912,-0.2062529543796343,-0.09040493270180623,-0.6314531789103166,2.567958054540455,0.26369466428153415,-0.9604492616412469,0.35733200242306096,0.18543737847838082,-0.2047844825164651,0.24080235592473567,-0.9605497673252735,0.37688624141927834,0.06321671566874054,-0.3078131690706807,-0.5239133977413586,-0.740114297157888,-0.6023897388746565,0.39094610325721124,-0.4503374395654391,0.29096835214212236,-0.4386458370295362,0.4219752674427911,0.34767697580233603,0.8329388157316433,-0.11761656305030138,-0.4980802090938529,-0.7174238354857755,0.8232463167090467,-0.5399158236929174,0.1323142064477616,0.03257166854383593,-0.7703511552162918,0.12941095127724234,-0.9030844397919746,-0.12199835753835654,-0.04836638647002193,0.13411356468576335,0.343913287024024,-0.30622398715353166,-0.20709681104658623,-0.5304366768262154,-0.5973653806407186,-0.05641186605088915,0.32706123720335906,-0.45986580708707053,-0.2550966350276431,-1.3091207346521796,-0.2478753404667782,0.013263359235598703,0.7393433435118738,0.29410265360307924,0.28709264204923274,-0.6675695566483703,-0.15415718435147135,-0.5684594356976778,-0.301512309461964,0.24838869388988735,0.28494029720138603,-1.063135599599275,0.584580798137557,-0.4249779192307537,0.08689383290383577,2.6917737415576353,3.417985855532692,0.5137645664480429,0.7741921243916573,-0.7843725708639488,-0.23611557206664413,-0.6732573092084435,-0.7571153900757823,-0.9954449696404643,-1.4923688673618307,-0.2980343367199871,0.30746976893310285,-0.16578078818919023,1.0327949997549053,1.387736287763345,0.2012654842518344,-0.32472882391986246,-0.9887456482570611,-0.11064826019995973,-0.17924317762637443,-0.37133919994382164,-0.5517945498196202,0.08143885825454172,-0.16055513703418314,0.7855753533111735,0.2913231533276345,-0.5314227292384736,-0.05132606983886233,0.23210888316663225,-0.5836247962396927,3.740409003375071,0.29527411218642446,-0.47906681436021376,0.24509291823536086,-0.7428455394829216,0.5511143252349506,0.07654535901931997,-0.09202865718819365,-0.6455795724805535,-0.29218866533538923,0.6326763242062549,0.7991803417044824,1.0533981134525439,-0.08282548589038587,-0.8023344584756763,-0.4219420777374777,-0.5290041623963075,-0.5060529416539953,0.46707597354724595,-0.12418596639997459,-0.07340921952998952,-0.05467475735556573,-0.16620911455287696,-0.36241489605448635,-0.5558558019822208,0.5565545917836515,5.657205940077508,0.21793757684928555,-0.0983662504790713,-0.022890498006332062,2.2955488775706367,-0.22584513921093732,0.17458539935862388,0.32082274040926895,0.250035410428349,0.06014261238397987,-0.23508188217056408,0.24683273138728806,-0.6717508417668989,-0.21116465325566414,-0.1529328118869835,-0.22797585154670655,0.026994038988973193,0.7101978442619118,0.16500695807630256,0.027501428108313096,0.44617217145112026,0.037041089321830506,0.276120897439411,-0.5322662120997991,-0.7529282410627633,-0.13240631007755582,-0.35955752936175545,-0.7504974645637597,-0.12547810498735965,-0.8438039560256325,-0.449934943300951,-0.24775088186421473,-0.32149514150889463,0.32314951722606305,-0.017483868569387204,0.5037998557722472,-0.46161864383337997,-0.19200307754290585,0.45540040456863723,-0.6140047766479761,-0.1318827099465454,0.07795553361030978,-0.5005417183055291,-0.7993341819348647],\"type\":\"scatter3d\"}],                        {\"template\":{\"data\":{\"histogram2dcontour\":[{\"type\":\"histogram2dcontour\",\"colorbar\":{\"outlinewidth\":0,\"ticks\":\"\"},\"colorscale\":[[0.0,\"#0d0887\"],[0.1111111111111111,\"#46039f\"],[0.2222222222222222,\"#7201a8\"],[0.3333333333333333,\"#9c179e\"],[0.4444444444444444,\"#bd3786\"],[0.5555555555555556,\"#d8576b\"],[0.6666666666666666,\"#ed7953\"],[0.7777777777777778,\"#fb9f3a\"],[0.8888888888888888,\"#fdca26\"],[1.0,\"#f0f921\"]]}],\"choropleth\":[{\"type\":\"choropleth\",\"colorbar\":{\"outlinewidth\":0,\"ticks\":\"\"}}],\"histogram2d\":[{\"type\":\"histogram2d\",\"colorbar\":{\"outlinewidth\":0,\"ticks\":\"\"},\"colorscale\":[[0.0,\"#0d0887\"],[0.1111111111111111,\"#46039f\"],[0.2222222222222222,\"#7201a8\"],[0.3333333333333333,\"#9c179e\"],[0.4444444444444444,\"#bd3786\"],[0.5555555555555556,\"#d8576b\"],[0.6666666666666666,\"#ed7953\"],[0.7777777777777778,\"#fb9f3a\"],[0.8888888888888888,\"#fdca26\"],[1.0,\"#f0f921\"]]}],\"heatmap\":[{\"type\":\"heatmap\",\"colorbar\":{\"outlinewidth\":0,\"ticks\":\"\"},\"colorscale\":[[0.0,\"#0d0887\"],[0.1111111111111111,\"#46039f\"],[0.2222222222222222,\"#7201a8\"],[0.3333333333333333,\"#9c179e\"],[0.4444444444444444,\"#bd3786\"],[0.5555555555555556,\"#d8576b\"],[0.6666666666666666,\"#ed7953\"],[0.7777777777777778,\"#fb9f3a\"],[0.8888888888888888,\"#fdca26\"],[1.0,\"#f0f921\"]]}],\"heatmapgl\":[{\"type\":\"heatmapgl\",\"colorbar\":{\"outlinewidth\":0,\"ticks\":\"\"},\"colorscale\":[[0.0,\"#0d0887\"],[0.1111111111111111,\"#46039f\"],[0.2222222222222222,\"#7201a8\"],[0.3333333333333333,\"#9c179e\"],[0.4444444444444444,\"#bd3786\"],[0.5555555555555556,\"#d8576b\"],[0.6666666666666666,\"#ed7953\"],[0.7777777777777778,\"#fb9f3a\"],[0.8888888888888888,\"#fdca26\"],[1.0,\"#f0f921\"]]}],\"contourcarpet\":[{\"type\":\"contourcarpet\",\"colorbar\":{\"outlinewidth\":0,\"ticks\":\"\"}}],\"contour\":[{\"type\":\"contour\",\"colorbar\":{\"outlinewidth\":0,\"ticks\":\"\"},\"colorscale\":[[0.0,\"#0d0887\"],[0.1111111111111111,\"#46039f\"],[0.2222222222222222,\"#7201a8\"],[0.3333333333333333,\"#9c179e\"],[0.4444444444444444,\"#bd3786\"],[0.5555555555555556,\"#d8576b\"],[0.6666666666666666,\"#ed7953\"],[0.7777777777777778,\"#fb9f3a\"],[0.8888888888888888,\"#fdca26\"],[1.0,\"#f0f921\"]]}],\"surface\":[{\"type\":\"surface\",\"colorbar\":{\"outlinewidth\":0,\"ticks\":\"\"},\"colorscale\":[[0.0,\"#0d0887\"],[0.1111111111111111,\"#46039f\"],[0.2222222222222222,\"#7201a8\"],[0.3333333333333333,\"#9c179e\"],[0.4444444444444444,\"#bd3786\"],[0.5555555555555556,\"#d8576b\"],[0.6666666666666666,\"#ed7953\"],[0.7777777777777778,\"#fb9f3a\"],[0.8888888888888888,\"#fdca26\"],[1.0,\"#f0f921\"]]}],\"mesh3d\":[{\"type\":\"mesh3d\",\"colorbar\":{\"outlinewidth\":0,\"ticks\":\"\"}}],\"scatter\":[{\"fillpattern\":{\"fillmode\":\"overlay\",\"size\":10,\"solidity\":0.2},\"type\":\"scatter\"}],\"parcoords\":[{\"type\":\"parcoords\",\"line\":{\"colorbar\":{\"outlinewidth\":0,\"ticks\":\"\"}}}],\"scatterpolargl\":[{\"type\":\"scatterpolargl\",\"marker\":{\"colorbar\":{\"outlinewidth\":0,\"ticks\":\"\"}}}],\"bar\":[{\"error_x\":{\"color\":\"#2a3f5f\"},\"error_y\":{\"color\":\"#2a3f5f\"},\"marker\":{\"line\":{\"color\":\"#E5ECF6\",\"width\":0.5},\"pattern\":{\"fillmode\":\"overlay\",\"size\":10,\"solidity\":0.2}},\"type\":\"bar\"}],\"scattergeo\":[{\"type\":\"scattergeo\",\"marker\":{\"colorbar\":{\"outlinewidth\":0,\"ticks\":\"\"}}}],\"scatterpolar\":[{\"type\":\"scatterpolar\",\"marker\":{\"colorbar\":{\"outlinewidth\":0,\"ticks\":\"\"}}}],\"histogram\":[{\"marker\":{\"pattern\":{\"fillmode\":\"overlay\",\"size\":10,\"solidity\":0.2}},\"type\":\"histogram\"}],\"scattergl\":[{\"type\":\"scattergl\",\"marker\":{\"colorbar\":{\"outlinewidth\":0,\"ticks\":\"\"}}}],\"scatter3d\":[{\"type\":\"scatter3d\",\"line\":{\"colorbar\":{\"outlinewidth\":0,\"ticks\":\"\"}},\"marker\":{\"colorbar\":{\"outlinewidth\":0,\"ticks\":\"\"}}}],\"scattermapbox\":[{\"type\":\"scattermapbox\",\"marker\":{\"colorbar\":{\"outlinewidth\":0,\"ticks\":\"\"}}}],\"scatterternary\":[{\"type\":\"scatterternary\",\"marker\":{\"colorbar\":{\"outlinewidth\":0,\"ticks\":\"\"}}}],\"scattercarpet\":[{\"type\":\"scattercarpet\",\"marker\":{\"colorbar\":{\"outlinewidth\":0,\"ticks\":\"\"}}}],\"carpet\":[{\"aaxis\":{\"endlinecolor\":\"#2a3f5f\",\"gridcolor\":\"white\",\"linecolor\":\"white\",\"minorgridcolor\":\"white\",\"startlinecolor\":\"#2a3f5f\"},\"baxis\":{\"endlinecolor\":\"#2a3f5f\",\"gridcolor\":\"white\",\"linecolor\":\"white\",\"minorgridcolor\":\"white\",\"startlinecolor\":\"#2a3f5f\"},\"type\":\"carpet\"}],\"table\":[{\"cells\":{\"fill\":{\"color\":\"#EBF0F8\"},\"line\":{\"color\":\"white\"}},\"header\":{\"fill\":{\"color\":\"#C8D4E3\"},\"line\":{\"color\":\"white\"}},\"type\":\"table\"}],\"barpolar\":[{\"marker\":{\"line\":{\"color\":\"#E5ECF6\",\"width\":0.5},\"pattern\":{\"fillmode\":\"overlay\",\"size\":10,\"solidity\":0.2}},\"type\":\"barpolar\"}],\"pie\":[{\"automargin\":true,\"type\":\"pie\"}]},\"layout\":{\"autotypenumbers\":\"strict\",\"colorway\":[\"#636efa\",\"#EF553B\",\"#00cc96\",\"#ab63fa\",\"#FFA15A\",\"#19d3f3\",\"#FF6692\",\"#B6E880\",\"#FF97FF\",\"#FECB52\"],\"font\":{\"color\":\"#2a3f5f\"},\"hovermode\":\"closest\",\"hoverlabel\":{\"align\":\"left\"},\"paper_bgcolor\":\"white\",\"plot_bgcolor\":\"#E5ECF6\",\"polar\":{\"bgcolor\":\"#E5ECF6\",\"angularaxis\":{\"gridcolor\":\"white\",\"linecolor\":\"white\",\"ticks\":\"\"},\"radialaxis\":{\"gridcolor\":\"white\",\"linecolor\":\"white\",\"ticks\":\"\"}},\"ternary\":{\"bgcolor\":\"#E5ECF6\",\"aaxis\":{\"gridcolor\":\"white\",\"linecolor\":\"white\",\"ticks\":\"\"},\"baxis\":{\"gridcolor\":\"white\",\"linecolor\":\"white\",\"ticks\":\"\"},\"caxis\":{\"gridcolor\":\"white\",\"linecolor\":\"white\",\"ticks\":\"\"}},\"coloraxis\":{\"colorbar\":{\"outlinewidth\":0,\"ticks\":\"\"}},\"colorscale\":{\"sequential\":[[0.0,\"#0d0887\"],[0.1111111111111111,\"#46039f\"],[0.2222222222222222,\"#7201a8\"],[0.3333333333333333,\"#9c179e\"],[0.4444444444444444,\"#bd3786\"],[0.5555555555555556,\"#d8576b\"],[0.6666666666666666,\"#ed7953\"],[0.7777777777777778,\"#fb9f3a\"],[0.8888888888888888,\"#fdca26\"],[1.0,\"#f0f921\"]],\"sequentialminus\":[[0.0,\"#0d0887\"],[0.1111111111111111,\"#46039f\"],[0.2222222222222222,\"#7201a8\"],[0.3333333333333333,\"#9c179e\"],[0.4444444444444444,\"#bd3786\"],[0.5555555555555556,\"#d8576b\"],[0.6666666666666666,\"#ed7953\"],[0.7777777777777778,\"#fb9f3a\"],[0.8888888888888888,\"#fdca26\"],[1.0,\"#f0f921\"]],\"diverging\":[[0,\"#8e0152\"],[0.1,\"#c51b7d\"],[0.2,\"#de77ae\"],[0.3,\"#f1b6da\"],[0.4,\"#fde0ef\"],[0.5,\"#f7f7f7\"],[0.6,\"#e6f5d0\"],[0.7,\"#b8e186\"],[0.8,\"#7fbc41\"],[0.9,\"#4d9221\"],[1,\"#276419\"]]},\"xaxis\":{\"gridcolor\":\"white\",\"linecolor\":\"white\",\"ticks\":\"\",\"title\":{\"standoff\":15},\"zerolinecolor\":\"white\",\"automargin\":true,\"zerolinewidth\":2},\"yaxis\":{\"gridcolor\":\"white\",\"linecolor\":\"white\",\"ticks\":\"\",\"title\":{\"standoff\":15},\"zerolinecolor\":\"white\",\"automargin\":true,\"zerolinewidth\":2},\"scene\":{\"xaxis\":{\"backgroundcolor\":\"#E5ECF6\",\"gridcolor\":\"white\",\"linecolor\":\"white\",\"showbackground\":true,\"ticks\":\"\",\"zerolinecolor\":\"white\",\"gridwidth\":2},\"yaxis\":{\"backgroundcolor\":\"#E5ECF6\",\"gridcolor\":\"white\",\"linecolor\":\"white\",\"showbackground\":true,\"ticks\":\"\",\"zerolinecolor\":\"white\",\"gridwidth\":2},\"zaxis\":{\"backgroundcolor\":\"#E5ECF6\",\"gridcolor\":\"white\",\"linecolor\":\"white\",\"showbackground\":true,\"ticks\":\"\",\"zerolinecolor\":\"white\",\"gridwidth\":2}},\"shapedefaults\":{\"line\":{\"color\":\"#2a3f5f\"}},\"annotationdefaults\":{\"arrowcolor\":\"#2a3f5f\",\"arrowhead\":0,\"arrowwidth\":1},\"geo\":{\"bgcolor\":\"white\",\"landcolor\":\"#E5ECF6\",\"subunitcolor\":\"white\",\"showland\":true,\"showlakes\":true,\"lakecolor\":\"white\"},\"title\":{\"x\":0.05},\"mapbox\":{\"style\":\"light\"}}},\"scene\":{\"domain\":{\"x\":[0.0,1.0],\"y\":[0.0,1.0]},\"xaxis\":{\"title\":{\"text\":\"PC1\"}},\"yaxis\":{\"title\":{\"text\":\"PC2\"}},\"zaxis\":{\"title\":{\"text\":\"PC3\"}}},\"coloraxis\":{\"colorbar\":{\"title\":{\"text\":\"Cluster\"}},\"colorscale\":[[0.0,\"#0d0887\"],[0.1111111111111111,\"#46039f\"],[0.2222222222222222,\"#7201a8\"],[0.3333333333333333,\"#9c179e\"],[0.4444444444444444,\"#bd3786\"],[0.5555555555555556,\"#d8576b\"],[0.6666666666666666,\"#ed7953\"],[0.7777777777777778,\"#fb9f3a\"],[0.8888888888888888,\"#fdca26\"],[1.0,\"#f0f921\"]]},\"legend\":{\"tracegroupgap\":0},\"title\":{\"text\":\"3D Scatter Plot of Clusters\"}},                        {\"responsive\": true}                    ).then(function(){\n",
       "                            \n",
       "var gd = document.getElementById('10034213-034c-4429-947e-c3fc7f21e79c');\n",
       "var x = new MutationObserver(function (mutations, observer) {{\n",
       "        var display = window.getComputedStyle(gd).display;\n",
       "        if (!display || display === 'none') {{\n",
       "            console.log([gd, 'removed!']);\n",
       "            Plotly.purge(gd);\n",
       "            observer.disconnect();\n",
       "        }}\n",
       "}});\n",
       "\n",
       "// Listen for the removal of the full notebook cells\n",
       "var notebookContainer = gd.closest('#notebook-container');\n",
       "if (notebookContainer) {{\n",
       "    x.observe(notebookContainer, {childList: true});\n",
       "}}\n",
       "\n",
       "// Listen for the clearing of the current output cell\n",
       "var outputEl = gd.closest('.output');\n",
       "if (outputEl) {{\n",
       "    x.observe(outputEl, {childList: true});\n",
       "}}\n",
       "\n",
       "                        })                };                });            </script>        </div>"
      ]
     },
     "metadata": {},
     "output_type": "display_data"
    }
   ],
   "source": [
    "import plotly.express as px\n",
    "import pandas as pd\n",
    "from sklearn.decomposition import PCA\n",
    "\n",
    "# Assuming y_kmeans and transformed_features are already defined\n",
    "\n",
    "# Perform PCA to reduce dimensions to 3\n",
    "pca = PCA(n_components=3)\n",
    "principal_components = pca.fit_transform(transformed_features)\n",
    "\n",
    "# Create a DataFrame with the principal components and cluster labels\n",
    "df_pca = pd.DataFrame(data=principal_components, columns=['PC1', 'PC2', 'PC3'])\n",
    "df_pca['Cluster'] = y_kmeans_1\n",
    "\n",
    "# Plot the 3D scatter plot using Plotly\n",
    "fig = px.scatter_3d(df_pca, x='PC1', y='PC2', z='PC3', color='Cluster', title='3D Scatter Plot of Clusters')\n",
    "\n",
    "# Show the plot\n",
    "fig.show()"
   ]
  },
  {
   "cell_type": "code",
   "execution_count": 132,
   "metadata": {},
   "outputs": [
    {
     "data": {
      "text/html": [
       "<div>\n",
       "<style scoped>\n",
       "    .dataframe tbody tr th:only-of-type {\n",
       "        vertical-align: middle;\n",
       "    }\n",
       "\n",
       "    .dataframe tbody tr th {\n",
       "        vertical-align: top;\n",
       "    }\n",
       "\n",
       "    .dataframe thead th {\n",
       "        text-align: right;\n",
       "    }\n",
       "</style>\n",
       "<table border=\"1\" class=\"dataframe\">\n",
       "  <thead>\n",
       "    <tr style=\"text-align: right;\">\n",
       "      <th></th>\n",
       "      <th>w1_b_7</th>\n",
       "      <th>w1_h_4</th>\n",
       "      <th>w1_c_1</th>\n",
       "      <th>w1_b_8</th>\n",
       "      <th>totroom</th>\n",
       "    </tr>\n",
       "    <tr>\n",
       "      <th>3Cluster</th>\n",
       "      <th></th>\n",
       "      <th></th>\n",
       "      <th></th>\n",
       "      <th></th>\n",
       "      <th></th>\n",
       "    </tr>\n",
       "  </thead>\n",
       "  <tbody>\n",
       "    <tr>\n",
       "      <th>0</th>\n",
       "      <td>0.05</td>\n",
       "      <td>50016.65</td>\n",
       "      <td>2.81</td>\n",
       "      <td>687.84</td>\n",
       "      <td>6.60</td>\n",
       "    </tr>\n",
       "    <tr>\n",
       "      <th>1</th>\n",
       "      <td>0.03</td>\n",
       "      <td>70916.67</td>\n",
       "      <td>6.18</td>\n",
       "      <td>725.74</td>\n",
       "      <td>6.94</td>\n",
       "    </tr>\n",
       "    <tr>\n",
       "      <th>2</th>\n",
       "      <td>0.30</td>\n",
       "      <td>131950.00</td>\n",
       "      <td>4.22</td>\n",
       "      <td>2243.15</td>\n",
       "      <td>12.32</td>\n",
       "    </tr>\n",
       "  </tbody>\n",
       "</table>\n",
       "</div>"
      ],
      "text/plain": [
       "          w1_b_7     w1_h_4  w1_c_1   w1_b_8  totroom\n",
       "3Cluster                                             \n",
       "0           0.05   50016.65    2.81   687.84     6.60\n",
       "1           0.03   70916.67    6.18   725.74     6.94\n",
       "2           0.30  131950.00    4.22  2243.15    12.32"
      ]
     },
     "execution_count": 132,
     "metadata": {},
     "output_type": "execute_result"
    }
   ],
   "source": [
    "cluster_summary_1 = merged.groupby('3Cluster')[numerical_features].mean().round(2)\n",
    "cluster_summary_1"
   ]
  },
  {
   "cell_type": "code",
   "execution_count": 133,
   "metadata": {},
   "outputs": [
    {
     "data": {
      "text/plain": [
       "3Cluster\n",
       "0    120\n",
       "1     72\n",
       "2     40\n",
       "dtype: int64"
      ]
     },
     "execution_count": 133,
     "metadata": {},
     "output_type": "execute_result"
    }
   ],
   "source": [
    "cluster_summary_1 = merged.groupby('3Cluster')[numerical_features].size()\n",
    "cluster_summary_1"
   ]
  },
  {
   "cell_type": "markdown",
   "metadata": {},
   "source": [
    "#### 4 Clusters"
   ]
  },
  {
   "cell_type": "code",
   "execution_count": 134,
   "metadata": {},
   "outputs": [],
   "source": [
    "kmeans_2 = KMeans(n_clusters=4, random_state=42)\n",
    "y_kmeans_2 = kmeans_2.fit_predict(transformed_features)\n",
    "merged['4Cluster'] = y_kmeans_2"
   ]
  },
  {
   "cell_type": "code",
   "execution_count": 135,
   "metadata": {},
   "outputs": [
    {
     "data": {
      "image/png": "[encoded data removed]",
      "text/plain": [
       "<Figure size 1080x576 with 1 Axes>"
      ]
     },
     "metadata": {
      "needs_background": "light"
     },
     "output_type": "display_data"
    }
   ],
   "source": [
    "pca = PCA(n_components=2)\n",
    "principal_components = pca.fit_transform(transformed_features)\n",
    "df_pca = pd.DataFrame(data=principal_components, columns=['PC1', 'PC2'])\n",
    "df_pca['Cluster'] = y_kmeans_2\n",
    "\n",
    "plt.figure(figsize=(15, 8))\n",
    "sns.scatterplot(x='PC1', y='PC2', hue='Cluster', data=df_pca, palette='Set2')\n",
    "plt.title('Clusters of Households')\n",
    "plt.show()"
   ]
  },
  {
   "cell_type": "code",
   "execution_count": 136,
   "metadata": {},
   "outputs": [
    {
     "data": {
      "application/vnd.plotly.v1+json": {
       "config": {
        "plotlyServerURL": "https://plot.ly"
       },
       "data": [
        {
         "hovertemplate": "PC1=%{x}<br>PC2=%{y}<br>PC3=%{z}<br>Cluster=%{marker.color}<extra></extra>",
         "legendgroup": "",
         "marker": {
          "color": [
           1,
           3,
           3,
           2,
           0,
           0,
           2,
           2,
           0,
           0,
           0,
           2,
           3,
           0,
           0,
           0,
           0,
           2,
           3,
           2,
           0,
           0,
           0,
           1,
           3,
           3,
           3,
           1,
           3,
           2,
           3,
           2,
           2,
           3,
           2,
           1,
           3,
           3,
           3,
           1,
           2,
           1,
           3,
           3,
           3,
           3,
           3,
           1,
           1,
           0,
           0,
           1,
           0,
           3,
           1,
           0,
           0,
           0,
           1,
           1,
           1,
           3,
           3,
           1,
           3,
           3,
           3,
           0,
           1,
           1,
           3,
           3,
           3,
           1,
           1,
           0,
           1,
           3,
           2,
           1,
           0,
           1,
           3,
           2,
           3,
           0,
           0,
           1,
           3,
           1,
           3,
           1,
           1,
           1,
           1,
           0,
           3,
           1,
           3,
           1,
           3,
           0,
           3,
           0,
           3,
           1,
           1,
           1,
           3,
           0,
           0,
           0,
           3,
           1,
           3,
           3,
           0,
           3,
           3,
           1,
           1,
           1,
           0,
           3,
           0,
           3,
           1,
           3,
           0,
           1,
           3,
           1,
           1,
           3,
           1,
           0,
           0,
           3,
           0,
           0,
           0,
           2,
           3,
           3,
           3,
           1,
           1,
           1,
           2,
           0,
           3,
           3,
           3,
           3,
           3,
           3,
           1,
           3,
           0,
           3,
           1,
           3,
           2,
           3,
           3,
           1,
           2,
           1,
           1,
           3,
           3,
           3,
           1,
           1,
           1,
           3,
           3,
           0,
           0,
           3,
           3,
           3,
           3,
           3,
           3,
           3,
           3,
           1,
           2,
           3,
           3,
           3,
           3,
           3,
           1,
           1,
           3,
           3,
           0,
           3,
           0,
           3,
           0,
           0,
           3,
           1,
           3,
           3,
           1,
           3,
           1,
           3,
           3,
           3,
           0,
           0,
           1,
           0,
           0,
           3,
           0,
           1,
           2,
           1,
           2,
           3,
           1,
           3,
           3,
           3,
           0,
           0
          ],
          "coloraxis": "coloraxis",
          "symbol": "circle"
         },
         "mode": "markers",
         "name": "",
         "scene": "scene",
         "showlegend": false,
         "type": "scatter3d",
         "x": [
          -0.2741863667872922,
          -0.5004838639620431,
          -1.8215093184873992,
          3.60825415401432,
          0.5863350011891726,
          -0.31434967879922765,
          3.039100312321435,
          4.713808145142347,
          0.7231729549178327,
          2.591595850361944,
          1.3713696348218718,
          3.6263981472840494,
          -0.5564213979106717,
          2.2488642311575084,
          1.4422155642088712,
          1.122717545352822,
          1.2315089692167147,
          6.9505023555479735,
          -1.5870633737342372,
          3.660460279262522,
          0.48101602500524787,
          1.3279667920120815,
          0.3393280841836727,
          -0.931714740442992,
          -0.2667134005968776,
          -0.20850932443888692,
          -0.8318850781492643,
          -0.6081039405290312,
          -1.2936143343450983,
          2.706588486590146,
          -1.4950057096521403,
          3.1978556730178567,
          2.7405432182418066,
          -0.72122326498465,
          2.076938972286773,
          -0.9066324817285826,
          -0.9496529206883781,
          -0.610217365416878,
          -1.2112341408630392,
          -0.17584560913067054,
          5.703271657574094,
          -0.3708415301196659,
          -1.4843092019073203,
          -1.3518736961209254,
          -1.108247117135995,
          -1.969602485210416,
          -1.230958214243868,
          -0.3765572068958601,
          0.9599730469464454,
          0.898453655988005,
          1.3207683008528672,
          -0.7184432309427203,
          -0.2619639892063719,
          -1.382943014431578,
          0.19441630628775483,
          0.4956589767497609,
          0.25135402788112415,
          1.8423014507770163,
          0.3296433178353004,
          0.3786485264975598,
          -0.631546117250221,
          -1.1739036264917808,
          -1.1352039270801773,
          -0.08672613104923864,
          -1.871902870592055,
          -0.733399553868196,
          -0.51903883553017,
          0.1424524764914564,
          -0.08822042727406532,
          -1.2405454240775267,
          -1.9613405162535569,
          -0.8018278700728921,
          -0.6379338991803906,
          -0.6823646883607485,
          -0.18900662612701205,
          -0.009150067186209613,
          -0.9464972455045406,
          -1.535267654313608,
          2.2875564892254294,
          0.5328449775773532,
          0.685468321373955,
          0.26943066536219507,
          -1.2318907391178773,
          3.2199305677347887,
          -0.9253997903874492,
          0.2767695667615402,
          0.356757900115663,
          -0.5841599542163681,
          -0.7357335318656818,
          0.11479111818363064,
          -0.2847415226409051,
          -0.4774641655009034,
          -1.0103737163042874,
          -0.9869193923829068,
          1.8846659498513418,
          0.9047990582216943,
          -0.4887310072512657,
          1.6586203881760726,
          -0.518818282420531,
          0.17140017701012245,
          -0.939612009437666,
          1.534481265661323,
          -1.3655569412255575,
          -0.33754385270098086,
          -0.520478675900785,
          -0.25335810562115463,
          0.021967279121432957,
          0.21582469411198998,
          -1.607894284753336,
          0.8000534158414859,
          0.012886428257584156,
          0.8067670823188373,
          -0.3997984879994493,
          -0.4224800666706273,
          -1.8023940420980384,
          -1.614530832176762,
          1.506486789686979,
          -0.2550024917902839,
          -0.5279205680921941,
          1.0358528088261354,
          -0.5528539791216875,
          0.8328413575952552,
          1.7630492809759613,
          -2.021125556558913,
          0.27289336191058405,
          -1.026582120554046,
          1.191025401087931,
          -1.0354778841359729,
          2.055026658447636,
          1.0083378133072116,
          -1.701048038045742,
          -0.08127365748109645,
          -0.7189179768313951,
          -0.2155013906817651,
          0.8150881928263419,
          1.1357720098765016,
          0.10179597027109598,
          -0.5387434078042703,
          0.99739652120901,
          1.3049406104424606,
          1.3879688288889023,
          4.932566269427551,
          -1.758672854291326,
          -1.2893423724932753,
          -1.3034346924861717,
          -0.3462172207479567,
          -0.29132277784869903,
          1.0437331478678062,
          4.574302073405418,
          -0.38198074388230635,
          -0.5156771633581771,
          -1.2183901643914192,
          -0.3382134698277711,
          -0.9194966147441341,
          -1.171390496611607,
          -1.6596839988290872,
          -0.4782614166225212,
          -1.1549296046792623,
          1.265955078347512,
          -0.7050420954295191,
          0.3662709778803462,
          -1.4510393139286706,
          1.841678634828268,
          -1.081472164300056,
          -2.1023999185638815,
          -0.16423202892688518,
          3.443265770995256,
          0.005538122723992707,
          -0.17459683246668095,
          -1.3911643263939228,
          -1.5219592980271406,
          -0.9327267733707912,
          -0.9298590689193398,
          -1.413843996366002,
          0.12992737421510947,
          -1.6777118350054918,
          -1.1712187917598853,
          0.3888872854086381,
          0.4570822321488137,
          -0.41213903382746203,
          -1.1952891734568416,
          -0.014866149704457291,
          -0.836818200667325,
          -1.5309800729027616,
          -1.4764058486408234,
          -0.9857574412991044,
          -0.860992492107929,
          1.2129789996541624,
          2.094864170413333,
          -1.2552539367124134,
          -2.246501861984661,
          -1.1579462792371875,
          -1.0232789407961007,
          -0.36063161174854225,
          -0.9623350519506713,
          -0.47122797400196687,
          -1.7990350824379207,
          -1.2374455048778654,
          0.11538406248583002,
          -0.9379417260141616,
          -0.3042079003787754,
          -1.8641634316983537,
          0.33170023282458766,
          0.4219487530619519,
          -0.66242168541631,
          -0.16453957859852714,
          -0.8365371512912806,
          -1.1661917925505054,
          -0.6901481477412337,
          -1.2702253634328398,
          0.3975192091306336,
          -0.7366555071697426,
          -0.8821494678873599,
          -0.9835725961577586,
          0.40783514814447963,
          1.2830668158194978,
          0.7350287075327737,
          1.4123587012998775,
          0.582767723758338,
          -0.5217700050461498,
          0.18761290520975896,
          -0.6458453603237474,
          1.5785022040646692,
          -0.12381329088173054,
          2.92935068123571,
          -0.9975344779994398,
          -0.23602846997776555,
          -0.32196691706274244,
          -1.6765854611480964,
          -0.378883270225484,
          -0.08789487532950227,
          0.19947074364074374
         ],
         "y": [
          1.1101224792023703,
          -4.04570004600758,
          -0.6372308510471775,
          -0.08461838174987645,
          0.37926309612356407,
          -0.9882033713982459,
          0.45443416347796645,
          0.5130131505690869,
          -1.1779409564014927,
          -2.2387492024102733,
          -1.385998636579814,
          0.3768800446449945,
          -0.572792905060558,
          -0.00912038280581275,
          -1.299073206505378,
          -0.961860028665905,
          -0.14348756677045113,
          -4.20347274030012,
          -0.844743461102694,
          -0.7911153885477887,
          -0.6549525407646123,
          -0.7859397215782284,
          -0.04970004846686219,
          0.7776678160897638,
          -0.339807323286816,
          -0.29499479569915665,
          -0.5633895866234977,
          0.7342537288009751,
          0.636123452036171,
          1.3453410009950042,
          -1.1988470894570886,
          -2.004499985217955,
          0.41485729846224323,
          -0.3594223809963162,
          0.32530512357302727,
          0.758468007759866,
          -0.22083714116766331,
          -0.31316684308679665,
          -0.31461886102087017,
          0.6446341164176413,
          1.1458563454219242,
          1.0110535975992312,
          -0.6494839456548146,
          -0.18970749261028957,
          0.030349779833514726,
          0.3522858266230762,
          0.11460895649064808,
          0.9668937473478604,
          2.692340852760733,
          0.48798317312629325,
          -0.14773722186044644,
          1.487281206702529,
          -0.5182841138591106,
          -0.499111253171528,
          2.18603910191567,
          -0.04131444877108325,
          0.3434654544460833,
          -1.6670159639166326,
          0.7353025400705372,
          0.9223492128988998,
          0.7793696434289116,
          -0.6732185252838747,
          -0.04554629307141287,
          1.5463707663031563,
          -0.3854664409070359,
          -0.3189787388349397,
          0.011160037348176501,
          0.2923183833404906,
          0.8109325537260784,
          1.5710134150170347,
          -0.8181575974406737,
          -0.2779834858201485,
          -0.7551349629355134,
          0.06092997200744035,
          0.7209232681622688,
          -1.2347938812968655,
          0.7833824505550123,
          -0.10751626742341075,
          0.5888942997322357,
          0.9638964240803313,
          -1.203492948044051,
          1.1130500829484573,
          0.23572670491359257,
          1.1441218922183032,
          -0.8831657109007154,
          -0.8795538526721278,
          -0.4056805381947862,
          0.6980587717900159,
          -0.5448485717055175,
          1.2664512182014325,
          -0.35116937924700187,
          1.1472249584815868,
          0.9715579269520587,
          1.7008880283927899,
          1.0726310487770283,
          0.08205821835948285,
          -0.9157549474791349,
          2.577562793896022,
          -0.8103907016690173,
          0.7171671298242543,
          0.22800510700366836,
          -0.37983605349475225,
          0.2111379516738454,
          -1.2904295780091501,
          -0.10604694249290032,
          0.3547649914133206,
          0.822786340015007,
          1.0230234948736883,
          -0.7389734947287132,
          0.42131741728994515,
          -0.5358628462881934,
          -0.3300448252869556,
          0.08020264745535273,
          1.0455554851957545,
          -1.1656745521988177,
          -0.6698703791802951,
          -1.0727644041209818,
          0.06691125260327528,
          0.2852399439788886,
          2.5697608508395335,
          0.6030248450339921,
          1.6129067975017046,
          -0.5069718259521743,
          -0.7385036358662759,
          -0.46046715636461627,
          -0.55732142005397,
          1.4161569937324177,
          0.5071675469088618,
          -0.8711575766691647,
          1.653446929378192,
          -0.8213455296336487,
          0.7772477182781553,
          0.1347724440882942,
          -2.8998353513727038,
          1.6807160427616632,
          -2.2905979354055392,
          -1.0633059496603257,
          -0.00989468138356828,
          -0.5183661196155636,
          -0.5008831361974138,
          -0.6363032770414225,
          -0.09960761026204955,
          -0.921260330003862,
          0.6900315487234251,
          -0.6342695351523545,
          2.055633510770663,
          3.0398518818649687,
          1.37821479509088,
          0.5865500679019958,
          -1.3564647597091115,
          -0.2328124801463232,
          -0.3440594986849334,
          -0.4914681801975826,
          -0.7894360156993468,
          -0.1351176241889356,
          -0.695066558613045,
          1.5564815998072434,
          0.29061404729465445,
          -0.14182397721619952,
          -0.01332244193696506,
          1.0904794406145135,
          -1.322271985051541,
          -2.0371776878704826,
          0.11407943032695587,
          -1.2396694225491494,
          0.7975923897253129,
          0.5347004954183185,
          1.1785997972449667,
          0.6005650511632178,
          -0.35421711286047186,
          -1.2634083398592595,
          -0.3273722365476758,
          1.285958642501851,
          1.212170889453697,
          2.628405801311562,
          -0.6076836714903341,
          -1.3390717423666003,
          -0.04307807909760423,
          -0.7243390949730921,
          -0.6658115356458751,
          0.6930686613580666,
          0.22482361785193758,
          0.0583026278109218,
          -0.2323855002459688,
          -0.6247498415301885,
          -0.42847474608271263,
          -0.9318210598638053,
          1.4339159253209095,
          -2.921611517353858,
          0.6092726040729602,
          -0.6528528539303814,
          -0.07444340391789468,
          -0.7041222993977471,
          -0.15345048610164153,
          0.5824522918632631,
          0.6936315576874392,
          0.3240365928170728,
          0.10605947921222796,
          -0.061230658068193174,
          0.2846263778053246,
          -0.8643006710845863,
          -0.5928720114763841,
          0.03869833175935316,
          -0.010382203203312027,
          0.16232945539820587,
          1.8621886643651222,
          0.205218468836166,
          -0.10066123534359572,
          0.9255237881529259,
          0.10774702933393618,
          1.316445956069472,
          -0.8631348610611554,
          -1.456744348970018,
          -0.4313047797064564,
          0.053861466302062184,
          -0.8241376702602503,
          0.7641928760586238,
          -0.29954983149412223,
          -0.33874701540336316,
          -0.3759317220211639,
          -0.07174448296644878,
          0.6501396121938995,
          0.39853403963433354,
          1.2963202471033333,
          0.5525879937186733,
          -0.06622192096380931,
          1.0307438251818044,
          -0.8761989393132947,
          -0.6246761905879806,
          0.18660758332769786,
          -0.5599889910464619,
          -1.0044699662974501
         ],
         "z": [
          0.4507663960791985,
          5.4477926595900925,
          -0.22691904319576084,
          -0.7874321232411545,
          -0.246753967280582,
          -0.8243889488889825,
          -0.37044303337041545,
          -0.7277356036764193,
          -1.1507359647054356,
          -2.1181592324533747,
          -1.2681912253756575,
          -0.7271858865131076,
          -0.44383585510127993,
          -0.8949907245314436,
          -1.39358218927851,
          -1.0064529577574401,
          -0.6119323149542709,
          3.601592486757501,
          -0.2892082566784394,
          -1.4850843345264972,
          -0.697197685956446,
          -1.1710960042230845,
          -0.25170568095581575,
          0.3504582507848063,
          -0.29225935557760563,
          -0.18598042142530907,
          -0.3955321126223083,
          0.3579688781583893,
          0.27602483138131656,
          0.3803732689979913,
          -0.49223865980638,
          5.750766694283214,
          -0.17030377184908008,
          -0.21431714186286058,
          -0.20371126303209314,
          0.3114847947631092,
          -0.021667416319267687,
          -0.19028677691234108,
          -0.11347381345481997,
          0.12449021386513238,
          -0.15712382560401694,
          0.249860184160993,
          -0.22808068431023173,
          -0.02485159960547315,
          0.009291338311122818,
          0.3076140892971407,
          0.14975318337689617,
          0.3085058788613912,
          0.8396392119069206,
          -0.1509480669349165,
          -0.6726811604867261,
          0.6853104370330463,
          -0.5749913408067951,
          -0.20540287351888972,
          0.8137191794545258,
          -0.40936924924990176,
          -0.23111533761285635,
          -1.666892457819784,
          0.10558821772750702,
          0.07472016146433791,
          0.22846010769043928,
          -0.41195259170778104,
          -0.011731660492586,
          0.548904260217079,
          -0.02150799939876566,
          -0.28964831920211204,
          -0.15234928898551328,
          -0.245489310529729,
          0.2573610939232048,
          0.8370032557143895,
          -0.20625295437963545,
          -0.09040493270180676,
          -0.631453178910316,
          2.567958054540455,
          0.263694664281533,
          -0.9604492616412457,
          0.3573320024230602,
          0.18543737847837918,
          -0.20478448251646547,
          0.2408023559247348,
          -0.9605497673252733,
          0.37688624141927735,
          0.0632167156687402,
          -0.30781316907067874,
          -0.5239133977413581,
          -0.7401142971578872,
          -0.602389738874655,
          0.39094610325721035,
          -0.4503374395654387,
          0.2909683521421218,
          -0.43864583702953563,
          0.42197526744279074,
          0.34767697580233553,
          0.8329388157316417,
          -0.11761656305030033,
          -0.4980802090938517,
          -0.7174238354857747,
          0.8232463167090465,
          -0.5399158236929172,
          0.13231420644776123,
          0.03257166854383573,
          -0.7703511552162918,
          0.12941095127724175,
          -0.9030844397919737,
          -0.12199835753835633,
          -0.04836638647002195,
          0.13411356468576283,
          0.3439132870240233,
          -0.30622398715353233,
          -0.2070968110465864,
          -0.5304366768262148,
          -0.5973653806407181,
          -0.05641186605088943,
          0.32706123720335906,
          -0.45986580708707064,
          -0.2550966350276438,
          -1.3091207346521765,
          -0.24787534046677773,
          0.013263359235598033,
          0.7393433435118738,
          0.2941026536030788,
          0.2870926420492336,
          -0.6675695566483708,
          -0.15415718435147222,
          -0.568459435697677,
          -0.301512309461964,
          0.2483886938898885,
          0.28494029720138536,
          -1.0631355995992737,
          0.5845807981375553,
          -0.42497791923075395,
          0.08689383290383597,
          2.691773741557635,
          3.417985855532695,
          0.5137645664480427,
          0.7741921243916595,
          -0.7843725708639482,
          -0.2361155720666435,
          -0.6732573092084424,
          -0.7571153900757823,
          -0.995444969640462,
          -1.4923688673618243,
          -0.2980343367199872,
          0.30746976893310207,
          -0.16578078818919073,
          1.032794999754904,
          1.387736287763343,
          0.2012654842518355,
          -0.32472882391986463,
          -0.9887456482570588,
          -0.11064826019995981,
          -0.1792431776263753,
          -0.3713391999438217,
          -0.5517945498196194,
          0.08143885825454099,
          -0.16055513703418361,
          0.7855753533111722,
          0.29132315332763337,
          -0.5314227292384729,
          -0.05132606983886262,
          0.23210888316663164,
          -0.583624796239693,
          3.74040900337507,
          0.2952741121864229,
          -0.47906681436021425,
          0.2450929182353603,
          -0.7428455394829198,
          0.5511143252349495,
          0.07654535901931993,
          -0.09202865718819503,
          -0.6455795724805526,
          -0.29218866533538856,
          0.6326763242062531,
          0.7991803417044806,
          1.0533981134525425,
          -0.0828254858903867,
          -0.8023344584756754,
          -0.4219420777374762,
          -0.5290041623963068,
          -0.506052941653996,
          0.4670759735472451,
          -0.12418596639997408,
          -0.07340921952999009,
          -0.05467475735556653,
          -0.16620911455287837,
          -0.3624148960544862,
          -0.555855801982221,
          0.5565545917836491,
          5.6572059400775085,
          0.21793757684928503,
          -0.09836625047907291,
          -0.02289049800633266,
          2.295548877570636,
          -0.22584513921093813,
          0.17458539935862352,
          0.3208227404092676,
          0.25003541042834826,
          0.060142612383979076,
          -0.2350818821705648,
          0.24683273138728717,
          -0.6717508417668986,
          -0.21116465325566425,
          -0.15293281188698457,
          -0.2279758515467078,
          0.026994038988972433,
          0.7101978442619112,
          0.16500695807630178,
          0.027501428108312274,
          0.44617217145111904,
          0.03704108932182964,
          0.2761208974394113,
          -0.5322662120997992,
          -0.7529282410627643,
          -0.13240631007755707,
          -0.3595575293617537,
          -0.7504974645637603,
          -0.12547810498735842,
          -0.8438039560256293,
          -0.44993494330095113,
          -0.24775088186421473,
          -0.32149514150889413,
          0.32314951722606194,
          -0.017483868569389112,
          0.5037998557722466,
          -0.46161864383337964,
          -0.19200307754290605,
          0.45540040456863673,
          -0.6140047766479755,
          -0.13188270994654666,
          0.07795553361030925,
          -0.5005417183055288,
          -0.7993341819348643
         ]
        }
       ],
       "layout": {
        "coloraxis": {
         "colorbar": {
          "title": {
           "text": "Cluster"
          }
         },
         "colorscale": [
          [
           0,
           "#0d0887"
          ],
          [
           0.1111111111111111,
           "#46039f"
          ],
          [
           0.2222222222222222,
           "#7201a8"
          ],
          [
           0.3333333333333333,
           "#9c179e"
          ],
          [
           0.4444444444444444,
           "#bd3786"
          ],
          [
           0.5555555555555556,
           "#d8576b"
          ],
          [
           0.6666666666666666,
           "#ed7953"
          ],
          [
           0.7777777777777778,
           "#fb9f3a"
          ],
          [
           0.8888888888888888,
           "#fdca26"
          ],
          [
           1,
           "#f0f921"
          ]
         ]
        },
        "legend": {
         "tracegroupgap": 0
        },
        "scene": {
         "domain": {
          "x": [
           0,
           1
          ],
          "y": [
           0,
           1
          ]
         },
         "xaxis": {
          "title": {
           "text": "PC1"
          }
         },
         "yaxis": {
          "title": {
           "text": "PC2"
          }
         },
         "zaxis": {
          "title": {
           "text": "PC3"
          }
         }
        },
        "template": {
         "data": {
          "bar": [
           {
            "error_x": {
             "color": "#2a3f5f"
            },
            "error_y": {
             "color": "#2a3f5f"
            },
            "marker": {
             "line": {
              "color": "#E5ECF6",
              "width": 0.5
             },
             "pattern": {
              "fillmode": "overlay",
              "size": 10,
              "solidity": 0.2
             }
            },
            "type": "bar"
           }
          ],
          "barpolar": [
           {
            "marker": {
             "line": {
              "color": "#E5ECF6",
              "width": 0.5
             },
             "pattern": {
              "fillmode": "overlay",
              "size": 10,
              "solidity": 0.2
             }
            },
            "type": "barpolar"
           }
          ],
          "carpet": [
           {
            "aaxis": {
             "endlinecolor": "#2a3f5f",
             "gridcolor": "white",
             "linecolor": "white",
             "minorgridcolor": "white",
             "startlinecolor": "#2a3f5f"
            },
            "baxis": {
             "endlinecolor": "#2a3f5f",
             "gridcolor": "white",
             "linecolor": "white",
             "minorgridcolor": "white",
             "startlinecolor": "#2a3f5f"
            },
            "type": "carpet"
           }
          ],
          "choropleth": [
           {
            "colorbar": {
             "outlinewidth": 0,
             "ticks": ""
            },
            "type": "choropleth"
           }
          ],
          "contour": [
           {
            "colorbar": {
             "outlinewidth": 0,
             "ticks": ""
            },
            "colorscale": [
             [
              0,
              "#0d0887"
             ],
             [
              0.1111111111111111,
              "#46039f"
             ],
             [
              0.2222222222222222,
              "#7201a8"
             ],
             [
              0.3333333333333333,
              "#9c179e"
             ],
             [
              0.4444444444444444,
              "#bd3786"
             ],
             [
              0.5555555555555556,
              "#d8576b"
             ],
             [
              0.6666666666666666,
              "#ed7953"
             ],
             [
              0.7777777777777778,
              "#fb9f3a"
             ],
             [
              0.8888888888888888,
              "#fdca26"
             ],
             [
              1,
              "#f0f921"
             ]
            ],
            "type": "contour"
           }
          ],
          "contourcarpet": [
           {
            "colorbar": {
             "outlinewidth": 0,
             "ticks": ""
            },
            "type": "contourcarpet"
           }
          ],
          "heatmap": [
           {
            "colorbar": {
             "outlinewidth": 0,
             "ticks": ""
            },
            "colorscale": [
             [
              0,
              "#0d0887"
             ],
             [
              0.1111111111111111,
              "#46039f"
             ],
             [
              0.2222222222222222,
              "#7201a8"
             ],
             [
              0.3333333333333333,
              "#9c179e"
             ],
             [
              0.4444444444444444,
              "#bd3786"
             ],
             [
              0.5555555555555556,
              "#d8576b"
             ],
             [
              0.6666666666666666,
              "#ed7953"
             ],
             [
              0.7777777777777778,
              "#fb9f3a"
             ],
             [
              0.8888888888888888,
              "#fdca26"
             ],
             [
              1,
              "#f0f921"
             ]
            ],
            "type": "heatmap"
           }
          ],
          "heatmapgl": [
           {
            "colorbar": {
             "outlinewidth": 0,
             "ticks": ""
            },
            "colorscale": [
             [
              0,
              "#0d0887"
             ],
             [
              0.1111111111111111,
              "#46039f"
             ],
             [
              0.2222222222222222,
              "#7201a8"
             ],
             [
              0.3333333333333333,
              "#9c179e"
             ],
             [
              0.4444444444444444,
              "#bd3786"
             ],
             [
              0.5555555555555556,
              "#d8576b"
             ],
             [
              0.6666666666666666,
              "#ed7953"
             ],
             [
              0.7777777777777778,
              "#fb9f3a"
             ],
             [
              0.8888888888888888,
              "#fdca26"
             ],
             [
              1,
              "#f0f921"
             ]
            ],
            "type": "heatmapgl"
           }
          ],
          "histogram": [
           {
            "marker": {
             "pattern": {
              "fillmode": "overlay",
              "size": 10,
              "solidity": 0.2
             }
            },
            "type": "histogram"
           }
          ],
          "histogram2d": [
           {
            "colorbar": {
             "outlinewidth": 0,
             "ticks": ""
            },
            "colorscale": [
             [
              0,
              "#0d0887"
             ],
             [
              0.1111111111111111,
              "#46039f"
             ],
             [
              0.2222222222222222,
              "#7201a8"
             ],
             [
              0.3333333333333333,
              "#9c179e"
             ],
             [
              0.4444444444444444,
              "#bd3786"
             ],
             [
              0.5555555555555556,
              "#d8576b"
             ],
             [
              0.6666666666666666,
              "#ed7953"
             ],
             [
              0.7777777777777778,
              "#fb9f3a"
             ],
             [
              0.8888888888888888,
              "#fdca26"
             ],
             [
              1,
              "#f0f921"
             ]
            ],
            "type": "histogram2d"
           }
          ],
          "histogram2dcontour": [
           {
            "colorbar": {
             "outlinewidth": 0,
             "ticks": ""
            },
            "colorscale": [
             [
              0,
              "#0d0887"
             ],
             [
              0.1111111111111111,
              "#46039f"
             ],
             [
              0.2222222222222222,
              "#7201a8"
             ],
             [
              0.3333333333333333,
              "#9c179e"
             ],
             [
              0.4444444444444444,
              "#bd3786"
             ],
             [
              0.5555555555555556,
              "#d8576b"
             ],
             [
              0.6666666666666666,
              "#ed7953"
             ],
             [
              0.7777777777777778,
              "#fb9f3a"
             ],
             [
              0.8888888888888888,
              "#fdca26"
             ],
             [
              1,
              "#f0f921"
             ]
            ],
            "type": "histogram2dcontour"
           }
          ],
          "mesh3d": [
           {
            "colorbar": {
             "outlinewidth": 0,
             "ticks": ""
            },
            "type": "mesh3d"
           }
          ],
          "parcoords": [
           {
            "line": {
             "colorbar": {
              "outlinewidth": 0,
              "ticks": ""
             }
            },
            "type": "parcoords"
           }
          ],
          "pie": [
           {
            "automargin": true,
            "type": "pie"
           }
          ],
          "scatter": [
           {
            "fillpattern": {
             "fillmode": "overlay",
             "size": 10,
             "solidity": 0.2
            },
            "type": "scatter"
           }
          ],
          "scatter3d": [
           {
            "line": {
             "colorbar": {
              "outlinewidth": 0,
              "ticks": ""
             }
            },
            "marker": {
             "colorbar": {
              "outlinewidth": 0,
              "ticks": ""
             }
            },
            "type": "scatter3d"
           }
          ],
          "scattercarpet": [
           {
            "marker": {
             "colorbar": {
              "outlinewidth": 0,
              "ticks": ""
             }
            },
            "type": "scattercarpet"
           }
          ],
          "scattergeo": [
           {
            "marker": {
             "colorbar": {
              "outlinewidth": 0,
              "ticks": ""
             }
            },
            "type": "scattergeo"
           }
          ],
          "scattergl": [
           {
            "marker": {
             "colorbar": {
              "outlinewidth": 0,
              "ticks": ""
             }
            },
            "type": "scattergl"
           }
          ],
          "scattermapbox": [
           {
            "marker": {
             "colorbar": {
              "outlinewidth": 0,
              "ticks": ""
             }
            },
            "type": "scattermapbox"
           }
          ],
          "scatterpolar": [
           {
            "marker": {
             "colorbar": {
              "outlinewidth": 0,
              "ticks": ""
             }
            },
            "type": "scatterpolar"
           }
          ],
          "scatterpolargl": [
           {
            "marker": {
             "colorbar": {
              "outlinewidth": 0,
              "ticks": ""
             }
            },
            "type": "scatterpolargl"
           }
          ],
          "scatterternary": [
           {
            "marker": {
             "colorbar": {
              "outlinewidth": 0,
              "ticks": ""
             }
            },
            "type": "scatterternary"
           }
          ],
          "surface": [
           {
            "colorbar": {
             "outlinewidth": 0,
             "ticks": ""
            },
            "colorscale": [
             [
              0,
              "#0d0887"
             ],
             [
              0.1111111111111111,
              "#46039f"
             ],
             [
              0.2222222222222222,
              "#7201a8"
             ],
             [
              0.3333333333333333,
              "#9c179e"
             ],
             [
              0.4444444444444444,
              "#bd3786"
             ],
             [
              0.5555555555555556,
              "#d8576b"
             ],
             [
              0.6666666666666666,
              "#ed7953"
             ],
             [
              0.7777777777777778,
              "#fb9f3a"
             ],
             [
              0.8888888888888888,
              "#fdca26"
             ],
             [
              1,
              "#f0f921"
             ]
            ],
            "type": "surface"
           }
          ],
          "table": [
           {
            "cells": {
             "fill": {
              "color": "#EBF0F8"
             },
             "line": {
              "color": "white"
             }
            },
            "header": {
             "fill": {
              "color": "#C8D4E3"
             },
             "line": {
              "color": "white"
             }
            },
            "type": "table"
           }
          ]
         },
         "layout": {
          "annotationdefaults": {
           "arrowcolor": "#2a3f5f",
           "arrowhead": 0,
           "arrowwidth": 1
          },
          "autotypenumbers": "strict",
          "coloraxis": {
           "colorbar": {
            "outlinewidth": 0,
            "ticks": ""
           }
          },
          "colorscale": {
           "diverging": [
            [
             0,
             "#8e0152"
            ],
            [
             0.1,
             "#c51b7d"
            ],
            [
             0.2,
             "#de77ae"
            ],
            [
             0.3,
             "#f1b6da"
            ],
            [
             0.4,
             "#fde0ef"
            ],
            [
             0.5,
             "#f7f7f7"
            ],
            [
             0.6,
             "#e6f5d0"
            ],
            [
             0.7,
             "#b8e186"
            ],
            [
             0.8,
             "#7fbc41"
            ],
            [
             0.9,
             "#4d9221"
            ],
            [
             1,
             "#276419"
            ]
           ],
           "sequential": [
            [
             0,
             "#0d0887"
            ],
            [
             0.1111111111111111,
             "#46039f"
            ],
            [
             0.2222222222222222,
             "#7201a8"
            ],
            [
             0.3333333333333333,
             "#9c179e"
            ],
            [
             0.4444444444444444,
             "#bd3786"
            ],
            [
             0.5555555555555556,
             "#d8576b"
            ],
            [
             0.6666666666666666,
             "#ed7953"
            ],
            [
             0.7777777777777778,
             "#fb9f3a"
            ],
            [
             0.8888888888888888,
             "#fdca26"
            ],
            [
             1,
             "#f0f921"
            ]
           ],
           "sequentialminus": [
            [
             0,
             "#0d0887"
            ],
            [
             0.1111111111111111,
             "#46039f"
            ],
            [
             0.2222222222222222,
             "#7201a8"
            ],
            [
             0.3333333333333333,
             "#9c179e"
            ],
            [
             0.4444444444444444,
             "#bd3786"
            ],
            [
             0.5555555555555556,
             "#d8576b"
            ],
            [
             0.6666666666666666,
             "#ed7953"
            ],
            [
             0.7777777777777778,
             "#fb9f3a"
            ],
            [
             0.8888888888888888,
             "#fdca26"
            ],
            [
             1,
             "#f0f921"
            ]
           ]
          },
          "colorway": [
           "#636efa",
           "#EF553B",
           "#00cc96",
           "#ab63fa",
           "#FFA15A",
           "#19d3f3",
           "#FF6692",
           "#B6E880",
           "#FF97FF",
           "#FECB52"
          ],
          "font": {
           "color": "#2a3f5f"
          },
          "geo": {
           "bgcolor": "white",
           "lakecolor": "white",
           "landcolor": "#E5ECF6",
           "showlakes": true,
           "showland": true,
           "subunitcolor": "white"
          },
          "hoverlabel": {
           "align": "left"
          },
          "hovermode": "closest",
          "mapbox": {
           "style": "light"
          },
          "paper_bgcolor": "white",
          "plot_bgcolor": "#E5ECF6",
          "polar": {
           "angularaxis": {
            "gridcolor": "white",
            "linecolor": "white",
            "ticks": ""
           },
           "bgcolor": "#E5ECF6",
           "radialaxis": {
            "gridcolor": "white",
            "linecolor": "white",
            "ticks": ""
           }
          },
          "scene": {
           "xaxis": {
            "backgroundcolor": "#E5ECF6",
            "gridcolor": "white",
            "gridwidth": 2,
            "linecolor": "white",
            "showbackground": true,
            "ticks": "",
            "zerolinecolor": "white"
           },
           "yaxis": {
            "backgroundcolor": "#E5ECF6",
            "gridcolor": "white",
            "gridwidth": 2,
            "linecolor": "white",
            "showbackground": true,
            "ticks": "",
            "zerolinecolor": "white"
           },
           "zaxis": {
            "backgroundcolor": "#E5ECF6",
            "gridcolor": "white",
            "gridwidth": 2,
            "linecolor": "white",
            "showbackground": true,
            "ticks": "",
            "zerolinecolor": "white"
           }
          },
          "shapedefaults": {
           "line": {
            "color": "#2a3f5f"
           }
          },
          "ternary": {
           "aaxis": {
            "gridcolor": "white",
            "linecolor": "white",
            "ticks": ""
           },
           "baxis": {
            "gridcolor": "white",
            "linecolor": "white",
            "ticks": ""
           },
           "bgcolor": "#E5ECF6",
           "caxis": {
            "gridcolor": "white",
            "linecolor": "white",
            "ticks": ""
           }
          },
          "title": {
           "x": 0.05
          },
          "xaxis": {
           "automargin": true,
           "gridcolor": "white",
           "linecolor": "white",
           "ticks": "",
           "title": {
            "standoff": 15
           },
           "zerolinecolor": "white",
           "zerolinewidth": 2
          },
          "yaxis": {
           "automargin": true,
           "gridcolor": "white",
           "linecolor": "white",
           "ticks": "",
           "title": {
            "standoff": 15
           },
           "zerolinecolor": "white",
           "zerolinewidth": 2
          }
         }
        },
        "title": {
         "text": "3D Scatter Plot of Clusters"
        }
       }
      },
      "text/html": [
       "<div>                            <div id=\"d6184b9d-5625-4c24-8f39-e555d64a2323\" class=\"plotly-graph-div\" style=\"height:525px; width:100%;\"></div>            <script type=\"text/javascript\">                require([\"plotly\"], function(Plotly) {                    window.PLOTLYENV=window.PLOTLYENV || {};                                    if (document.getElementById(\"d6184b9d-5625-4c24-8f39-e555d64a2323\")) {                    Plotly.newPlot(                        \"d6184b9d-5625-4c24-8f39-e555d64a2323\",                        [{\"hovertemplate\":\"PC1=%{x}\\u003cbr\\u003ePC2=%{y}\\u003cbr\\u003ePC3=%{z}\\u003cbr\\u003eCluster=%{marker.color}\\u003cextra\\u003e\\u003c\\u002fextra\\u003e\",\"legendgroup\":\"\",\"marker\":{\"color\":[1,3,3,2,0,0,2,2,0,0,0,2,3,0,0,0,0,2,3,2,0,0,0,1,3,3,3,1,3,2,3,2,2,3,2,1,3,3,3,1,2,1,3,3,3,3,3,1,1,0,0,1,0,3,1,0,0,0,1,1,1,3,3,1,3,3,3,0,1,1,3,3,3,1,1,0,1,3,2,1,0,1,3,2,3,0,0,1,3,1,3,1,1,1,1,0,3,1,3,1,3,0,3,0,3,1,1,1,3,0,0,0,3,1,3,3,0,3,3,1,1,1,0,3,0,3,1,3,0,1,3,1,1,3,1,0,0,3,0,0,0,2,3,3,3,1,1,1,2,0,3,3,3,3,3,3,1,3,0,3,1,3,2,3,3,1,2,1,1,3,3,3,1,1,1,3,3,0,0,3,3,3,3,3,3,3,3,1,2,3,3,3,3,3,1,1,3,3,0,3,0,3,0,0,3,1,3,3,1,3,1,3,3,3,0,0,1,0,0,3,0,1,2,1,2,3,1,3,3,3,0,0],\"coloraxis\":\"coloraxis\",\"symbol\":\"circle\"},\"mode\":\"markers\",\"name\":\"\",\"scene\":\"scene\",\"showlegend\":false,\"x\":[-0.2741863667872922,-0.5004838639620431,-1.8215093184873992,3.60825415401432,0.5863350011891726,-0.31434967879922765,3.039100312321435,4.713808145142347,0.7231729549178327,2.591595850361944,1.3713696348218718,3.6263981472840494,-0.5564213979106717,2.2488642311575084,1.4422155642088712,1.122717545352822,1.2315089692167147,6.9505023555479735,-1.5870633737342372,3.660460279262522,0.48101602500524787,1.3279667920120815,0.3393280841836727,-0.931714740442992,-0.2667134005968776,-0.20850932443888692,-0.8318850781492643,-0.6081039405290312,-1.2936143343450983,2.706588486590146,-1.4950057096521403,3.1978556730178567,2.7405432182418066,-0.72122326498465,2.076938972286773,-0.9066324817285826,-0.9496529206883781,-0.610217365416878,-1.2112341408630392,-0.17584560913067054,5.703271657574094,-0.3708415301196659,-1.4843092019073203,-1.3518736961209254,-1.108247117135995,-1.969602485210416,-1.230958214243868,-0.3765572068958601,0.9599730469464454,0.898453655988005,1.3207683008528672,-0.7184432309427203,-0.2619639892063719,-1.382943014431578,0.19441630628775483,0.4956589767497609,0.25135402788112415,1.8423014507770163,0.3296433178353004,0.3786485264975598,-0.631546117250221,-1.1739036264917808,-1.1352039270801773,-0.08672613104923864,-1.871902870592055,-0.733399553868196,-0.51903883553017,0.1424524764914564,-0.08822042727406532,-1.2405454240775267,-1.9613405162535569,-0.8018278700728921,-0.6379338991803906,-0.6823646883607485,-0.18900662612701205,-0.009150067186209613,-0.9464972455045406,-1.535267654313608,2.2875564892254294,0.5328449775773532,0.685468321373955,0.26943066536219507,-1.2318907391178773,3.2199305677347887,-0.9253997903874492,0.2767695667615402,0.356757900115663,-0.5841599542163681,-0.7357335318656818,0.11479111818363064,-0.2847415226409051,-0.4774641655009034,-1.0103737163042874,-0.9869193923829068,1.8846659498513418,0.9047990582216943,-0.4887310072512657,1.6586203881760726,-0.518818282420531,0.17140017701012245,-0.939612009437666,1.534481265661323,-1.3655569412255575,-0.33754385270098086,-0.520478675900785,-0.25335810562115463,0.021967279121432957,0.21582469411198998,-1.607894284753336,0.8000534158414859,0.012886428257584156,0.8067670823188373,-0.3997984879994493,-0.4224800666706273,-1.8023940420980384,-1.614530832176762,1.506486789686979,-0.2550024917902839,-0.5279205680921941,1.0358528088261354,-0.5528539791216875,0.8328413575952552,1.7630492809759613,-2.021125556558913,0.27289336191058405,-1.026582120554046,1.191025401087931,-1.0354778841359729,2.055026658447636,1.0083378133072116,-1.701048038045742,-0.08127365748109645,-0.7189179768313951,-0.2155013906817651,0.8150881928263419,1.1357720098765016,0.10179597027109598,-0.5387434078042703,0.99739652120901,1.3049406104424606,1.3879688288889023,4.932566269427551,-1.758672854291326,-1.2893423724932753,-1.3034346924861717,-0.3462172207479567,-0.29132277784869903,1.0437331478678062,4.574302073405418,-0.38198074388230635,-0.5156771633581771,-1.2183901643914192,-0.3382134698277711,-0.9194966147441341,-1.171390496611607,-1.6596839988290872,-0.4782614166225212,-1.1549296046792623,1.265955078347512,-0.7050420954295191,0.3662709778803462,-1.4510393139286706,1.841678634828268,-1.081472164300056,-2.1023999185638815,-0.16423202892688518,3.443265770995256,0.005538122723992707,-0.17459683246668095,-1.3911643263939228,-1.5219592980271406,-0.9327267733707912,-0.9298590689193398,-1.413843996366002,0.12992737421510947,-1.6777118350054918,-1.1712187917598853,0.3888872854086381,0.4570822321488137,-0.41213903382746203,-1.1952891734568416,-0.014866149704457291,-0.836818200667325,-1.5309800729027616,-1.4764058486408234,-0.9857574412991044,-0.860992492107929,1.2129789996541624,2.094864170413333,-1.2552539367124134,-2.246501861984661,-1.1579462792371875,-1.0232789407961007,-0.36063161174854225,-0.9623350519506713,-0.47122797400196687,-1.7990350824379207,-1.2374455048778654,0.11538406248583002,-0.9379417260141616,-0.3042079003787754,-1.8641634316983537,0.33170023282458766,0.4219487530619519,-0.66242168541631,-0.16453957859852714,-0.8365371512912806,-1.1661917925505054,-0.6901481477412337,-1.2702253634328398,0.3975192091306336,-0.7366555071697426,-0.8821494678873599,-0.9835725961577586,0.40783514814447963,1.2830668158194978,0.7350287075327737,1.4123587012998775,0.582767723758338,-0.5217700050461498,0.18761290520975896,-0.6458453603237474,1.5785022040646692,-0.12381329088173054,2.92935068123571,-0.9975344779994398,-0.23602846997776555,-0.32196691706274244,-1.6765854611480964,-0.378883270225484,-0.08789487532950227,0.19947074364074374],\"y\":[1.1101224792023703,-4.04570004600758,-0.6372308510471775,-0.08461838174987645,0.37926309612356407,-0.9882033713982459,0.45443416347796645,0.5130131505690869,-1.1779409564014927,-2.2387492024102733,-1.385998636579814,0.3768800446449945,-0.572792905060558,-0.00912038280581275,-1.299073206505378,-0.961860028665905,-0.14348756677045113,-4.20347274030012,-0.844743461102694,-0.7911153885477887,-0.6549525407646123,-0.7859397215782284,-0.04970004846686219,0.7776678160897638,-0.339807323286816,-0.29499479569915665,-0.5633895866234977,0.7342537288009751,0.636123452036171,1.3453410009950042,-1.1988470894570886,-2.004499985217955,0.41485729846224323,-0.3594223809963162,0.32530512357302727,0.758468007759866,-0.22083714116766331,-0.31316684308679665,-0.31461886102087017,0.6446341164176413,1.1458563454219242,1.0110535975992312,-0.6494839456548146,-0.18970749261028957,0.030349779833514726,0.3522858266230762,0.11460895649064808,0.9668937473478604,2.692340852760733,0.48798317312629325,-0.14773722186044644,1.487281206702529,-0.5182841138591106,-0.499111253171528,2.18603910191567,-0.04131444877108325,0.3434654544460833,-1.6670159639166326,0.7353025400705372,0.9223492128988998,0.7793696434289116,-0.6732185252838747,-0.04554629307141287,1.5463707663031563,-0.3854664409070359,-0.3189787388349397,0.011160037348176501,0.2923183833404906,0.8109325537260784,1.5710134150170347,-0.8181575974406737,-0.2779834858201485,-0.7551349629355134,0.06092997200744035,0.7209232681622688,-1.2347938812968655,0.7833824505550123,-0.10751626742341075,0.5888942997322357,0.9638964240803313,-1.203492948044051,1.1130500829484573,0.23572670491359257,1.1441218922183032,-0.8831657109007154,-0.8795538526721278,-0.4056805381947862,0.6980587717900159,-0.5448485717055175,1.2664512182014325,-0.35116937924700187,1.1472249584815868,0.9715579269520587,1.7008880283927899,1.0726310487770283,0.08205821835948285,-0.9157549474791349,2.577562793896022,-0.8103907016690173,0.7171671298242543,0.22800510700366836,-0.37983605349475225,0.2111379516738454,-1.2904295780091501,-0.10604694249290032,0.3547649914133206,0.822786340015007,1.0230234948736883,-0.7389734947287132,0.42131741728994515,-0.5358628462881934,-0.3300448252869556,0.08020264745535273,1.0455554851957545,-1.1656745521988177,-0.6698703791802951,-1.0727644041209818,0.06691125260327528,0.2852399439788886,2.5697608508395335,0.6030248450339921,1.6129067975017046,-0.5069718259521743,-0.7385036358662759,-0.46046715636461627,-0.55732142005397,1.4161569937324177,0.5071675469088618,-0.8711575766691647,1.653446929378192,-0.8213455296336487,0.7772477182781553,0.1347724440882942,-2.8998353513727038,1.6807160427616632,-2.2905979354055392,-1.0633059496603257,-0.00989468138356828,-0.5183661196155636,-0.5008831361974138,-0.6363032770414225,-0.09960761026204955,-0.921260330003862,0.6900315487234251,-0.6342695351523545,2.055633510770663,3.0398518818649687,1.37821479509088,0.5865500679019958,-1.3564647597091115,-0.2328124801463232,-0.3440594986849334,-0.4914681801975826,-0.7894360156993468,-0.1351176241889356,-0.695066558613045,1.5564815998072434,0.29061404729465445,-0.14182397721619952,-0.01332244193696506,1.0904794406145135,-1.322271985051541,-2.0371776878704826,0.11407943032695587,-1.2396694225491494,0.7975923897253129,0.5347004954183185,1.1785997972449667,0.6005650511632178,-0.35421711286047186,-1.2634083398592595,-0.3273722365476758,1.285958642501851,1.212170889453697,2.628405801311562,-0.6076836714903341,-1.3390717423666003,-0.04307807909760423,-0.7243390949730921,-0.6658115356458751,0.6930686613580666,0.22482361785193758,0.0583026278109218,-0.2323855002459688,-0.6247498415301885,-0.42847474608271263,-0.9318210598638053,1.4339159253209095,-2.921611517353858,0.6092726040729602,-0.6528528539303814,-0.07444340391789468,-0.7041222993977471,-0.15345048610164153,0.5824522918632631,0.6936315576874392,0.3240365928170728,0.10605947921222796,-0.061230658068193174,0.2846263778053246,-0.8643006710845863,-0.5928720114763841,0.03869833175935316,-0.010382203203312027,0.16232945539820587,1.8621886643651222,0.205218468836166,-0.10066123534359572,0.9255237881529259,0.10774702933393618,1.316445956069472,-0.8631348610611554,-1.456744348970018,-0.4313047797064564,0.053861466302062184,-0.8241376702602503,0.7641928760586238,-0.29954983149412223,-0.33874701540336316,-0.3759317220211639,-0.07174448296644878,0.6501396121938995,0.39853403963433354,1.2963202471033333,0.5525879937186733,-0.06622192096380931,1.0307438251818044,-0.8761989393132947,-0.6246761905879806,0.18660758332769786,-0.5599889910464619,-1.0044699662974501],\"z\":[0.4507663960791985,5.4477926595900925,-0.22691904319576084,-0.7874321232411545,-0.246753967280582,-0.8243889488889825,-0.37044303337041545,-0.7277356036764193,-1.1507359647054356,-2.1181592324533747,-1.2681912253756575,-0.7271858865131076,-0.44383585510127993,-0.8949907245314436,-1.39358218927851,-1.0064529577574401,-0.6119323149542709,3.601592486757501,-0.2892082566784394,-1.4850843345264972,-0.697197685956446,-1.1710960042230845,-0.25170568095581575,0.3504582507848063,-0.29225935557760563,-0.18598042142530907,-0.3955321126223083,0.3579688781583893,0.27602483138131656,0.3803732689979913,-0.49223865980638,5.750766694283214,-0.17030377184908008,-0.21431714186286058,-0.20371126303209314,0.3114847947631092,-0.021667416319267687,-0.19028677691234108,-0.11347381345481997,0.12449021386513238,-0.15712382560401694,0.249860184160993,-0.22808068431023173,-0.02485159960547315,0.009291338311122818,0.3076140892971407,0.14975318337689617,0.3085058788613912,0.8396392119069206,-0.1509480669349165,-0.6726811604867261,0.6853104370330463,-0.5749913408067951,-0.20540287351888972,0.8137191794545258,-0.40936924924990176,-0.23111533761285635,-1.666892457819784,0.10558821772750702,0.07472016146433791,0.22846010769043928,-0.41195259170778104,-0.011731660492586,0.548904260217079,-0.02150799939876566,-0.28964831920211204,-0.15234928898551328,-0.245489310529729,0.2573610939232048,0.8370032557143895,-0.20625295437963545,-0.09040493270180676,-0.631453178910316,2.567958054540455,0.263694664281533,-0.9604492616412457,0.3573320024230602,0.18543737847837918,-0.20478448251646547,0.2408023559247348,-0.9605497673252733,0.37688624141927735,0.0632167156687402,-0.30781316907067874,-0.5239133977413581,-0.7401142971578872,-0.602389738874655,0.39094610325721035,-0.4503374395654387,0.2909683521421218,-0.43864583702953563,0.42197526744279074,0.34767697580233553,0.8329388157316417,-0.11761656305030033,-0.4980802090938517,-0.7174238354857747,0.8232463167090465,-0.5399158236929172,0.13231420644776123,0.03257166854383573,-0.7703511552162918,0.12941095127724175,-0.9030844397919737,-0.12199835753835633,-0.04836638647002195,0.13411356468576283,0.3439132870240233,-0.30622398715353233,-0.2070968110465864,-0.5304366768262148,-0.5973653806407181,-0.05641186605088943,0.32706123720335906,-0.45986580708707064,-0.2550966350276438,-1.3091207346521765,-0.24787534046677773,0.013263359235598033,0.7393433435118738,0.2941026536030788,0.2870926420492336,-0.6675695566483708,-0.15415718435147222,-0.568459435697677,-0.301512309461964,0.2483886938898885,0.28494029720138536,-1.0631355995992737,0.5845807981375553,-0.42497791923075395,0.08689383290383597,2.691773741557635,3.417985855532695,0.5137645664480427,0.7741921243916595,-0.7843725708639482,-0.2361155720666435,-0.6732573092084424,-0.7571153900757823,-0.995444969640462,-1.4923688673618243,-0.2980343367199872,0.30746976893310207,-0.16578078818919073,1.032794999754904,1.387736287763343,0.2012654842518355,-0.32472882391986463,-0.9887456482570588,-0.11064826019995981,-0.1792431776263753,-0.3713391999438217,-0.5517945498196194,0.08143885825454099,-0.16055513703418361,0.7855753533111722,0.29132315332763337,-0.5314227292384729,-0.05132606983886262,0.23210888316663164,-0.583624796239693,3.74040900337507,0.2952741121864229,-0.47906681436021425,0.2450929182353603,-0.7428455394829198,0.5511143252349495,0.07654535901931993,-0.09202865718819503,-0.6455795724805526,-0.29218866533538856,0.6326763242062531,0.7991803417044806,1.0533981134525425,-0.0828254858903867,-0.8023344584756754,-0.4219420777374762,-0.5290041623963068,-0.506052941653996,0.4670759735472451,-0.12418596639997408,-0.07340921952999009,-0.05467475735556653,-0.16620911455287837,-0.3624148960544862,-0.555855801982221,0.5565545917836491,5.6572059400775085,0.21793757684928503,-0.09836625047907291,-0.02289049800633266,2.295548877570636,-0.22584513921093813,0.17458539935862352,0.3208227404092676,0.25003541042834826,0.060142612383979076,-0.2350818821705648,0.24683273138728717,-0.6717508417668986,-0.21116465325566425,-0.15293281188698457,-0.2279758515467078,0.026994038988972433,0.7101978442619112,0.16500695807630178,0.027501428108312274,0.44617217145111904,0.03704108932182964,0.2761208974394113,-0.5322662120997992,-0.7529282410627643,-0.13240631007755707,-0.3595575293617537,-0.7504974645637603,-0.12547810498735842,-0.8438039560256293,-0.44993494330095113,-0.24775088186421473,-0.32149514150889413,0.32314951722606194,-0.017483868569389112,0.5037998557722466,-0.46161864383337964,-0.19200307754290605,0.45540040456863673,-0.6140047766479755,-0.13188270994654666,0.07795553361030925,-0.5005417183055288,-0.7993341819348643],\"type\":\"scatter3d\"}],                        {\"template\":{\"data\":{\"histogram2dcontour\":[{\"type\":\"histogram2dcontour\",\"colorbar\":{\"outlinewidth\":0,\"ticks\":\"\"},\"colorscale\":[[0.0,\"#0d0887\"],[0.1111111111111111,\"#46039f\"],[0.2222222222222222,\"#7201a8\"],[0.3333333333333333,\"#9c179e\"],[0.4444444444444444,\"#bd3786\"],[0.5555555555555556,\"#d8576b\"],[0.6666666666666666,\"#ed7953\"],[0.7777777777777778,\"#fb9f3a\"],[0.8888888888888888,\"#fdca26\"],[1.0,\"#f0f921\"]]}],\"choropleth\":[{\"type\":\"choropleth\",\"colorbar\":{\"outlinewidth\":0,\"ticks\":\"\"}}],\"histogram2d\":[{\"type\":\"histogram2d\",\"colorbar\":{\"outlinewidth\":0,\"ticks\":\"\"},\"colorscale\":[[0.0,\"#0d0887\"],[0.1111111111111111,\"#46039f\"],[0.2222222222222222,\"#7201a8\"],[0.3333333333333333,\"#9c179e\"],[0.4444444444444444,\"#bd3786\"],[0.5555555555555556,\"#d8576b\"],[0.6666666666666666,\"#ed7953\"],[0.7777777777777778,\"#fb9f3a\"],[0.8888888888888888,\"#fdca26\"],[1.0,\"#f0f921\"]]}],\"heatmap\":[{\"type\":\"heatmap\",\"colorbar\":{\"outlinewidth\":0,\"ticks\":\"\"},\"colorscale\":[[0.0,\"#0d0887\"],[0.1111111111111111,\"#46039f\"],[0.2222222222222222,\"#7201a8\"],[0.3333333333333333,\"#9c179e\"],[0.4444444444444444,\"#bd3786\"],[0.5555555555555556,\"#d8576b\"],[0.6666666666666666,\"#ed7953\"],[0.7777777777777778,\"#fb9f3a\"],[0.8888888888888888,\"#fdca26\"],[1.0,\"#f0f921\"]]}],\"heatmapgl\":[{\"type\":\"heatmapgl\",\"colorbar\":{\"outlinewidth\":0,\"ticks\":\"\"},\"colorscale\":[[0.0,\"#0d0887\"],[0.1111111111111111,\"#46039f\"],[0.2222222222222222,\"#7201a8\"],[0.3333333333333333,\"#9c179e\"],[0.4444444444444444,\"#bd3786\"],[0.5555555555555556,\"#d8576b\"],[0.6666666666666666,\"#ed7953\"],[0.7777777777777778,\"#fb9f3a\"],[0.8888888888888888,\"#fdca26\"],[1.0,\"#f0f921\"]]}],\"contourcarpet\":[{\"type\":\"contourcarpet\",\"colorbar\":{\"outlinewidth\":0,\"ticks\":\"\"}}],\"contour\":[{\"type\":\"contour\",\"colorbar\":{\"outlinewidth\":0,\"ticks\":\"\"},\"colorscale\":[[0.0,\"#0d0887\"],[0.1111111111111111,\"#46039f\"],[0.2222222222222222,\"#7201a8\"],[0.3333333333333333,\"#9c179e\"],[0.4444444444444444,\"#bd3786\"],[0.5555555555555556,\"#d8576b\"],[0.6666666666666666,\"#ed7953\"],[0.7777777777777778,\"#fb9f3a\"],[0.8888888888888888,\"#fdca26\"],[1.0,\"#f0f921\"]]}],\"surface\":[{\"type\":\"surface\",\"colorbar\":{\"outlinewidth\":0,\"ticks\":\"\"},\"colorscale\":[[0.0,\"#0d0887\"],[0.1111111111111111,\"#46039f\"],[0.2222222222222222,\"#7201a8\"],[0.3333333333333333,\"#9c179e\"],[0.4444444444444444,\"#bd3786\"],[0.5555555555555556,\"#d8576b\"],[0.6666666666666666,\"#ed7953\"],[0.7777777777777778,\"#fb9f3a\"],[0.8888888888888888,\"#fdca26\"],[1.0,\"#f0f921\"]]}],\"mesh3d\":[{\"type\":\"mesh3d\",\"colorbar\":{\"outlinewidth\":0,\"ticks\":\"\"}}],\"scatter\":[{\"fillpattern\":{\"fillmode\":\"overlay\",\"size\":10,\"solidity\":0.2},\"type\":\"scatter\"}],\"parcoords\":[{\"type\":\"parcoords\",\"line\":{\"colorbar\":{\"outlinewidth\":0,\"ticks\":\"\"}}}],\"scatterpolargl\":[{\"type\":\"scatterpolargl\",\"marker\":{\"colorbar\":{\"outlinewidth\":0,\"ticks\":\"\"}}}],\"bar\":[{\"error_x\":{\"color\":\"#2a3f5f\"},\"error_y\":{\"color\":\"#2a3f5f\"},\"marker\":{\"line\":{\"color\":\"#E5ECF6\",\"width\":0.5},\"pattern\":{\"fillmode\":\"overlay\",\"size\":10,\"solidity\":0.2}},\"type\":\"bar\"}],\"scattergeo\":[{\"type\":\"scattergeo\",\"marker\":{\"colorbar\":{\"outlinewidth\":0,\"ticks\":\"\"}}}],\"scatterpolar\":[{\"type\":\"scatterpolar\",\"marker\":{\"colorbar\":{\"outlinewidth\":0,\"ticks\":\"\"}}}],\"histogram\":[{\"marker\":{\"pattern\":{\"fillmode\":\"overlay\",\"size\":10,\"solidity\":0.2}},\"type\":\"histogram\"}],\"scattergl\":[{\"type\":\"scattergl\",\"marker\":{\"colorbar\":{\"outlinewidth\":0,\"ticks\":\"\"}}}],\"scatter3d\":[{\"type\":\"scatter3d\",\"line\":{\"colorbar\":{\"outlinewidth\":0,\"ticks\":\"\"}},\"marker\":{\"colorbar\":{\"outlinewidth\":0,\"ticks\":\"\"}}}],\"scattermapbox\":[{\"type\":\"scattermapbox\",\"marker\":{\"colorbar\":{\"outlinewidth\":0,\"ticks\":\"\"}}}],\"scatterternary\":[{\"type\":\"scatterternary\",\"marker\":{\"colorbar\":{\"outlinewidth\":0,\"ticks\":\"\"}}}],\"scattercarpet\":[{\"type\":\"scattercarpet\",\"marker\":{\"colorbar\":{\"outlinewidth\":0,\"ticks\":\"\"}}}],\"carpet\":[{\"aaxis\":{\"endlinecolor\":\"#2a3f5f\",\"gridcolor\":\"white\",\"linecolor\":\"white\",\"minorgridcolor\":\"white\",\"startlinecolor\":\"#2a3f5f\"},\"baxis\":{\"endlinecolor\":\"#2a3f5f\",\"gridcolor\":\"white\",\"linecolor\":\"white\",\"minorgridcolor\":\"white\",\"startlinecolor\":\"#2a3f5f\"},\"type\":\"carpet\"}],\"table\":[{\"cells\":{\"fill\":{\"color\":\"#EBF0F8\"},\"line\":{\"color\":\"white\"}},\"header\":{\"fill\":{\"color\":\"#C8D4E3\"},\"line\":{\"color\":\"white\"}},\"type\":\"table\"}],\"barpolar\":[{\"marker\":{\"line\":{\"color\":\"#E5ECF6\",\"width\":0.5},\"pattern\":{\"fillmode\":\"overlay\",\"size\":10,\"solidity\":0.2}},\"type\":\"barpolar\"}],\"pie\":[{\"automargin\":true,\"type\":\"pie\"}]},\"layout\":{\"autotypenumbers\":\"strict\",\"colorway\":[\"#636efa\",\"#EF553B\",\"#00cc96\",\"#ab63fa\",\"#FFA15A\",\"#19d3f3\",\"#FF6692\",\"#B6E880\",\"#FF97FF\",\"#FECB52\"],\"font\":{\"color\":\"#2a3f5f\"},\"hovermode\":\"closest\",\"hoverlabel\":{\"align\":\"left\"},\"paper_bgcolor\":\"white\",\"plot_bgcolor\":\"#E5ECF6\",\"polar\":{\"bgcolor\":\"#E5ECF6\",\"angularaxis\":{\"gridcolor\":\"white\",\"linecolor\":\"white\",\"ticks\":\"\"},\"radialaxis\":{\"gridcolor\":\"white\",\"linecolor\":\"white\",\"ticks\":\"\"}},\"ternary\":{\"bgcolor\":\"#E5ECF6\",\"aaxis\":{\"gridcolor\":\"white\",\"linecolor\":\"white\",\"ticks\":\"\"},\"baxis\":{\"gridcolor\":\"white\",\"linecolor\":\"white\",\"ticks\":\"\"},\"caxis\":{\"gridcolor\":\"white\",\"linecolor\":\"white\",\"ticks\":\"\"}},\"coloraxis\":{\"colorbar\":{\"outlinewidth\":0,\"ticks\":\"\"}},\"colorscale\":{\"sequential\":[[0.0,\"#0d0887\"],[0.1111111111111111,\"#46039f\"],[0.2222222222222222,\"#7201a8\"],[0.3333333333333333,\"#9c179e\"],[0.4444444444444444,\"#bd3786\"],[0.5555555555555556,\"#d8576b\"],[0.6666666666666666,\"#ed7953\"],[0.7777777777777778,\"#fb9f3a\"],[0.8888888888888888,\"#fdca26\"],[1.0,\"#f0f921\"]],\"sequentialminus\":[[0.0,\"#0d0887\"],[0.1111111111111111,\"#46039f\"],[0.2222222222222222,\"#7201a8\"],[0.3333333333333333,\"#9c179e\"],[0.4444444444444444,\"#bd3786\"],[0.5555555555555556,\"#d8576b\"],[0.6666666666666666,\"#ed7953\"],[0.7777777777777778,\"#fb9f3a\"],[0.8888888888888888,\"#fdca26\"],[1.0,\"#f0f921\"]],\"diverging\":[[0,\"#8e0152\"],[0.1,\"#c51b7d\"],[0.2,\"#de77ae\"],[0.3,\"#f1b6da\"],[0.4,\"#fde0ef\"],[0.5,\"#f7f7f7\"],[0.6,\"#e6f5d0\"],[0.7,\"#b8e186\"],[0.8,\"#7fbc41\"],[0.9,\"#4d9221\"],[1,\"#276419\"]]},\"xaxis\":{\"gridcolor\":\"white\",\"linecolor\":\"white\",\"ticks\":\"\",\"title\":{\"standoff\":15},\"zerolinecolor\":\"white\",\"automargin\":true,\"zerolinewidth\":2},\"yaxis\":{\"gridcolor\":\"white\",\"linecolor\":\"white\",\"ticks\":\"\",\"title\":{\"standoff\":15},\"zerolinecolor\":\"white\",\"automargin\":true,\"zerolinewidth\":2},\"scene\":{\"xaxis\":{\"backgroundcolor\":\"#E5ECF6\",\"gridcolor\":\"white\",\"linecolor\":\"white\",\"showbackground\":true,\"ticks\":\"\",\"zerolinecolor\":\"white\",\"gridwidth\":2},\"yaxis\":{\"backgroundcolor\":\"#E5ECF6\",\"gridcolor\":\"white\",\"linecolor\":\"white\",\"showbackground\":true,\"ticks\":\"\",\"zerolinecolor\":\"white\",\"gridwidth\":2},\"zaxis\":{\"backgroundcolor\":\"#E5ECF6\",\"gridcolor\":\"white\",\"linecolor\":\"white\",\"showbackground\":true,\"ticks\":\"\",\"zerolinecolor\":\"white\",\"gridwidth\":2}},\"shapedefaults\":{\"line\":{\"color\":\"#2a3f5f\"}},\"annotationdefaults\":{\"arrowcolor\":\"#2a3f5f\",\"arrowhead\":0,\"arrowwidth\":1},\"geo\":{\"bgcolor\":\"white\",\"landcolor\":\"#E5ECF6\",\"subunitcolor\":\"white\",\"showland\":true,\"showlakes\":true,\"lakecolor\":\"white\"},\"title\":{\"x\":0.05},\"mapbox\":{\"style\":\"light\"}}},\"scene\":{\"domain\":{\"x\":[0.0,1.0],\"y\":[0.0,1.0]},\"xaxis\":{\"title\":{\"text\":\"PC1\"}},\"yaxis\":{\"title\":{\"text\":\"PC2\"}},\"zaxis\":{\"title\":{\"text\":\"PC3\"}}},\"coloraxis\":{\"colorbar\":{\"title\":{\"text\":\"Cluster\"}},\"colorscale\":[[0.0,\"#0d0887\"],[0.1111111111111111,\"#46039f\"],[0.2222222222222222,\"#7201a8\"],[0.3333333333333333,\"#9c179e\"],[0.4444444444444444,\"#bd3786\"],[0.5555555555555556,\"#d8576b\"],[0.6666666666666666,\"#ed7953\"],[0.7777777777777778,\"#fb9f3a\"],[0.8888888888888888,\"#fdca26\"],[1.0,\"#f0f921\"]]},\"legend\":{\"tracegroupgap\":0},\"title\":{\"text\":\"3D Scatter Plot of Clusters\"}},                        {\"responsive\": true}                    ).then(function(){\n",
       "                            \n",
       "var gd = document.getElementById('d6184b9d-5625-4c24-8f39-e555d64a2323');\n",
       "var x = new MutationObserver(function (mutations, observer) {{\n",
       "        var display = window.getComputedStyle(gd).display;\n",
       "        if (!display || display === 'none') {{\n",
       "            console.log([gd, 'removed!']);\n",
       "            Plotly.purge(gd);\n",
       "            observer.disconnect();\n",
       "        }}\n",
       "}});\n",
       "\n",
       "// Listen for the removal of the full notebook cells\n",
       "var notebookContainer = gd.closest('#notebook-container');\n",
       "if (notebookContainer) {{\n",
       "    x.observe(notebookContainer, {childList: true});\n",
       "}}\n",
       "\n",
       "// Listen for the clearing of the current output cell\n",
       "var outputEl = gd.closest('.output');\n",
       "if (outputEl) {{\n",
       "    x.observe(outputEl, {childList: true});\n",
       "}}\n",
       "\n",
       "                        })                };                });            </script>        </div>"
      ]
     },
     "metadata": {},
     "output_type": "display_data"
    }
   ],
   "source": [
    "import plotly.express as px\n",
    "import pandas as pd\n",
    "from sklearn.decomposition import PCA\n",
    "\n",
    "# Assuming y_kmeans and transformed_features are already defined\n",
    "\n",
    "# Perform PCA to reduce dimensions to 3\n",
    "pca = PCA(n_components=3)\n",
    "principal_components = pca.fit_transform(transformed_features)\n",
    "\n",
    "# Create a DataFrame with the principal components and cluster labels\n",
    "df_pca = pd.DataFrame(data=principal_components, columns=['PC1', 'PC2', 'PC3'])\n",
    "df_pca['Cluster'] = y_kmeans_2\n",
    "\n",
    "# Plot the 3D scatter plot using Plotly\n",
    "fig = px.scatter_3d(df_pca, x='PC1', y='PC2', z='PC3', color='Cluster', title='3D Scatter Plot of Clusters')\n",
    "\n",
    "# Show the plot\n",
    "fig.show()"
   ]
  },
  {
   "cell_type": "code",
   "execution_count": 137,
   "metadata": {},
   "outputs": [
    {
     "data": {
      "text/html": [
       "<div>\n",
       "<style scoped>\n",
       "    .dataframe tbody tr th:only-of-type {\n",
       "        vertical-align: middle;\n",
       "    }\n",
       "\n",
       "    .dataframe tbody tr th {\n",
       "        vertical-align: top;\n",
       "    }\n",
       "\n",
       "    .dataframe thead th {\n",
       "        text-align: right;\n",
       "    }\n",
       "</style>\n",
       "<table border=\"1\" class=\"dataframe\">\n",
       "  <thead>\n",
       "    <tr style=\"text-align: right;\">\n",
       "      <th></th>\n",
       "      <th>w1_b_7</th>\n",
       "      <th>w1_h_4</th>\n",
       "      <th>w1_c_1</th>\n",
       "      <th>w1_b_8</th>\n",
       "      <th>totroom</th>\n",
       "    </tr>\n",
       "    <tr>\n",
       "      <th>4Cluster</th>\n",
       "      <th></th>\n",
       "      <th></th>\n",
       "      <th></th>\n",
       "      <th></th>\n",
       "      <th></th>\n",
       "    </tr>\n",
       "  </thead>\n",
       "  <tbody>\n",
       "    <tr>\n",
       "      <th>0</th>\n",
       "      <td>0.02</td>\n",
       "      <td>67415.09</td>\n",
       "      <td>3.26</td>\n",
       "      <td>1568.87</td>\n",
       "      <td>9.98</td>\n",
       "    </tr>\n",
       "    <tr>\n",
       "      <th>1</th>\n",
       "      <td>0.03</td>\n",
       "      <td>74290.32</td>\n",
       "      <td>6.40</td>\n",
       "      <td>710.53</td>\n",
       "      <td>6.97</td>\n",
       "    </tr>\n",
       "    <tr>\n",
       "      <th>2</th>\n",
       "      <td>0.55</td>\n",
       "      <td>191750.00</td>\n",
       "      <td>5.00</td>\n",
       "      <td>2219.80</td>\n",
       "      <td>13.50</td>\n",
       "    </tr>\n",
       "    <tr>\n",
       "      <th>3</th>\n",
       "      <td>0.06</td>\n",
       "      <td>45072.14</td>\n",
       "      <td>2.90</td>\n",
       "      <td>545.58</td>\n",
       "      <td>5.71</td>\n",
       "    </tr>\n",
       "  </tbody>\n",
       "</table>\n",
       "</div>"
      ],
      "text/plain": [
       "          w1_b_7     w1_h_4  w1_c_1   w1_b_8  totroom\n",
       "4Cluster                                             \n",
       "0           0.02   67415.09    3.26  1568.87     9.98\n",
       "1           0.03   74290.32    6.40   710.53     6.97\n",
       "2           0.55  191750.00    5.00  2219.80    13.50\n",
       "3           0.06   45072.14    2.90   545.58     5.71"
      ]
     },
     "execution_count": 137,
     "metadata": {},
     "output_type": "execute_result"
    }
   ],
   "source": [
    "cluster_summary_2 = merged.groupby('4Cluster')[numerical_features].mean().round(2)\n",
    "cluster_summary_2"
   ]
  },
  {
   "cell_type": "code",
   "execution_count": 138,
   "metadata": {},
   "outputs": [
    {
     "data": {
      "text/plain": [
       "4Cluster\n",
       "0    53\n",
       "1    62\n",
       "2    20\n",
       "3    97\n",
       "dtype: int64"
      ]
     },
     "execution_count": 138,
     "metadata": {},
     "output_type": "execute_result"
    }
   ],
   "source": [
    "cluster_summary_2 = merged.groupby('4Cluster')[numerical_features].size()\n",
    "cluster_summary_2"
   ]
  },
  {
   "cell_type": "markdown",
   "metadata": {},
   "source": [
    "### Finding Outliers"
   ]
  },
  {
   "cell_type": "code",
   "execution_count": 139,
   "metadata": {},
   "outputs": [],
   "source": [
    "cluster0 = merged[merged['3Cluster'] == 0]\n",
    "cluster1 = merged[merged['3Cluster'] == 1]\n",
    "cluster2 = merged[merged['3Cluster'] == 2]\n",
    "# cluster3 = merged[merged['4Cluster'] == 3]"
   ]
  },
  {
   "cell_type": "markdown",
   "metadata": {},
   "source": [
    "##### Cluster 0"
   ]
  },
  {
   "cell_type": "code",
   "execution_count": 140,
   "metadata": {},
   "outputs": [
    {
     "data": {
      "text/plain": [
       "73.13"
      ]
     },
     "execution_count": 140,
     "metadata": {},
     "output_type": "execute_result"
    }
   ],
   "source": [
    "# Mean electricity consumption for cluster0\n",
    "cluster0_mean = cluster0['consumption_y'].mean().round(2)\n",
    "cluster0_mean"
   ]
  },
  {
   "cell_type": "code",
   "execution_count": 141,
   "metadata": {},
   "outputs": [
    {
     "data": {
      "image/png": "[encoded data removed]",
      "text/plain": [
       "<Figure size 720x432 with 1 Axes>"
      ]
     },
     "metadata": {
      "needs_background": "light"
     },
     "output_type": "display_data"
    }
   ],
   "source": [
    "cluster0_cons = cluster0['consumption_y']\n",
    "\n",
    "plt.figure(figsize=(10, 6))\n",
    "\n",
    "sns.boxplot(x='consumption_y', data=cluster0)\n",
    "\n",
    "plt.title('Box Plot of Electricity Consumption(Cluster 0)')\n",
    "plt.xlabel('Electricity Consumption')\n",
    "\n",
    "plt.show()"
   ]
  },
  {
   "cell_type": "code",
   "execution_count": 142,
   "metadata": {},
   "outputs": [
    {
     "name": "stdout",
     "output_type": "stream",
     "text": [
      "Lower bound for outliers: -47.201299999999904\n",
      "Upper bound for outliers: 185.83369999999988\n"
     ]
    },
    {
     "data": {
      "text/html": [
       "<div>\n",
       "<style scoped>\n",
       "    .dataframe tbody tr th:only-of-type {\n",
       "        vertical-align: middle;\n",
       "    }\n",
       "\n",
       "    .dataframe tbody tr th {\n",
       "        vertical-align: top;\n",
       "    }\n",
       "\n",
       "    .dataframe thead th {\n",
       "        text-align: right;\n",
       "    }\n",
       "</style>\n",
       "<table border=\"1\" class=\"dataframe\">\n",
       "  <thead>\n",
       "    <tr style=\"text-align: right;\">\n",
       "      <th></th>\n",
       "      <th>serial</th>\n",
       "      <th>customerref</th>\n",
       "      <th>timestamp</th>\n",
       "      <th>obis</th>\n",
       "      <th>importkwh(kwh)</th>\n",
       "      <th>exportkwh(kwh)</th>\n",
       "      <th>importkvarh(kvarh)</th>\n",
       "      <th>exportkvarh(kvarh)</th>\n",
       "      <th>phaseainstcurrent(a)</th>\n",
       "      <th>phasebinstcurrent(a)</th>\n",
       "      <th>...</th>\n",
       "      <th>concrete_mixture_machine_availability</th>\n",
       "      <th>hair_cutting_machine_availability</th>\n",
       "      <th>generator_battery_availability</th>\n",
       "      <th>bouth_availability</th>\n",
       "      <th>grill_availability</th>\n",
       "      <th>la_unique_id</th>\n",
       "      <th>datetime_y</th>\n",
       "      <th>consumption_y</th>\n",
       "      <th>3Cluster</th>\n",
       "      <th>4Cluster</th>\n",
       "    </tr>\n",
       "  </thead>\n",
       "  <tbody>\n",
       "    <tr>\n",
       "      <th>22</th>\n",
       "      <td>20708496</td>\n",
       "      <td>210072610</td>\n",
       "      <td>1.698530e+12</td>\n",
       "      <td>LP</td>\n",
       "      <td>5995.870</td>\n",
       "      <td>0.0</td>\n",
       "      <td>324.644</td>\n",
       "      <td>236.1080</td>\n",
       "      <td>0.139</td>\n",
       "      <td>1.796</td>\n",
       "      <td>...</td>\n",
       "      <td>0.0</td>\n",
       "      <td>0.0</td>\n",
       "      <td>0.0</td>\n",
       "      <td>0.0</td>\n",
       "      <td>0.0</td>\n",
       "      <td>10210072610</td>\n",
       "      <td>2023-11-30</td>\n",
       "      <td>230.383</td>\n",
       "      <td>0</td>\n",
       "      <td>0</td>\n",
       "    </tr>\n",
       "    <tr>\n",
       "      <th>24</th>\n",
       "      <td>20708530</td>\n",
       "      <td>211015409</td>\n",
       "      <td>1.698540e+12</td>\n",
       "      <td>LP</td>\n",
       "      <td>4176.482</td>\n",
       "      <td>0.0</td>\n",
       "      <td>324.644</td>\n",
       "      <td>236.1080</td>\n",
       "      <td>0.139</td>\n",
       "      <td>1.796</td>\n",
       "      <td>...</td>\n",
       "      <td>0.0</td>\n",
       "      <td>0.0</td>\n",
       "      <td>0.0</td>\n",
       "      <td>0.0</td>\n",
       "      <td>0.0</td>\n",
       "      <td>10211015409</td>\n",
       "      <td>2023-11-30</td>\n",
       "      <td>197.416</td>\n",
       "      <td>0</td>\n",
       "      <td>0</td>\n",
       "    </tr>\n",
       "    <tr>\n",
       "      <th>218</th>\n",
       "      <td>19729210</td>\n",
       "      <td>309232308</td>\n",
       "      <td>1.698520e+12</td>\n",
       "      <td>LP</td>\n",
       "      <td>7148.968</td>\n",
       "      <td>0.0</td>\n",
       "      <td>378.798</td>\n",
       "      <td>2451.7961</td>\n",
       "      <td>8.510</td>\n",
       "      <td>17.099</td>\n",
       "      <td>...</td>\n",
       "      <td>0.0</td>\n",
       "      <td>0.0</td>\n",
       "      <td>0.0</td>\n",
       "      <td>0.0</td>\n",
       "      <td>0.0</td>\n",
       "      <td>10309232308</td>\n",
       "      <td>2023-11-30</td>\n",
       "      <td>224.015</td>\n",
       "      <td>0</td>\n",
       "      <td>0</td>\n",
       "    </tr>\n",
       "  </tbody>\n",
       "</table>\n",
       "<p>3 rows × 833 columns</p>\n",
       "</div>"
      ],
      "text/plain": [
       "       serial  customerref     timestamp obis  importkwh(kwh)  exportkwh(kwh)  \\\n",
       "22   20708496    210072610  1.698530e+12   LP        5995.870             0.0   \n",
       "24   20708530    211015409  1.698540e+12   LP        4176.482             0.0   \n",
       "218  19729210    309232308  1.698520e+12   LP        7148.968             0.0   \n",
       "\n",
       "     importkvarh(kvarh)  exportkvarh(kvarh)  phaseainstcurrent(a)  \\\n",
       "22              324.644            236.1080                 0.139   \n",
       "24              324.644            236.1080                 0.139   \n",
       "218             378.798           2451.7961                 8.510   \n",
       "\n",
       "     phasebinstcurrent(a)  ...  concrete_mixture_machine_availability  \\\n",
       "22                  1.796  ...                                    0.0   \n",
       "24                  1.796  ...                                    0.0   \n",
       "218                17.099  ...                                    0.0   \n",
       "\n",
       "     hair_cutting_machine_availability  generator_battery_availability  \\\n",
       "22                                 0.0                             0.0   \n",
       "24                                 0.0                             0.0   \n",
       "218                                0.0                             0.0   \n",
       "\n",
       "     bouth_availability  grill_availability  la_unique_id  datetime_y  \\\n",
       "22                  0.0                 0.0   10210072610  2023-11-30   \n",
       "24                  0.0                 0.0   10211015409  2023-11-30   \n",
       "218                 0.0                 0.0   10309232308  2023-11-30   \n",
       "\n",
       "     consumption_y  3Cluster  4Cluster  \n",
       "22         230.383         0         0  \n",
       "24         197.416         0         0  \n",
       "218        224.015         0         0  \n",
       "\n",
       "[3 rows x 833 columns]"
      ]
     },
     "execution_count": 142,
     "metadata": {},
     "output_type": "execute_result"
    }
   ],
   "source": [
    "# Finding Outliers by IQR\n",
    "Q1 = cluster0_cons.quantile(0.25)\n",
    "Q3 = cluster0_cons.quantile(0.75)\n",
    "\n",
    "IQR = Q3 - Q1\n",
    "\n",
    "lower_bound = Q1 - 1.5 * IQR\n",
    "upper_bound = Q3 + 1.5 * IQR\n",
    "\n",
    "outliers0 = cluster0[(cluster0_cons < lower_bound) | (cluster0_cons > upper_bound)]\n",
    "\n",
    "print(f\"Lower bound for outliers: {lower_bound}\")\n",
    "print(f\"Upper bound for outliers: {upper_bound}\")\n",
    "outliers0\n"
   ]
  },
  {
   "cell_type": "code",
   "execution_count": 143,
   "metadata": {},
   "outputs": [
    {
     "data": {
      "image/png": "[encoded data removed]",
      "text/plain": [
       "<Figure size 1080x576 with 1 Axes>"
      ]
     },
     "metadata": {
      "needs_background": "light"
     },
     "output_type": "display_data"
    }
   ],
   "source": [
    "plt.figure(figsize=(15, 8))\n",
    "sns.scatterplot(x=range(len(cluster0)), y='consumption_y', data=cluster0)\n",
    "plt.axhline(y=cluster0_mean, color='r', linestyle='--', label=f'Mean Consumption ({cluster0_mean})')\n",
    "plt.axhline(y=lower_bound, color='g', linestyle='--', label=f'Lower Bound ({lower_bound})')\n",
    "plt.axhline(y=upper_bound, color='g', linestyle='--', label=f'Upper Bound ({upper_bound})')\n",
    "plt.title('Cluster 0 Electricity Consumption')\n",
    "plt.xlabel('Index')\n",
    "plt.ylabel('Consumption')\n",
    "plt.show()"
   ]
  },
  {
   "cell_type": "markdown",
   "metadata": {},
   "source": [
    "##### Cluster 1"
   ]
  },
  {
   "cell_type": "code",
   "execution_count": 144,
   "metadata": {},
   "outputs": [
    {
     "data": {
      "text/plain": [
       "101.8"
      ]
     },
     "execution_count": 144,
     "metadata": {},
     "output_type": "execute_result"
    }
   ],
   "source": [
    "cluster1_mean = cluster1['consumption_y'].mean().round(2)\n",
    "cluster1_mean"
   ]
  },
  {
   "cell_type": "code",
   "execution_count": 145,
   "metadata": {},
   "outputs": [
    {
     "data": {
      "image/png": "[encoded data removed]",
      "text/plain": [
       "<Figure size 720x432 with 1 Axes>"
      ]
     },
     "metadata": {
      "needs_background": "light"
     },
     "output_type": "display_data"
    }
   ],
   "source": [
    "cluster1_cons = cluster1['consumption_y']\n",
    "\n",
    "plt.figure(figsize=(10, 6))\n",
    "\n",
    "sns.boxplot(x='consumption_y', data=cluster1)\n",
    "\n",
    "plt.title('Box Plot of Electricity Consumption(Cluster 1)')\n",
    "plt.xlabel('Electricity Consumption')\n",
    "\n",
    "plt.show()"
   ]
  },
  {
   "cell_type": "code",
   "execution_count": 146,
   "metadata": {},
   "outputs": [
    {
     "name": "stdout",
     "output_type": "stream",
     "text": [
      "Lower bound for outliers: -57.12250000000029\n",
      "Upper bound for outliers: 238.58150000000035\n"
     ]
    },
    {
     "data": {
      "text/html": [
       "<div>\n",
       "<style scoped>\n",
       "    .dataframe tbody tr th:only-of-type {\n",
       "        vertical-align: middle;\n",
       "    }\n",
       "\n",
       "    .dataframe tbody tr th {\n",
       "        vertical-align: top;\n",
       "    }\n",
       "\n",
       "    .dataframe thead th {\n",
       "        text-align: right;\n",
       "    }\n",
       "</style>\n",
       "<table border=\"1\" class=\"dataframe\">\n",
       "  <thead>\n",
       "    <tr style=\"text-align: right;\">\n",
       "      <th></th>\n",
       "      <th>serial</th>\n",
       "      <th>customerref</th>\n",
       "      <th>timestamp</th>\n",
       "      <th>obis</th>\n",
       "      <th>importkwh(kwh)</th>\n",
       "      <th>exportkwh(kwh)</th>\n",
       "      <th>importkvarh(kvarh)</th>\n",
       "      <th>exportkvarh(kvarh)</th>\n",
       "      <th>phaseainstcurrent(a)</th>\n",
       "      <th>phasebinstcurrent(a)</th>\n",
       "      <th>...</th>\n",
       "      <th>concrete_mixture_machine_availability</th>\n",
       "      <th>hair_cutting_machine_availability</th>\n",
       "      <th>generator_battery_availability</th>\n",
       "      <th>bouth_availability</th>\n",
       "      <th>grill_availability</th>\n",
       "      <th>la_unique_id</th>\n",
       "      <th>datetime_y</th>\n",
       "      <th>consumption_y</th>\n",
       "      <th>3Cluster</th>\n",
       "      <th>4Cluster</th>\n",
       "    </tr>\n",
       "  </thead>\n",
       "  <tbody>\n",
       "    <tr>\n",
       "      <th>64</th>\n",
       "      <td>22703452</td>\n",
       "      <td>301401606</td>\n",
       "      <td>1.698530e+12</td>\n",
       "      <td>LP</td>\n",
       "      <td>2295.351</td>\n",
       "      <td>2052.051</td>\n",
       "      <td>503.7511</td>\n",
       "      <td>3548.1470</td>\n",
       "      <td>0.295</td>\n",
       "      <td>0.291</td>\n",
       "      <td>...</td>\n",
       "      <td>0.0</td>\n",
       "      <td>0.0</td>\n",
       "      <td>0.0</td>\n",
       "      <td>0.0</td>\n",
       "      <td>0.0</td>\n",
       "      <td>10301401606</td>\n",
       "      <td>2023-11-30</td>\n",
       "      <td>276.2540</td>\n",
       "      <td>1</td>\n",
       "      <td>1</td>\n",
       "    </tr>\n",
       "    <tr>\n",
       "      <th>152</th>\n",
       "      <td>20706121</td>\n",
       "      <td>306011904</td>\n",
       "      <td>1.698540e+12</td>\n",
       "      <td>LP</td>\n",
       "      <td>9115.262</td>\n",
       "      <td>0.000</td>\n",
       "      <td>503.7511</td>\n",
       "      <td>3548.1470</td>\n",
       "      <td>4.264</td>\n",
       "      <td>0.291</td>\n",
       "      <td>...</td>\n",
       "      <td>0.0</td>\n",
       "      <td>0.0</td>\n",
       "      <td>0.0</td>\n",
       "      <td>0.0</td>\n",
       "      <td>0.0</td>\n",
       "      <td>10306011904</td>\n",
       "      <td>2023-11-30</td>\n",
       "      <td>263.3499</td>\n",
       "      <td>1</td>\n",
       "      <td>1</td>\n",
       "    </tr>\n",
       "    <tr>\n",
       "      <th>211</th>\n",
       "      <td>18722987</td>\n",
       "      <td>308787303</td>\n",
       "      <td>1.699450e+12</td>\n",
       "      <td>LP</td>\n",
       "      <td>7761.900</td>\n",
       "      <td>0.000</td>\n",
       "      <td>378.7980</td>\n",
       "      <td>2451.7961</td>\n",
       "      <td>8.510</td>\n",
       "      <td>17.099</td>\n",
       "      <td>...</td>\n",
       "      <td>0.0</td>\n",
       "      <td>0.0</td>\n",
       "      <td>0.0</td>\n",
       "      <td>0.0</td>\n",
       "      <td>0.0</td>\n",
       "      <td>10308787303</td>\n",
       "      <td>2023-11-30</td>\n",
       "      <td>498.7900</td>\n",
       "      <td>1</td>\n",
       "      <td>1</td>\n",
       "    </tr>\n",
       "  </tbody>\n",
       "</table>\n",
       "<p>3 rows × 833 columns</p>\n",
       "</div>"
      ],
      "text/plain": [
       "       serial  customerref     timestamp obis  importkwh(kwh)  exportkwh(kwh)  \\\n",
       "64   22703452    301401606  1.698530e+12   LP        2295.351        2052.051   \n",
       "152  20706121    306011904  1.698540e+12   LP        9115.262           0.000   \n",
       "211  18722987    308787303  1.699450e+12   LP        7761.900           0.000   \n",
       "\n",
       "     importkvarh(kvarh)  exportkvarh(kvarh)  phaseainstcurrent(a)  \\\n",
       "64             503.7511           3548.1470                 0.295   \n",
       "152            503.7511           3548.1470                 4.264   \n",
       "211            378.7980           2451.7961                 8.510   \n",
       "\n",
       "     phasebinstcurrent(a)  ...  concrete_mixture_machine_availability  \\\n",
       "64                  0.291  ...                                    0.0   \n",
       "152                 0.291  ...                                    0.0   \n",
       "211                17.099  ...                                    0.0   \n",
       "\n",
       "     hair_cutting_machine_availability  generator_battery_availability  \\\n",
       "64                                 0.0                             0.0   \n",
       "152                                0.0                             0.0   \n",
       "211                                0.0                             0.0   \n",
       "\n",
       "     bouth_availability  grill_availability  la_unique_id  datetime_y  \\\n",
       "64                  0.0                 0.0   10301401606  2023-11-30   \n",
       "152                 0.0                 0.0   10306011904  2023-11-30   \n",
       "211                 0.0                 0.0   10308787303  2023-11-30   \n",
       "\n",
       "     consumption_y  3Cluster  4Cluster  \n",
       "64        276.2540         1         1  \n",
       "152       263.3499         1         1  \n",
       "211       498.7900         1         1  \n",
       "\n",
       "[3 rows x 833 columns]"
      ]
     },
     "execution_count": 146,
     "metadata": {},
     "output_type": "execute_result"
    }
   ],
   "source": [
    "Q1 = cluster1_cons.quantile(0.25)\n",
    "Q3 = cluster1_cons.quantile(0.75)\n",
    "\n",
    "IQR = Q3 - Q1\n",
    "\n",
    "lower_bound = Q1 - 1.5 * IQR\n",
    "upper_bound = Q3 + 1.5 * IQR\n",
    "\n",
    "outliers1 = cluster1[(cluster1_cons < lower_bound) | (cluster1_cons > upper_bound)]\n",
    "\n",
    "print(f\"Lower bound for outliers: {lower_bound}\")\n",
    "print(f\"Upper bound for outliers: {upper_bound}\")\n",
    "outliers1"
   ]
  },
  {
   "cell_type": "code",
   "execution_count": 147,
   "metadata": {},
   "outputs": [
    {
     "data": {
      "image/png": "[encoded data removed]",
      "text/plain": [
       "<Figure size 1080x576 with 1 Axes>"
      ]
     },
     "metadata": {
      "needs_background": "light"
     },
     "output_type": "display_data"
    }
   ],
   "source": [
    "plt.figure(figsize=(15, 8))\n",
    "sns.scatterplot(x=range(len(cluster1)), y='consumption_y', data=cluster1)\n",
    "plt.axhline(y=cluster1_mean, color='r', linestyle='--', label=f'Mean Consumption ({cluster1_mean})')\n",
    "plt.axhline(y=lower_bound, color='g', linestyle='--', label=f'Lower Bound ({lower_bound})')\n",
    "plt.axhline(y=upper_bound, color='g', linestyle='--', label=f'Upper Bound ({upper_bound})')\n",
    "plt.title('Cluster 1 Electricity Consumption')\n",
    "plt.xlabel('Index')\n",
    "plt.ylabel('Consumption')\n",
    "plt.show()"
   ]
  },
  {
   "cell_type": "markdown",
   "metadata": {},
   "source": [
    "##### Cluster 2"
   ]
  },
  {
   "cell_type": "code",
   "execution_count": 148,
   "metadata": {},
   "outputs": [
    {
     "data": {
      "text/plain": [
       "141.85"
      ]
     },
     "execution_count": 148,
     "metadata": {},
     "output_type": "execute_result"
    }
   ],
   "source": [
    "cluster2_mean = cluster2['consumption_y'].mean().round(2)\n",
    "cluster2_mean"
   ]
  },
  {
   "cell_type": "code",
   "execution_count": 149,
   "metadata": {},
   "outputs": [
    {
     "data": {
      "image/png": "[encoded data removed]",
      "text/plain": [
       "<Figure size 720x432 with 1 Axes>"
      ]
     },
     "metadata": {
      "needs_background": "light"
     },
     "output_type": "display_data"
    }
   ],
   "source": [
    "cluster2_cons = cluster2['consumption_y']\n",
    "\n",
    "plt.figure(figsize=(10, 6))\n",
    "\n",
    "sns.boxplot(x='consumption_y', data=cluster2)\n",
    "\n",
    "plt.title('Box Plot of Electricity Consumption(Cluster 2)')\n",
    "plt.xlabel('Electricity Consumption')\n",
    "\n",
    "plt.show()"
   ]
  },
  {
   "cell_type": "code",
   "execution_count": 150,
   "metadata": {},
   "outputs": [
    {
     "name": "stdout",
     "output_type": "stream",
     "text": [
      "Lower bound for outliers: -106.11862500000035\n",
      "Upper bound for outliers: 356.2783750000008\n"
     ]
    },
    {
     "data": {
      "text/html": [
       "<div>\n",
       "<style scoped>\n",
       "    .dataframe tbody tr th:only-of-type {\n",
       "        vertical-align: middle;\n",
       "    }\n",
       "\n",
       "    .dataframe tbody tr th {\n",
       "        vertical-align: top;\n",
       "    }\n",
       "\n",
       "    .dataframe thead th {\n",
       "        text-align: right;\n",
       "    }\n",
       "</style>\n",
       "<table border=\"1\" class=\"dataframe\">\n",
       "  <thead>\n",
       "    <tr style=\"text-align: right;\">\n",
       "      <th></th>\n",
       "      <th>serial</th>\n",
       "      <th>customerref</th>\n",
       "      <th>timestamp</th>\n",
       "      <th>obis</th>\n",
       "      <th>importkwh(kwh)</th>\n",
       "      <th>exportkwh(kwh)</th>\n",
       "      <th>importkvarh(kvarh)</th>\n",
       "      <th>exportkvarh(kvarh)</th>\n",
       "      <th>phaseainstcurrent(a)</th>\n",
       "      <th>phasebinstcurrent(a)</th>\n",
       "      <th>...</th>\n",
       "      <th>concrete_mixture_machine_availability</th>\n",
       "      <th>hair_cutting_machine_availability</th>\n",
       "      <th>generator_battery_availability</th>\n",
       "      <th>bouth_availability</th>\n",
       "      <th>grill_availability</th>\n",
       "      <th>la_unique_id</th>\n",
       "      <th>datetime_y</th>\n",
       "      <th>consumption_y</th>\n",
       "      <th>3Cluster</th>\n",
       "      <th>4Cluster</th>\n",
       "    </tr>\n",
       "  </thead>\n",
       "  <tbody>\n",
       "    <tr>\n",
       "      <th>18</th>\n",
       "      <td>21301180</td>\n",
       "      <td>208108307</td>\n",
       "      <td>1.696100e+12</td>\n",
       "      <td>LP</td>\n",
       "      <td>4420.483</td>\n",
       "      <td>2787.737</td>\n",
       "      <td>324.6440</td>\n",
       "      <td>236.108</td>\n",
       "      <td>0.139</td>\n",
       "      <td>1.796</td>\n",
       "      <td>...</td>\n",
       "      <td>0.0</td>\n",
       "      <td>0.0</td>\n",
       "      <td>0.0</td>\n",
       "      <td>0.0</td>\n",
       "      <td>0.0</td>\n",
       "      <td>10208108307</td>\n",
       "      <td>2023-11-30</td>\n",
       "      <td>447.001</td>\n",
       "      <td>2</td>\n",
       "      <td>2</td>\n",
       "    </tr>\n",
       "    <tr>\n",
       "      <th>91</th>\n",
       "      <td>22733873</td>\n",
       "      <td>302971108</td>\n",
       "      <td>1.696700e+12</td>\n",
       "      <td>LP</td>\n",
       "      <td>17.944</td>\n",
       "      <td>0.000</td>\n",
       "      <td>503.7511</td>\n",
       "      <td>3548.147</td>\n",
       "      <td>1.306</td>\n",
       "      <td>0.291</td>\n",
       "      <td>...</td>\n",
       "      <td>0.0</td>\n",
       "      <td>0.0</td>\n",
       "      <td>0.0</td>\n",
       "      <td>0.0</td>\n",
       "      <td>0.0</td>\n",
       "      <td>10302971108</td>\n",
       "      <td>2023-11-30</td>\n",
       "      <td>420.932</td>\n",
       "      <td>2</td>\n",
       "      <td>2</td>\n",
       "    </tr>\n",
       "  </tbody>\n",
       "</table>\n",
       "<p>2 rows × 833 columns</p>\n",
       "</div>"
      ],
      "text/plain": [
       "      serial  customerref     timestamp obis  importkwh(kwh)  exportkwh(kwh)  \\\n",
       "18  21301180    208108307  1.696100e+12   LP        4420.483        2787.737   \n",
       "91  22733873    302971108  1.696700e+12   LP          17.944           0.000   \n",
       "\n",
       "    importkvarh(kvarh)  exportkvarh(kvarh)  phaseainstcurrent(a)  \\\n",
       "18            324.6440             236.108                 0.139   \n",
       "91            503.7511            3548.147                 1.306   \n",
       "\n",
       "    phasebinstcurrent(a)  ...  concrete_mixture_machine_availability  \\\n",
       "18                 1.796  ...                                    0.0   \n",
       "91                 0.291  ...                                    0.0   \n",
       "\n",
       "    hair_cutting_machine_availability  generator_battery_availability  \\\n",
       "18                                0.0                             0.0   \n",
       "91                                0.0                             0.0   \n",
       "\n",
       "    bouth_availability  grill_availability  la_unique_id  datetime_y  \\\n",
       "18                 0.0                 0.0   10208108307  2023-11-30   \n",
       "91                 0.0                 0.0   10302971108  2023-11-30   \n",
       "\n",
       "    consumption_y  3Cluster  4Cluster  \n",
       "18        447.001         2         2  \n",
       "91        420.932         2         2  \n",
       "\n",
       "[2 rows x 833 columns]"
      ]
     },
     "execution_count": 150,
     "metadata": {},
     "output_type": "execute_result"
    }
   ],
   "source": [
    "Q1 = cluster2_cons.quantile(0.25)\n",
    "Q3 = cluster2_cons.quantile(0.75)\n",
    "\n",
    "IQR = Q3 - Q1\n",
    "\n",
    "lower_bound = Q1 - 1.5 * IQR\n",
    "upper_bound = Q3 + 1.5 * IQR\n",
    "\n",
    "outliers2 = cluster2[(cluster2_cons < lower_bound) | (cluster2_cons > upper_bound)]\n",
    "\n",
    "print(f\"Lower bound for outliers: {lower_bound}\")\n",
    "print(f\"Upper bound for outliers: {upper_bound}\")\n",
    "outliers2"
   ]
  },
  {
   "cell_type": "code",
   "execution_count": 151,
   "metadata": {},
   "outputs": [
    {
     "data": {
      "image/png": "[encoded data removed]",
      "text/plain": [
       "<Figure size 1080x576 with 1 Axes>"
      ]
     },
     "metadata": {
      "needs_background": "light"
     },
     "output_type": "display_data"
    }
   ],
   "source": [
    "plt.figure(figsize=(15, 8))\n",
    "sns.scatterplot(x=range(len(cluster2)), y='consumption_y', data=cluster2)\n",
    "plt.axhline(y=cluster2_mean, color='r', linestyle='--', label=f'Mean Consumption ({cluster2_mean})')\n",
    "plt.axhline(y=lower_bound, color='g', linestyle='--', label=f'Lower Bound ({lower_bound})')\n",
    "plt.axhline(y=upper_bound, color='g', linestyle='--', label=f'Upper Bound ({upper_bound})')\n",
    "plt.title('Cluster 2 Electricity Consumption')\n",
    "plt.xlabel('Index')\n",
    "plt.ylabel('Consumption')\n",
    "plt.show()"
   ]
  },
  {
   "cell_type": "markdown",
   "metadata": {},
   "source": [
    "##### Cluster 3"
   ]
  },
  {
   "cell_type": "code",
   "execution_count": 152,
   "metadata": {},
   "outputs": [],
   "source": [
    "# cluster3_mean = cluster3['consumption_y'].mean().round(2)\n",
    "# cluster3_mean"
   ]
  },
  {
   "cell_type": "code",
   "execution_count": 153,
   "metadata": {},
   "outputs": [],
   "source": [
    "# cluster3_cons = cluster3['consumption_y']\n",
    "\n",
    "# plt.figure(figsize=(10, 6))\n",
    "\n",
    "# sns.boxplot(x='consumption_y', data=cluster3)\n",
    "\n",
    "# plt.title('Box Plot of Electricity Consumption(Cluster 3)')\n",
    "# plt.xlabel('Electricity Consumption')\n",
    "\n",
    "# plt.show()"
   ]
  },
  {
   "cell_type": "code",
   "execution_count": 154,
   "metadata": {},
   "outputs": [],
   "source": [
    "# Q1 = cluster3_cons.quantile(0.25)\n",
    "# Q3 = cluster3_cons.quantile(0.75)\n",
    "\n",
    "# IQR = Q3 - Q1\n",
    "\n",
    "# lower_bound = Q1 - 1.5 * IQR\n",
    "# upper_bound = Q3 + 1.5 * IQR\n",
    "\n",
    "# outliers3 = cluster3[(cluster3_cons < lower_bound) | (cluster3_cons > upper_bound)]\n",
    "\n",
    "# print(f\"Lower bound for outliers: {lower_bound}\")\n",
    "# print(f\"Upper bound for outliers: {upper_bound}\")\n",
    "# outliers3"
   ]
  },
  {
   "cell_type": "code",
   "execution_count": 155,
   "metadata": {},
   "outputs": [],
   "source": [
    "# plt.figure(figsize=(15, 8))\n",
    "# sns.scatterplot(x=range(len(cluster3)), y='consumption_y', data=cluster3)\n",
    "# plt.axhline(y=cluster3_mean, color='r', linestyle='--', label=f'Mean Consumption ({cluster3_mean})')\n",
    "# plt.axhline(y=lower_bound, color='g', linestyle='--', label=f'Lower Bound ({lower_bound})')\n",
    "# plt.axhline(y=upper_bound, color='g', linestyle='--', label=f'Upper Bound ({upper_bound})')\n",
    "# plt.title('Cluster 3 Electricity Consumption')\n",
    "# plt.xlabel('Index')\n",
    "# plt.ylabel('Consumption')\n",
    "# plt.show()"
   ]
  },
  {
   "cell_type": "markdown",
   "metadata": {},
   "source": [
    "### Summary"
   ]
  },
  {
   "cell_type": "code",
   "execution_count": 156,
   "metadata": {},
   "outputs": [
    {
     "name": "stdout",
     "output_type": "stream",
     "text": [
      "Cluster 0 Mean Consumption: 73.13\n",
      "Cluster 1 Mean Consumption: 101.8\n",
      "Cluster 2 Mean Consumption: 141.85\n"
     ]
    }
   ],
   "source": [
    "print(f'Cluster 0 Mean Consumption: {cluster0_mean}')\n",
    "print(f'Cluster 1 Mean Consumption: {cluster1_mean}')\n",
    "print(f'Cluster 2 Mean Consumption: {cluster2_mean}')\n",
    "# print(f'Cluster 3 Mean Consumption: {cluster3_mean}')"
   ]
  }
 ],
 "metadata": {
  "kernelspec": {
   "display_name": "Python 3",
   "language": "python",
   "name": "python3"
  },
  "language_info": {
   "codemirror_mode": {
    "name": "ipython",
    "version": 3
   },
   "file_extension": ".py",
   "mimetype": "text/x-python",
   "name": "python",
   "nbconvert_exporter": "python",
   "pygments_lexer": "ipython3",
   "version": "3.10.12"
  }
 },
 "nbformat": 4,
 "nbformat_minor": 2
}
