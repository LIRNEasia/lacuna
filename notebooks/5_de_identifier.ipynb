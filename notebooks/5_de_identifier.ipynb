{
 "cells": [
  {
   "cell_type": "code",
   "execution_count": 2,
   "metadata": {},
   "outputs": [],
   "source": [
    "import pandas as pd\n",
    "import uuid"
   ]
  },
  {
   "cell_type": "code",
   "execution_count": 4,
   "metadata": {},
   "outputs": [
    {
     "name": "stdout",
     "output_type": "stream",
     "text": [
      "  account_number ID_option_1                           ID_option_2\n",
      "0          12345      ID0001  9bd31d94-6c0e-11ef-a1e3-f17ca308ffe0\n",
      "1          67890      ID0002  9bd31d95-6c0e-11ef-a1e3-f17ca308ffe0\n",
      "2          54321      ID0003  9bd31d96-6c0e-11ef-a1e3-f17ca308ffe0\n",
      "3          09876      ID0004  9bd31d97-6c0e-11ef-a1e3-f17ca308ffe0\n"
     ]
    }
   ],
   "source": [
    "df = pd.DataFrame(data)\n",
    "\n",
    "def generate_unique_id(n):\n",
    "    return f\"ID{str(n).zfill(4)}\"\n",
    "\n",
    "\n",
    "df['ID_option_1'] = [generate_unique_id(i+1) for i in range(len(df))]\n",
    "\n",
    "df['ID_option_2'] = [str(uuid.uuid1()) for _ in range(len(df))]\n",
    "\n",
    "# Dropping or mask the account_number column\n",
    "#df.drop('account_number', axis=1, inplace=True)\n",
    "\n",
    "print(df)\n"
   ]
  },
  {
   "cell_type": "code",
   "execution_count": 8,
   "metadata": {},
   "outputs": [
    {
     "data": {
      "text/html": [
       "<div>\n",
       "<style scoped>\n",
       "    .dataframe tbody tr th:only-of-type {\n",
       "        vertical-align: middle;\n",
       "    }\n",
       "\n",
       "    .dataframe tbody tr th {\n",
       "        vertical-align: top;\n",
       "    }\n",
       "\n",
       "    .dataframe thead th {\n",
       "        text-align: right;\n",
       "    }\n",
       "</style>\n",
       "<table border=\"1\" class=\"dataframe\">\n",
       "  <thead>\n",
       "    <tr style=\"text-align: right;\">\n",
       "      <th></th>\n",
       "      <th>Unnamed: 0</th>\n",
       "      <th>ACCOUNT_NO</th>\n",
       "      <th>ID</th>\n",
       "    </tr>\n",
       "  </thead>\n",
       "  <tbody>\n",
       "    <tr>\n",
       "      <th>0</th>\n",
       "      <td>0</td>\n",
       "      <td>208949906</td>\n",
       "      <td>ID0001</td>\n",
       "    </tr>\n",
       "    <tr>\n",
       "      <th>1</th>\n",
       "      <td>1</td>\n",
       "      <td>208756405</td>\n",
       "      <td>ID0002</td>\n",
       "    </tr>\n",
       "    <tr>\n",
       "      <th>2</th>\n",
       "      <td>2</td>\n",
       "      <td>202865201</td>\n",
       "      <td>ID0003</td>\n",
       "    </tr>\n",
       "    <tr>\n",
       "      <th>3</th>\n",
       "      <td>3</td>\n",
       "      <td>202792106</td>\n",
       "      <td>ID0004</td>\n",
       "    </tr>\n",
       "    <tr>\n",
       "      <th>4</th>\n",
       "      <td>4</td>\n",
       "      <td>201375702</td>\n",
       "      <td>ID0005</td>\n",
       "    </tr>\n",
       "    <tr>\n",
       "      <th>...</th>\n",
       "      <td>...</td>\n",
       "      <td>...</td>\n",
       "      <td>...</td>\n",
       "    </tr>\n",
       "    <tr>\n",
       "      <th>7991</th>\n",
       "      <td>7991</td>\n",
       "      <td>604973710</td>\n",
       "      <td>ID7992</td>\n",
       "    </tr>\n",
       "    <tr>\n",
       "      <th>7992</th>\n",
       "      <td>7992</td>\n",
       "      <td>602275509</td>\n",
       "      <td>ID7993</td>\n",
       "    </tr>\n",
       "    <tr>\n",
       "      <th>7993</th>\n",
       "      <td>7993</td>\n",
       "      <td>601582509</td>\n",
       "      <td>ID7994</td>\n",
       "    </tr>\n",
       "    <tr>\n",
       "      <th>7994</th>\n",
       "      <td>7994</td>\n",
       "      <td>606375407</td>\n",
       "      <td>ID7995</td>\n",
       "    </tr>\n",
       "    <tr>\n",
       "      <th>7995</th>\n",
       "      <td>7995</td>\n",
       "      <td>601837610</td>\n",
       "      <td>ID7996</td>\n",
       "    </tr>\n",
       "  </tbody>\n",
       "</table>\n",
       "<p>7996 rows × 3 columns</p>\n",
       "</div>"
      ],
      "text/plain": [
       "      Unnamed: 0  ACCOUNT_NO      ID\n",
       "0              0   208949906  ID0001\n",
       "1              1   208756405  ID0002\n",
       "2              2   202865201  ID0003\n",
       "3              3   202792106  ID0004\n",
       "4              4   201375702  ID0005\n",
       "...          ...         ...     ...\n",
       "7991        7991   604973710  ID7992\n",
       "7992        7992   602275509  ID7993\n",
       "7993        7993   601582509  ID7994\n",
       "7994        7994   606375407  ID7995\n",
       "7995        7995   601837610  ID7996\n",
       "\n",
       "[7996 rows x 3 columns]"
      ]
     },
     "execution_count": 8,
     "metadata": {},
     "output_type": "execute_result"
    }
   ],
   "source": [
    "file = '/lirneasia/data/lacuna/raw/z_other/survey_pool_mapped.csv'\n",
    "df = pd.read_csv(file)\n",
    "\n",
    "df"
   ]
  }
 ],
 "metadata": {
  "kernelspec": {
   "display_name": ".venv",
   "language": "python",
   "name": "python3"
  },
  "language_info": {
   "codemirror_mode": {
    "name": "ipython",
    "version": 3
   },
   "file_extension": ".py",
   "mimetype": "text/x-python",
   "name": "python",
   "nbconvert_exporter": "python",
   "pygments_lexer": "ipython3",
   "version": "3.10.12"
  },
  "orig_nbformat": 4
 },
 "nbformat": 4,
 "nbformat_minor": 2
}
